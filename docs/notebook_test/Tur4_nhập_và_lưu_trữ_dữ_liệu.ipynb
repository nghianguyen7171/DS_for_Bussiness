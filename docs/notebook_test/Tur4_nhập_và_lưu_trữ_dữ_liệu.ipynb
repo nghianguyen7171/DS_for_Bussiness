{
  "nbformat": 4,
  "nbformat_minor": 0,
  "metadata": {
    "colab": {
      "provenance": []
    },
    "kernelspec": {
      "name": "python3",
      "display_name": "Python 3"
    },
    "language_info": {
      "name": "python"
    }
  },
  "cells": [
    {
      "cell_type": "markdown",
      "source": [
        "# PHẦN I. ĐỌC VÀ LƯU DỮ LIỆU Ở ĐỊNH DẠNG VĂN BẢN"
      ],
      "metadata": {
        "id": "h_cGm-MAWb8i"
      }
    },
    {
      "cell_type": "markdown",
      "source": [
        "Một số công việc cần chuẩn bị trước khi làm bài tập thực hành:\n",
        "\n",
        "\n",
        "*   Các đoạn code bên dưới và bài tập thực hành được viết trên ngôn Python và sử dụng môi trường Colab của Google để thực thi.\n",
        "*   Lệnh **drive.mount('/content/drive')** giúp kết nối Google Drive với môi trường Colab, cho phép người dùng đọc và ghi dữ liệu giống như trên ổ đĩa cục bộ.\n",
        "*   Sau khi gắn kết thành công, toàn bộ nội dung Drive sẽ nằm trong thư mục **/content/drive/**, trong đó thư mục con phổ biến nhất là **/content/drive/MyDrive/** – nơi lưu trữ dữ liệu cá nhân của bạn. Việc khai báo biến **root_path = \"/content/drive/MyDrive/\"** giúp rút gọn đường dẫn, thuận tiện khi cần gọi tới các file nhiều lần trong chương trình.\n",
        "*   Tất cả file dữ liệu được sử dụng trong các bài thực hành bên dưới đều nằm trong thư mục tên là **data**. Cụ thể các file dữ liệu thực hành sẽ nằm trong thư mục **/content/drive/MyDrive/data/** trên *Google Drive* của bạn. Nếu *Google Drive* của bạn chưa có thư mục này, bạn cần tạo thư mục có tên **data** nằm trong thư mục **/content/drive/MyDrive/**, sau đó copy hoặc kéo thả toàn bộ các file dữ liệu vào đó.\n",
        "*   Các bạn hãy truy cập địa chỉ: https://github.com/tdminh2110-jpg/data_asean/blob/main/data.zip để tải file data.zip. Sau khi tải về, hãy giải nén file này, trong đó sẽ chứa toàn bộ các file dữ liệu cần thiết cho bài thực hành. Tiếp theo, các bạn nhớ sao chép toàn bộ các file này vào thư mục **/content/drive/MyDrive/** trong **Google Drive** để có thể sử dụng trong quá trình làm bài.\n",
        "\n"
      ],
      "metadata": {
        "id": "5A-a5P3OT5T-"
      }
    },
    {
      "cell_type": "code",
      "source": [
        "from google.colab import drive\n",
        "\n",
        "#kết nối Google Drive với môi trường Colab\n",
        "drive.mount('/content/drive')\n",
        "\n",
        "#Hỗ trợ rút gọn đường dẫn, thuận tiện khi cần gọi tới các file nhiều lần trong chương trình.\n",
        "root_path = \"/content/drive/MyDrive/\""
      ],
      "metadata": {
        "id": "XuHbLkuCS4SC",
        "colab": {
          "base_uri": "https://localhost:8080/"
        },
        "outputId": "c92b82c7-61be-4191-9f45-53ad207f4658"
      },
      "execution_count": 3,
      "outputs": [
        {
          "output_type": "stream",
          "name": "stdout",
          "text": [
            "Drive already mounted at /content/drive; to attempt to forcibly remount, call drive.mount(\"/content/drive\", force_remount=True).\n"
          ]
        }
      ]
    },
    {
      "cell_type": "markdown",
      "source": [
        "Bài 1.1: Đọc file /data/asean_gdp_2024.csv chứa dữ liệu GDP của 10 nước ASEAN, sau đó hiển thị lên màn hình thông tin 5 quốc gia có GDP cao nhất."
      ],
      "metadata": {
        "id": "q5UUl7s-RHPc"
      }
    },
    {
      "cell_type": "code",
      "source": [
        "import pandas as pd\n",
        "\n",
        "# Đọc file CSV\n",
        "# df =\n",
        "\n",
        "# Sắp xếp giảm dần theo GDP và lấy 5 quốc gia đứng đầu\n",
        "# top5 =\n",
        "\n",
        "# print(\"5 quốc gia ASEAN có GDP cao nhất năm 2024:\")\n",
        "# print(top5)"
      ],
      "metadata": {
        "id": "W3xBeRclRya4"
      },
      "execution_count": 8,
      "outputs": []
    },
    {
      "cell_type": "markdown",
      "source": [
        "Bài 1.2: Đọc file /data/asean_gdp_2024.csv chứa dữ liệu GDP của 10 nước ASEAN, sau đó hiển thị lên màn hình thông tin 5 quốc gia có GDP thấp nhất."
      ],
      "metadata": {
        "id": "CUq9QgSvXBF2"
      }
    },
    {
      "cell_type": "code",
      "source": [
        "# Đọc file CSV\n",
        "df = pd.read_csv(root_path + \"data/asean_gdp_2024.csv\")\n",
        "\n",
        "#..."
      ],
      "metadata": {
        "id": "ul8db6Bfc5y4"
      },
      "execution_count": 12,
      "outputs": []
    },
    {
      "cell_type": "markdown",
      "source": [
        "Bài 1.3: Đọc file **data/asean_gdp_2024.csv** chứa dữ liệu GDP của 10 nước ASEAN, sau đó hiển thị lên màn hình thông tin với các cột đã được đổi tên sang Tiếng việt. Lưu ý: Khi hiển thị thông tin, cần loại bỏ thông tin liên quan đến tiêu đề cột bằng Tiếng Anh."
      ],
      "metadata": {
        "id": "45XEuKmSdEF0"
      }
    },
    {
      "cell_type": "code",
      "source": [
        "# Lệnh đọc file và xác định tên cột bằng Tiếng Việt\n",
        "\n",
        "# Loại bỏ thông tin liên quan đến tiêu đề cột bằng Tiếng Anh."
      ],
      "metadata": {
        "colab": {
          "base_uri": "https://localhost:8080/"
        },
        "id": "WTdMFDMMdTKy",
        "outputId": "e2eff6e7-93a7-437c-8e67-1e54740dbf19"
      },
      "execution_count": 18,
      "outputs": [
        {
          "output_type": "stream",
          "name": "stdout",
          "text": [
            "Thông tin GDP của 10 quốc gia ASEAN (năm 2024):\n",
            "      Quốc gia   Năm  GDP (tỷ USD)\n",
            "0       Brunei  2024          16.5\n",
            "1     Cambodia  2024          38.2\n",
            "2    Indonesia  2024        1465.0\n",
            "3         Laos  2024          24.5\n",
            "4     Malaysia  2024         420.3\n",
            "5      Myanmar  2024          96.7\n",
            "6  Philippines  2024         560.4\n",
            "7    Singapore  2024         460.2\n",
            "8     Thailand  2024         610.8\n",
            "9      Vietnam  2024         490.6\n"
          ]
        }
      ]
    },
    {
      "cell_type": "markdown",
      "source": [
        "Bài 1.4: Đọc file **data/asean_growth_wide_2015_2024.csv** chứa dữ liệu tăng trưởng GDP của 10 nước ASEAN từ năm 2015 đến năm 2024, sau đó hiển thị lên màn hình thông tin với các cột đã được đổi tên sang Tiếng Anh."
      ],
      "metadata": {
        "id": "3S62ZvFpeXia"
      }
    },
    {
      "cell_type": "code",
      "source": [
        "# Lệnh đọc file và xác định tên cột bằng Tiếng Anh\n",
        "\n",
        "# Loại bỏ thông tin liên quan đến tiêu đề cột bằng Tiếng Việt."
      ],
      "metadata": {
        "colab": {
          "base_uri": "https://localhost:8080/"
        },
        "id": "rIG1OijsjBnP",
        "outputId": "e5da1c35-9734-475e-eff5-ba077da3a822"
      },
      "execution_count": 19,
      "outputs": [
        {
          "output_type": "stream",
          "name": "stdout",
          "text": [
            "GDP Growth of ASEAN Countries (2015–2024):\n",
            "    Country  Growth rate 2015 (%)  Growth rate 2016 (%)  Growth rate 2017 (%)  Growth rate 2018 (%)  Growth rate 2019 (%)  Growth rate 2020 (%)  Growth rate 2021 (%)  Growth rate 2022 (%)  Growth rate 2023 (%)  Growth rate 2024 (%)\n",
            "   Việt Nam                   6.8                   7.4                   6.3                   8.6                   7.2                   6.8                   4.8                   5.2                   7.0                   7.2\n",
            "  Indonesia                   4.0                   5.8                   4.3                   4.6                   5.5                   5.6                   4.7                   3.9                   4.3                   4.9\n",
            "   Thái Lan                   3.8                   3.1                   4.2                   2.5                   2.3                   1.5                   3.2                   2.1                   2.6                   2.6\n",
            "   Malaysia                   5.4                   5.6                   4.3                   3.7                   4.7                   4.2                   5.1                   5.0                   4.1                   4.4\n",
            "Philippines                   4.0                   6.5                   5.6                   6.6                   6.1                   5.5                   6.7                   6.1                   4.8                   4.3\n",
            "  Singapore                   1.7                   2.1                   2.6                   4.1                   3.2                   2.4                   3.8                   3.7                   3.5                   1.6\n",
            "     Brunei                   1.6                   1.9                   2.0                   1.4                   2.4                   1.2                   1.2                   1.1                   1.0                   0.2\n",
            "  Campuchia                   6.7                   6.0                   7.4                   6.2                   7.2                   8.5                   6.5                   7.2                   7.0                   6.0\n",
            "        Lào                   6.0                   6.9                   6.4                   5.2                   6.7                   5.1                   6.9                   6.6                   6.5                   6.4\n",
            "    Myanmar                   4.1                   5.0                   5.4                   5.7                   5.1                   6.0                   4.8                   4.7                   5.4                   4.1\n"
          ]
        }
      ]
    },
    {
      "cell_type": "markdown",
      "source": [
        "Bài 1.5: File dữ liệu dạng Excel **data/VN_Economic_Indicators_2024_with_missing.xlsx** chứa thông tin về một số  chỉ số kinh tế của Việt Nam năm 2024. Tuy nhiên, file dữ liệu này có một số  ô bị thiếu giá trị, hãy thay thế chúng bằng số  0 rồi hiển thị toàn bộ thông tin lên màn hình, sau đó đưa toàn bộ thông tin này ra file Excel khác."
      ],
      "metadata": {
        "id": "tpQSigSb-KI-"
      }
    },
    {
      "cell_type": "code",
      "source": [
        "# Đường dẫn file Excel\n",
        "\n",
        "# Đọc dữ liệu từ sheet có tên \"Vietnam 2024 Indicators\"\n",
        "\n",
        "# Thay thế toàn bộ giá trị NaN bằng 0 bằng cách sử dụng hàm fillna\n",
        "\n",
        "# Hiển thị dữ liệu sau khi xử lý\n",
        "\n",
        "# Lưu dữ liệu ra file Excel mới"
      ],
      "metadata": {
        "colab": {
          "base_uri": "https://localhost:8080/"
        },
        "id": "SyIaNaeG-Kr3",
        "outputId": "aaa045bc-6f7c-4814-c5d4-086f147d126b"
      },
      "execution_count": 23,
      "outputs": [
        {
          "output_type": "stream",
          "name": "stdout",
          "text": [
            "Dữ liệu sau khi thay thế NaN bằng 0:\n",
            "                       Chỉ số  Tháng 1  Tháng 2  Tháng 3  Tháng 4  Tháng 5  \\\n",
            "0  CPI (Consumer Price Index)    104.5    104.8      0.0    105.2    105.5   \n",
            "1             Thất nghiệp (%)      2.4      2.5      2.6      2.4      2.5   \n",
            "2  PPI (Producer Price Index)    107.2    107.5    107.8      0.0    108.3   \n",
            "\n",
            "   Tháng 6  Tháng 7  Tháng 8  Tháng 9  Tháng 10  Tháng 11  Tháng 12  \n",
            "0    105.7    106.0    106.3      0.0     106.7     107.0     107.3  \n",
            "1      0.0      2.7      2.7      2.6       2.5       0.0       2.4  \n",
            "2    108.5    108.9      0.0    109.3     109.6     109.8     110.0  \n",
            "\n",
            "File dữ liệu đã được lưu tại: /content/drive/MyDrive/data/VN_Economic_Indicators_2024_filled.xlsx\n"
          ]
        }
      ]
    },
    {
      "cell_type": "markdown",
      "source": [
        "Bài 1.6: File dữ liệu dạng Excel **data/VN_Economic_Indicators_2024_full.xlsx** chứa thông tin về một số  chỉ số kinh tế của Việt Nam năm 2024. Hãy đọc dữ liệu CPI từ file Excel này và hiển thị lên màn hình cột “Tháng” và cột “Chỉ số CPI”."
      ],
      "metadata": {
        "id": "kMfadnEr-LWR"
      }
    },
    {
      "cell_type": "code",
      "source": [
        "import pandas as pd\n",
        "\n",
        "# Đọc file Excel\n",
        "\n",
        "# Chọn hàng chứa CPI\n",
        "\n",
        "# Bỏ cột \"Chỉ số\" vì chỉ lấy theo tháng\n",
        "\n",
        "# Chuyển từ wide -> long: mỗi tháng thành 1 dòng\n",
        "\n",
        "# Hiển thị kết quả"
      ],
      "metadata": {
        "id": "hrLjc5uI6sHN"
      },
      "execution_count": 26,
      "outputs": []
    },
    {
      "cell_type": "markdown",
      "source": [
        "Bài 1.7: File dữ liệu dạng Excel **data/VN_Economic_Indicators_2024_full.xlsx** chứa thông tin về một số  chỉ số kinh tế của Việt Nam năm 2024. Hãy đọc dữ liệu Thất nghiệp và PPI từ file Excel này và hiển thị lên màn hình cột “Tháng”, cột “Thất nghiệp” và cột \"PPI\"."
      ],
      "metadata": {
        "id": "BsZYv4P5BlW5"
      }
    },
    {
      "cell_type": "code",
      "source": [
        "# Đường dẫn file Excel\n",
        "\n",
        "# Lấy 2 dòng: Thất nghiệp và PPI\n",
        "\n",
        "# Chuyển wide -> long\n",
        "\n",
        "# Gộp 2 bảng theo cột \"Tháng\"\n",
        "\n",
        "# Hiển thị kết quả"
      ],
      "metadata": {
        "id": "lWErsRW0CJw9",
        "colab": {
          "base_uri": "https://localhost:8080/"
        },
        "outputId": "863a2dd1-78b9-441e-922b-3b607fd3fdd6"
      },
      "execution_count": 27,
      "outputs": [
        {
          "output_type": "stream",
          "name": "stdout",
          "text": [
            "Thông tin Thất nghiệp và PPI Việt Nam năm 2024:\n",
            "   Tháng  Thất nghiệp   PPI\n",
            " Tháng 1          2.4 107.2\n",
            " Tháng 2          2.5 107.5\n",
            " Tháng 3          2.6 107.8\n",
            " Tháng 4          2.4 108.0\n",
            " Tháng 5          2.5 108.3\n",
            " Tháng 6          2.6 108.5\n",
            " Tháng 7          2.7 108.9\n",
            " Tháng 8          2.7 109.1\n",
            " Tháng 9          2.6 109.3\n",
            "Tháng 10          2.5 109.6\n",
            "Tháng 11          2.5 109.8\n",
            "Tháng 12          2.4 110.0\n"
          ]
        }
      ]
    },
    {
      "cell_type": "markdown",
      "source": [
        "Bài 1.8: File dữ liệu dạng Excel **data/VN_Economic_Indicators_2024_full.xlsx** chứa thông tin về một số  chỉ số kinh tế của Việt Nam năm 2024. Hãy đọc dữ liệu Thất nghiệp, PPI và CPI từ file Excel này, sau đó hiển thị lên màn hình cột “Tháng”, cột “Thất nghiệp”, cột \"PPI\" và cột \"CPI\", cuối cùng đưa toàn bộ thông tin hiển thị ra một file Excel khác."
      ],
      "metadata": {
        "id": "TX2qyUk9C3up"
      }
    },
    {
      "cell_type": "code",
      "source": [
        "import pandas as pd\n",
        "\n",
        "# Đọc file Excel gốc\n",
        "\n",
        "# Tách từng chỉ số\n",
        "\n",
        "# Chuyển wide -> long cho từng chỉ số\n",
        "\n",
        "# Gộp các bảng lại theo cột \"Tháng\"\n",
        "\n",
        "# Hiển thị dữ liệu\n",
        "\n",
        "# Ghi dữ liệu ra file Excel mới\n"
      ],
      "metadata": {
        "id": "CQ3LlGO7DBPm",
        "colab": {
          "base_uri": "https://localhost:8080/"
        },
        "outputId": "266c3978-68dc-45f7-a556-909db82e8923"
      },
      "execution_count": 28,
      "outputs": [
        {
          "output_type": "stream",
          "name": "stdout",
          "text": [
            "Thông tin CPI, Thất nghiệp và PPI Việt Nam năm 2024:\n",
            "   Tháng   CPI  Thất nghiệp   PPI\n",
            " Tháng 1 104.5          2.4 107.2\n",
            " Tháng 2 104.8          2.5 107.5\n",
            " Tháng 3 105.0          2.6 107.8\n",
            " Tháng 4 105.2          2.4 108.0\n",
            " Tháng 5 105.5          2.5 108.3\n",
            " Tháng 6 105.7          2.6 108.5\n",
            " Tháng 7 106.0          2.7 108.9\n",
            " Tháng 8 106.3          2.7 109.1\n",
            " Tháng 9 106.5          2.6 109.3\n",
            "Tháng 10 106.7          2.5 109.6\n",
            "Tháng 11 107.0          2.5 109.8\n",
            "Tháng 12 107.3          2.4 110.0\n",
            "\n",
            "Dữ liệu đã được lưu vào file: /content/drive/MyDrive/data/VN_Economic_Indicators_2024_selected.xlsx\n"
          ]
        }
      ]
    },
    {
      "cell_type": "markdown",
      "source": [
        "Bài 1.9: File dữ liệu JSON **data/vn10_stocks.json** chứa thông tin về  chỉ số  chứng khoán của một số cổ phiếu. Hãy đọc file JSON này rồi chuyển thành DataFrame."
      ],
      "metadata": {
        "id": "w2SlDZEoHB3x"
      }
    },
    {
      "cell_type": "code",
      "source": [
        "import pandas as pd\n",
        "\n",
        "# Đường dẫn tới file JSON\n",
        "\n",
        "# Đọc file JSON và chuyển thành DataFrame\n",
        "\n",
        "# Hiển thị toàn bộ thông tin"
      ],
      "metadata": {
        "colab": {
          "base_uri": "https://localhost:8080/"
        },
        "id": "S5sb3IU0-iVm",
        "outputId": "6bfaa306-f10b-4bc5-9e70-89d58e7d9235"
      },
      "execution_count": 41,
      "outputs": [
        {
          "output_type": "stream",
          "name": "stdout",
          "text": [
            "  ticker         company  price    pe   pb\n",
            "0    VCB     Vietcombank  94000  12.8  3.0\n",
            "1    VIC        Vingroup  47000  35.0  3.8\n",
            "2    VHM        Vinhomes  48000   9.5  1.8\n",
            "3    VNM        Vinamilk  74000  17.2  4.9\n",
            "4    GAS          PV Gas  96000  13.7  3.1\n",
            "5    BID            BIDV  52000  11.5  2.3\n",
            "6    CTG      VietinBank  35000  10.2  1.8\n",
            "7    SAB          Sabeco  79000  18.4  4.2\n",
            "8    VRE   Vincom Retail  26000  15.0  2.2\n",
            "9    HPG  Hoa Phat Group  28500  12.0  2.1\n"
          ]
        }
      ]
    },
    {
      "cell_type": "markdown",
      "source": [
        "# PHẦN II. THU THẬP DỮ LIỆU WEB"
      ],
      "metadata": {
        "id": "HpQgkX7gj55i"
      }
    },
    {
      "cell_type": "markdown",
      "source": [
        "Bài 2.1: Hãy tải tất cả các bảng (table) từ địa chỉ Web **https://en.wikipedia.org/wiki/ASEAN** , sau đó in ra màn hình số lượng bảng đọc được từ Website này. Tiếp theo in ra màn hình nội dung của bảng số 6."
      ],
      "metadata": {
        "id": "m7Y5E0LRj-T0"
      }
    },
    {
      "cell_type": "code",
      "source": [
        "# file: fetch_asean_tables.py\n",
        "import pandas as pd\n",
        "import requests\n",
        "\n",
        "url = \"https://en.wikipedia.org/wiki/ASEAN\"\n",
        "# Tạo header giả lập như trình duyệt thật\n",
        "headers = {\n",
        "    \"User-Agent\": \"Mozilla/5.0 (Windows NT 10.0; Win64; x64) \"\n",
        "                  \"AppleWebKit/537.36 (KHTML, like Gecko) \"\n",
        "                  \"Chrome/119.0.0.0 Safari/537.36\"\n",
        "}\n",
        "\n",
        "# Dùng requests để tải HTML\n",
        "response = requests.get(url, headers=headers)\n",
        "response.raise_for_status()  # nếu lỗi HTTP sẽ báo ngay\n",
        "\n",
        "# pandas.read_html tự động tải trang và parse tất cả các bảng HTML thành danh sách DataFrame\n",
        "tables = pd.read_html(response.text)\n",
        "\n",
        "print(f\"Số lượng bảng đọc được từ {url}: {len(tables)}\\n\")\n",
        "\n",
        "# Lấy bảng số 6\n",
        "df_table6 = tables[6]\n",
        "print(df_table6)"
      ],
      "metadata": {
        "id": "VGhA_QhtkFAt",
        "outputId": "c94e5ed8-3cb9-4bc0-c3b5-e962b5733d1f",
        "colab": {
          "base_uri": "https://localhost:8080/"
        }
      },
      "execution_count": 42,
      "outputs": [
        {
          "output_type": "stream",
          "name": "stderr",
          "text": [
            "/tmp/ipython-input-2288738358.py:18: FutureWarning: Passing literal html to 'read_html' is deprecated and will be removed in a future version. To read from a literal string, wrap it in a 'StringIO' object.\n",
            "  tables = pd.read_html(response.text)\n"
          ]
        },
        {
          "output_type": "stream",
          "name": "stdout",
          "text": [
            "Số lượng bảng đọc được từ https://en.wikipedia.org/wiki/ASEAN: 43\n",
            "\n",
            "                     Metropolitan area         Core city  Population  \\\n",
            "0                      Greater Jakarta           Jakarta    31673824   \n",
            "1                  Greater Manila Area            Manila    28250517   \n",
            "2   Ho Chi Minh City Metropolitan Area  Ho Chi Minh City    21281639   \n",
            "3                 Hanoi Capital Region             Hanoi    19980000   \n",
            "4          Bangkok Metropolitan Region           Bangkok    10696258   \n",
            "5                     Greater Surabaya          Surabaya     9924509   \n",
            "6                      Greater Bandung           Bandung     8790308   \n",
            "7                         Klang Valley      Kuala Lumpur     8455029   \n",
            "8                        Yangon Region            Yangon     7360703   \n",
            "9                     Greater Semarang          Semarang     6009982   \n",
            "10                           Singapore         Singapore     5685807   \n",
            "11           Da Nang Metropolitan Area           Da Nang     5622814   \n",
            "12                       Greater Medan             Medan     4756863   \n",
            "13                         Metro Davao             Davao     3339284   \n",
            "14                          Metro Cebu              Cebu     3165799   \n",
            "15             George Town Conurbation       George Town     2843344   \n",
            "16                    Greater Makassar          Makassar     2725951   \n",
            "17                   Greater Palembang         Palembang     2634501   \n",
            "18               Phnom Penh Metro Area        Phnom Penh     2506123   \n",
            "19                  Greater Yogyakarta        Yogyakarta     2485163   \n",
            "\n",
            "    Area (km2)      Country    Census year  \n",
            "0      7076.30    Indonesia  2020[99][100]  \n",
            "1      7967.98  Philippines      2020[101]  \n",
            "2     30595.00      Vietnam      2019[102]  \n",
            "3     24314.70      Vietnam      2019[102]  \n",
            "4      7700.00     Thailand      2020[103]  \n",
            "5      6310.00    Indonesia  2020[99][100]  \n",
            "6      3500.30    Indonesia  2020[99][100]  \n",
            "7      8347.00     Malaysia      2020[104]  \n",
            "8     10276.70      Myanmar      2014[105]  \n",
            "9      4795.90    Indonesia  2020[99][100]  \n",
            "10      734.30    Singapore      2020[106]  \n",
            "11    26640.30      Vietnam      2019[102]  \n",
            "12     3189.20    Indonesia  2020[99][100]  \n",
            "13     6492.80  Philippines      2020[101]  \n",
            "14     1062.80  Philippines      2020[101]  \n",
            "15     3764.30     Malaysia      2020[104]  \n",
            "16     2666.60    Indonesia  2020[99][100]  \n",
            "17     9886.60    Indonesia  2020[99][100]  \n",
            "18      679.00     Cambodia      2019[107]  \n",
            "19     1118.20    Indonesia  2020[99][100]  \n"
          ]
        }
      ]
    },
    {
      "cell_type": "markdown",
      "source": [
        "Bài 2.2: Loại bỏ cột Metropolitan area và cột Census year ở bảng 6 trong Bài 2.1. Sau đó đặt tên các cột còn lại bằng Tiếng Việt rồi hiển thị lên màn hình."
      ],
      "metadata": {
        "id": "ikCMAWG8prRp"
      }
    },
    {
      "cell_type": "code",
      "source": [
        "# Xoá các cột Metropolitan area và Census year\n",
        "\n",
        "# Đổi tên cột sang Tiếng Việt\n",
        "\n",
        "# Hiển thị kết quả"
      ],
      "metadata": {
        "id": "zfB7wQH4wOFf",
        "colab": {
          "base_uri": "https://localhost:8080/"
        },
        "outputId": "6405dabc-5c7b-479d-f2cf-20d1ed2a1f1e"
      },
      "execution_count": 40,
      "outputs": [
        {
          "output_type": "stream",
          "name": "stdout",
          "text": [
            "   Thành phố trung tâm    Dân số  Diện tích (km²)     Quốc gia\n",
            "0              Jakarta  31673824          7076.30    Indonesia\n",
            "1               Manila  28250517          7967.98  Philippines\n",
            "2     Ho Chi Minh City  21281639         30595.00      Vietnam\n",
            "3                Hanoi  19980000         24314.70      Vietnam\n",
            "4              Bangkok  10696258          7700.00     Thailand\n",
            "5             Surabaya   9924509          6310.00    Indonesia\n",
            "6              Bandung   8790308          3500.30    Indonesia\n",
            "7         Kuala Lumpur   8455029          8347.00     Malaysia\n",
            "8               Yangon   7360703         10276.70      Myanmar\n",
            "9             Semarang   6009982          4795.90    Indonesia\n",
            "10           Singapore   5685807           734.30    Singapore\n",
            "11             Da Nang   5622814         26640.30      Vietnam\n",
            "12               Medan   4756863          3189.20    Indonesia\n",
            "13               Davao   3339284          6492.80  Philippines\n",
            "14                Cebu   3165799          1062.80  Philippines\n",
            "15         George Town   2843344          3764.30     Malaysia\n",
            "16            Makassar   2725951          2666.60    Indonesia\n",
            "17           Palembang   2634501          9886.60    Indonesia\n",
            "18          Phnom Penh   2506123           679.00     Cambodia\n",
            "19          Yogyakarta   2485163          1118.20    Indonesia\n"
          ]
        }
      ]
    },
    {
      "cell_type": "markdown",
      "source": [
        "Bài 2.3: Dựa vào kết quả Bài 2.2, hãy in ra màn hình 5 thành phố có dân cư đông nhất ở Đông Nam Á."
      ],
      "metadata": {
        "id": "cDqrvdY33uyp"
      }
    },
    {
      "cell_type": "code",
      "source": [
        "# In lên màn hình 5 thành phố đông dân nhất Đông Nam Á"
      ],
      "metadata": {
        "id": "S_pJtpsa4BUQ",
        "colab": {
          "base_uri": "https://localhost:8080/"
        },
        "outputId": "5cdb5645-f332-41ad-89a3-484bb6090100"
      },
      "execution_count": 44,
      "outputs": [
        {
          "output_type": "stream",
          "name": "stdout",
          "text": [
            "  Thành phố trung tâm    Dân số  Diện tích (km²)     Quốc gia\n",
            "0             Jakarta  31673824          7076.30    Indonesia\n",
            "1              Manila  28250517          7967.98  Philippines\n",
            "2    Ho Chi Minh City  21281639         30595.00      Vietnam\n",
            "3               Hanoi  19980000         24314.70      Vietnam\n",
            "4             Bangkok  10696258          7700.00     Thailand\n"
          ]
        }
      ]
    },
    {
      "cell_type": "markdown",
      "source": [
        "Bài 2.4: Vẽ biểu đồ tròn tỉ lệ dân số của Top-5 với phần còn lại"
      ],
      "metadata": {
        "id": "jBYCzG4gBPT_"
      }
    },
    {
      "cell_type": "code",
      "source": [
        "import matplotlib.pyplot as plt\n",
        "\n",
        "# Tính tổng dân số các thành phố top5\n",
        "\n",
        "# Tính tổng dân số các thành phố còn lại\n",
        "\n",
        "# Chuẩn bị dữ liệu cho biểu đồ tròn\n",
        "\n",
        "# Vẽ biểu đồ tròn\n"
      ],
      "metadata": {
        "id": "ab2PLRkj4nmx",
        "colab": {
          "base_uri": "https://localhost:8080/",
          "height": 530
        },
        "outputId": "5bcbc515-9c4d-4f26-fe74-e36cba28d82a"
      },
      "execution_count": 48,
      "outputs": [
        {
          "output_type": "display_data",
          "data": {
            "text/plain": [
              "<Figure size 600x600 with 1 Axes>"
            ],
            "image/png": "[encoded data removed]"
          },
          "metadata": {}
        }
      ]
    },
    {
      "cell_type": "markdown",
      "source": [
        "# PHẦN III. TƯƠNG TÁC VỚI API WEB"
      ],
      "metadata": {
        "id": "UnoXP9BaBrGV"
      }
    },
    {
      "cell_type": "markdown",
      "source": [
        "Bài 3.1: Lấy thông tin name, username và email của người dùng dựa trên địa chỉ **https://jsonplaceholder.typicode.com/users**, sau đó đưa vào DataFrame rồi hiển thị lên màn hình"
      ],
      "metadata": {
        "id": "fcfuTvgCCdEs"
      }
    },
    {
      "cell_type": "code",
      "source": [
        "import requests\n",
        "import pandas as pd\n",
        "\n",
        "# Gửi request đến API\n",
        "\n",
        "# Chuyển dữ liệu JSON thành DataFrame\n",
        "\n",
        "# Hiển thị cột id, name, username, email\n"
      ],
      "metadata": {
        "id": "UjpZZb0pxj0u",
        "colab": {
          "base_uri": "https://localhost:8080/"
        },
        "outputId": "0c3c4711-33c8-4e59-e772-482f4a441625"
      },
      "execution_count": 49,
      "outputs": [
        {
          "output_type": "stream",
          "name": "stdout",
          "text": [
            "Users:\n",
            "   id                      name          username                      email\n",
            "0   1             Leanne Graham              Bret          Sincere@april.biz\n",
            "1   2              Ervin Howell         Antonette          Shanna@melissa.tv\n",
            "2   3          Clementine Bauch          Samantha         Nathan@yesenia.net\n",
            "3   4          Patricia Lebsack          Karianne  Julianne.OConner@kory.org\n",
            "4   5          Chelsey Dietrich            Kamren   Lucio_Hettinger@annie.ca\n",
            "5   6      Mrs. Dennis Schulist  Leopoldo_Corkery    Karley_Dach@jasper.info\n",
            "6   7           Kurtis Weissnat      Elwyn.Skiles     Telly.Hoeger@billy.biz\n",
            "7   8  Nicholas Runolfsdottir V     Maxime_Nienow       Sherwood@rosamond.me\n",
            "8   9           Glenna Reichert          Delphine    Chaim_McDermott@dana.io\n",
            "9  10        Clementina DuBuque    Moriah.Stanton     Rey.Padberg@karina.biz\n"
          ]
        }
      ]
    },
    {
      "cell_type": "markdown",
      "source": [
        "Bài 3.2: Lấy thông tin name, username, street và city của người dùng dựa trên địa chỉ **https://jsonplaceholder.typicode.com/users**, sau đó đưa vào DataFrame rồi hiển thị lên màn hình"
      ],
      "metadata": {
        "id": "hngnLIA9ybBi"
      }
    },
    {
      "cell_type": "code",
      "source": [
        "import requests\n",
        "import pandas as pd\n",
        "\n",
        "# Lấy dữ liệu từ API\n",
        "\n",
        "# Chuyển thành list dict\n",
        "\n",
        "# Trích xuất thông tin cần thiết\n",
        "\n",
        "# Đưa vào DataFrame\n",
        "\n",
        "# Hiển thị\n"
      ],
      "metadata": {
        "id": "MQUbB27jyiut",
        "colab": {
          "base_uri": "https://localhost:8080/"
        },
        "outputId": "30b6dcf0-71b3-4b3b-ba0a-857612bc9a1f"
      },
      "execution_count": 50,
      "outputs": [
        {
          "output_type": "stream",
          "name": "stdout",
          "text": [
            "Users (name, username, street, city):\n",
            "                       name          username             street  \\\n",
            "0             Leanne Graham              Bret        Kulas Light   \n",
            "1              Ervin Howell         Antonette      Victor Plains   \n",
            "2          Clementine Bauch          Samantha  Douglas Extension   \n",
            "3          Patricia Lebsack          Karianne        Hoeger Mall   \n",
            "4          Chelsey Dietrich            Kamren       Skiles Walks   \n",
            "5      Mrs. Dennis Schulist  Leopoldo_Corkery  Norberto Crossing   \n",
            "6           Kurtis Weissnat      Elwyn.Skiles          Rex Trail   \n",
            "7  Nicholas Runolfsdottir V     Maxime_Nienow   Ellsworth Summit   \n",
            "8           Glenna Reichert          Delphine         Dayna Park   \n",
            "9        Clementina DuBuque    Moriah.Stanton    Kattie Turnpike   \n",
            "\n",
            "             city  \n",
            "0     Gwenborough  \n",
            "1     Wisokyburgh  \n",
            "2   McKenziehaven  \n",
            "3     South Elvis  \n",
            "4      Roscoeview  \n",
            "5   South Christy  \n",
            "6       Howemouth  \n",
            "7       Aliyaview  \n",
            "8  Bartholomebury  \n",
            "9     Lebsackbury  \n"
          ]
        }
      ]
    }
  ]
}