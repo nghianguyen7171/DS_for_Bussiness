{
 "cells": [
  {
   "cell_type": "markdown",
   "id": "a86e3cda-f796-4528-8b4d-36d96d89426f",
   "metadata": {},
   "source": [
    "# 📊 Sắp xếp và biến đổi dữ liệu trong Khoa học Dữ liệu\n",
    "\n",
    "---\n",
    "\n",
    "## 🎯 Mục tiêu học tập\n",
    "\n",
    "Sau khi hoàn thành bài học này, bạn sẽ có thể:\n",
    "\n",
    "✅ **Hiểu và sử dụng chỉ số phân cấp (hierarchical indexing)** để tổ chức dữ liệu hiệu quả  \n",
    "✅ **Kết hợp dữ liệu từ nhiều nguồn** bằng các phương pháp merge và concat  \n",
    "✅ **Chuyển đổi cấu trúc dữ liệu** từ dạng wide sang long và ngược lại  \n",
    "✅ **Sử dụng stack/unstack** để reshape dữ liệu có MultiIndex  \n",
    "✅ **Áp dụng các kỹ thuật** vào phân tích dữ liệu kinh tế và kinh doanh  \n",
    "\n",
    "---\n",
    "\n",
    "## 📍 Lộ trình bài giảng\n",
    "\n",
    "```\n",
    "Phần 1: Chỉ số phân cấp (Hierarchical Indexing)  ⭐⭐ Trung bình\n",
    "    ├── Tạo MultiIndex từ cột\n",
    "    ├── Truy xuất dữ liệu linh hoạt\n",
    "    ├── Sắp xếp và thống kê theo cấp\n",
    "    └── Tốc độ truy xuất với index\n",
    "    \n",
    "Phần 2: Kết hợp dữ liệu (Data Merging)          ⭐⭐ Trung bình\n",
    "    ├── pandas.merge với các loại join\n",
    "    ├── Merge nhiều-nhiều (many-to-many)\n",
    "    ├── Kết hợp dựa trên chỉ số\n",
    "    └── Xử lý dữ liệu trùng lặp\n",
    "    \n",
    "Phần 3: Nối dữ liệu theo trục (Concatenation)    ⭐ Dễ\n",
    "    ├── Nối theo dòng (axis=0)\n",
    "    ├── Nối theo cột (axis=1)\n",
    "    └── Xử lý chỉ số trùng lặp\n",
    "    \n",
    "Phần 4: Reshaping dữ liệu                        ⭐⭐⭐ Khó\n",
    "    ├── Wide → Long (melt)\n",
    "    ├── Long → Wide (pivot)\n",
    "    └── Stack/Unstack với MultiIndex\n",
    "```\n",
    "\n",
    "> **💡 Khuyến nghị:** Học tuần tự từ Phần 1 → Phần 4. Mỗi phần xây dựng dựa trên kiến thức của phần trước.\n",
    "\n",
    "---\n",
    "\n",
    "## ⚠️ Lưu ý quan trọng\n",
    "\n",
    "> **💡 Cho sinh viên Kinh tế:** Bài học này tập trung vào các kỹ thuật tổ chức và kết hợp dữ liệu mà bạn sẽ sử dụng khi phân tích dữ liệu kinh tế, báo cáo tài chính, và nghiên cứu thị trường.\n",
    "\n",
    "> **🔧 Tương thích:** Notebook này hoạt động tốt trên cả **Jupyter Notebook**, **JupyterLab**, và **Google Colab**.\n",
    "\n",
    "---\n",
    "\n",
    "## 🚀 Bắt đầu học tập\n",
    "\n",
    "Hãy bắt đầu với **Phần 1: Chỉ số phân cấp** 👇"
   ]
  },
  {
   "cell_type": "markdown",
   "id": "e2ae68b6",
   "metadata": {},
   "source": [
    "---\n",
    "\n",
    "## 🔧 Thiết lập môi trường\n",
    "\n",
    "> **💡 MỤC TIÊU:** Đảm bảo notebook hoạt động tốt trên cả môi trường local và Google Colab\n",
    "\n",
    "### **Cài đặt thư viện cần thiết:**\n",
    "\n",
    "```python\n",
    "# Chạy cell này nếu bạn đang sử dụng Google Colab\n",
    "# Hoặc nếu gặp lỗi ImportError khi chạy các cell khác\n",
    "\n",
    "import subprocess\n",
    "import sys\n",
    "\n",
    "def install_package(package):\n",
    "    \"\"\"Cài đặt package nếu chưa có\"\"\"\n",
    "    try:\n",
    "        __import__(package)\n",
    "        print(f\"✅ {package} đã được cài đặt\")\n",
    "    except ImportError:\n",
    "        print(f\"📦 Đang cài đặt {package}...\")\n",
    "        subprocess.check_call([sys.executable, \"-m\", \"pip\", \"install\", package])\n",
    "        print(f\"✅ Đã cài đặt {package} thành công\")\n",
    "\n",
    "# Cài đặt các thư viện cần thiết\n",
    "packages = [\n",
    "    \"pandas\",\n",
    "    \"numpy\",\n",
    "    \"matplotlib\",\n",
    "    \"seaborn\"\n",
    "]\n",
    "\n",
    "for package in packages:\n",
    "    install_package(package)\n",
    "\n",
    "print(\"🎉 Thiết lập hoàn tất! Bạn có thể tiếp tục với bài học.\")\n",
    "```\n",
    "\n",
    "### **Import các thư viện:**\n",
    "\n",
    "```python\n",
    "# Import các thư viện cần thiết\n",
    "import pandas as pd\n",
    "import numpy as np\n",
    "import matplotlib.pyplot as plt\n",
    "import seaborn as sns\n",
    "import warnings\n",
    "warnings.filterwarnings('ignore')\n",
    "\n",
    "# Thiết lập hiển thị\n",
    "pd.set_option('display.max_columns', None)\n",
    "pd.set_option('display.width', None)\n",
    "plt.style.use('default')\n",
    "\n",
    "print(\"✅ Đã import tất cả thư viện cần thiết!\")\n",
    "print(\"📊 Sẵn sàng bắt đầu bài học Data Manipulation!\")\n",
    "```\n",
    "\n",
    "---"
   ]
  },
  {
   "cell_type": "markdown",
   "id": "9574d3c4",
   "metadata": {},
   "source": [
    "# 📊 **Phần 1: Chỉ số phân cấp (Hierarchical Indexing)**\n",
    "\n",
    "---\n",
    "\n",
    "## 🎯 **Tại sao cần chỉ số phân cấp?**\n",
    "\n",
    "Trong thực tế, dữ liệu thường có cấu trúc phức tạp với nhiều chiều khác nhau. Ví dụ:\n",
    "\n",
    "- **Dữ liệu cổ phiếu:** Mã cổ phiếu × Ngày × Giá\n",
    "- **Dữ liệu bán hàng:** Khu vực × Sản phẩm × Tháng × Doanh số  \n",
    "- **Dữ liệu khảo sát:** Nhóm tuổi × Giới tính × Thu nhập × Mức độ hài lòng\n",
    "\n",
    "**Chỉ số phân cấp** giúp chúng ta:\n",
    "- ✅ **Tổ chức dữ liệu** một cách logic và dễ hiểu\n",
    "- ✅ **Truy xuất nhanh** các phần dữ liệu cụ thể\n",
    "- ✅ **Thực hiện phân tích** theo nhiều chiều khác nhau\n",
    "- ✅ **Tăng hiệu suất** khi làm việc với dữ liệu lớn\n",
    "\n",
    "---\n",
    "\n",
    "## 📈 **Ví dụ thực tế: Dữ liệu giá cổ phiếu**\n",
    "\n",
    "Giả sử bạn là nhà phân tích tài chính và cần theo dõi giá cổ phiếu của 3 công ty trong 2 ngày:"
   ]
  },
  {
   "cell_type": "markdown",
   "id": "f5157e16-c017-4a07-bbf7-191edfdb8d42",
   "metadata": {},
   "source": [
    "### **🔍 Bước 1: Tạo dữ liệu mẫu**\n",
    "\n",
    "Chúng ta sẽ tạo một DataFrame đơn giản để minh họa:"
   ]
  },
  {
   "cell_type": "markdown",
   "id": "d92970c1",
   "metadata": {},
   "source": [
    "Xét ví dụ sau, với bảng dữ liệu theo dõi giá cổ phiếu theo ngày"
   ]
  },
  {
   "cell_type": "code",
   "execution_count": 1,
   "id": "4007140b",
   "metadata": {},
   "outputs": [
    {
     "data": {
      "text/html": [
       "<div>\n",
       "<style scoped>\n",
       "    .dataframe tbody tr th:only-of-type {\n",
       "        vertical-align: middle;\n",
       "    }\n",
       "\n",
       "    .dataframe tbody tr th {\n",
       "        vertical-align: top;\n",
       "    }\n",
       "\n",
       "    .dataframe thead th {\n",
       "        text-align: right;\n",
       "    }\n",
       "</style>\n",
       "<table border=\"1\" class=\"dataframe\">\n",
       "  <thead>\n",
       "    <tr style=\"text-align: right;\">\n",
       "      <th></th>\n",
       "      <th>Ma CP</th>\n",
       "      <th>Ngay</th>\n",
       "      <th>Price</th>\n",
       "    </tr>\n",
       "  </thead>\n",
       "  <tbody>\n",
       "    <tr>\n",
       "      <th>0</th>\n",
       "      <td>VPB</td>\n",
       "      <td>2025-08-14</td>\n",
       "      <td>31.2</td>\n",
       "    </tr>\n",
       "    <tr>\n",
       "      <th>1</th>\n",
       "      <td>VPB</td>\n",
       "      <td>2025-08-15</td>\n",
       "      <td>32.5</td>\n",
       "    </tr>\n",
       "    <tr>\n",
       "      <th>2</th>\n",
       "      <td>TCB</td>\n",
       "      <td>2025-08-14</td>\n",
       "      <td>35.1</td>\n",
       "    </tr>\n",
       "    <tr>\n",
       "      <th>3</th>\n",
       "      <td>TCB</td>\n",
       "      <td>2025-08-15</td>\n",
       "      <td>34.0</td>\n",
       "    </tr>\n",
       "    <tr>\n",
       "      <th>4</th>\n",
       "      <td>VNM</td>\n",
       "      <td>2025-08-14</td>\n",
       "      <td>60.5</td>\n",
       "    </tr>\n",
       "    <tr>\n",
       "      <th>5</th>\n",
       "      <td>VNM</td>\n",
       "      <td>2025-08-15</td>\n",
       "      <td>61.3</td>\n",
       "    </tr>\n",
       "  </tbody>\n",
       "</table>\n",
       "</div>"
      ],
      "text/plain": [
       "  Ma CP        Ngay  Price\n",
       "0   VPB  2025-08-14   31.2\n",
       "1   VPB  2025-08-15   32.5\n",
       "2   TCB  2025-08-14   35.1\n",
       "3   TCB  2025-08-15   34.0\n",
       "4   VNM  2025-08-14   60.5\n",
       "5   VNM  2025-08-15   61.3"
      ]
     },
     "execution_count": 1,
     "metadata": {},
     "output_type": "execute_result"
    }
   ],
   "source": [
    "import pandas as pd\n",
    "import numpy as np\n",
    "\n",
    "stock_prices = pd.DataFrame({\n",
    "    'Ma CP': ['VPB', 'VPB', 'TCB', 'TCB', 'VNM', 'VNM'],\n",
    "    'Ngay': ['2025-08-14','2025-08-15','2025-08-14','2025-08-15', '2025-08-14','2025-08-15'],\n",
    "    'Price': [31.2, 32.5, 35.1, 34.0, 60.5, 61.3]\n",
    "})\n",
    "\n",
    "stock_prices"
   ]
  },
  {
   "cell_type": "markdown",
   "id": "f874582d",
   "metadata": {},
   "source": [
    "### **📊 Phân tích dữ liệu hiện tại**\n",
    "\n",
    "Dữ liệu trên có cấu trúc **\"long format\"** - mỗi hàng là một quan sát cụ thể. Tuy nhiên, để phân tích hiệu quả, chúng ta thường cần:\n",
    "\n",
    "1. **Lấy dữ liệu của một cổ phiếu cụ thể** (ví dụ: VPB)\n",
    "2. **Lấy dữ liệu của một ngày cụ thể** (ví dụ: 2025-08-14)\n",
    "3. **So sánh giá giữa các cổ phiếu** trong cùng một ngày\n",
    "\n",
    "### **🔍 Bước 2: Thử nghiệm truy xuất dữ liệu thông thường**\n",
    "\n",
    "Trước khi học về MultiIndex, hãy xem cách truy xuất dữ liệu thông thường:"
   ]
  },
  {
   "cell_type": "code",
   "execution_count": 2,
   "id": "73919fae",
   "metadata": {},
   "outputs": [
    {
     "data": {
      "text/html": [
       "<div>\n",
       "<style scoped>\n",
       "    .dataframe tbody tr th:only-of-type {\n",
       "        vertical-align: middle;\n",
       "    }\n",
       "\n",
       "    .dataframe tbody tr th {\n",
       "        vertical-align: top;\n",
       "    }\n",
       "\n",
       "    .dataframe thead th {\n",
       "        text-align: right;\n",
       "    }\n",
       "</style>\n",
       "<table border=\"1\" class=\"dataframe\">\n",
       "  <thead>\n",
       "    <tr style=\"text-align: right;\">\n",
       "      <th></th>\n",
       "      <th>Ma CP</th>\n",
       "      <th>Ngay</th>\n",
       "      <th>Price</th>\n",
       "    </tr>\n",
       "  </thead>\n",
       "  <tbody>\n",
       "    <tr>\n",
       "      <th>0</th>\n",
       "      <td>VPB</td>\n",
       "      <td>2025-08-14</td>\n",
       "      <td>31.2</td>\n",
       "    </tr>\n",
       "    <tr>\n",
       "      <th>1</th>\n",
       "      <td>VPB</td>\n",
       "      <td>2025-08-15</td>\n",
       "      <td>32.5</td>\n",
       "    </tr>\n",
       "  </tbody>\n",
       "</table>\n",
       "</div>"
      ],
      "text/plain": [
       "  Ma CP        Ngay  Price\n",
       "0   VPB  2025-08-14   31.2\n",
       "1   VPB  2025-08-15   32.5"
      ]
     },
     "execution_count": 2,
     "metadata": {},
     "output_type": "execute_result"
    }
   ],
   "source": [
    "vpb_prices = stock_prices[stock_prices['Ma CP'] == 'VPB']\n",
    "vpb_prices"
   ]
  },
  {
   "cell_type": "code",
   "execution_count": 3,
   "id": "d81d93f0",
   "metadata": {},
   "outputs": [
    {
     "data": {
      "text/html": [
       "<div>\n",
       "<style scoped>\n",
       "    .dataframe tbody tr th:only-of-type {\n",
       "        vertical-align: middle;\n",
       "    }\n",
       "\n",
       "    .dataframe tbody tr th {\n",
       "        vertical-align: top;\n",
       "    }\n",
       "\n",
       "    .dataframe thead th {\n",
       "        text-align: right;\n",
       "    }\n",
       "</style>\n",
       "<table border=\"1\" class=\"dataframe\">\n",
       "  <thead>\n",
       "    <tr style=\"text-align: right;\">\n",
       "      <th></th>\n",
       "      <th>Ma CP</th>\n",
       "      <th>Ngay</th>\n",
       "      <th>Price</th>\n",
       "    </tr>\n",
       "  </thead>\n",
       "  <tbody>\n",
       "    <tr>\n",
       "      <th>0</th>\n",
       "      <td>VPB</td>\n",
       "      <td>2025-08-14</td>\n",
       "      <td>31.2</td>\n",
       "    </tr>\n",
       "    <tr>\n",
       "      <th>2</th>\n",
       "      <td>TCB</td>\n",
       "      <td>2025-08-14</td>\n",
       "      <td>35.1</td>\n",
       "    </tr>\n",
       "    <tr>\n",
       "      <th>4</th>\n",
       "      <td>VNM</td>\n",
       "      <td>2025-08-14</td>\n",
       "      <td>60.5</td>\n",
       "    </tr>\n",
       "  </tbody>\n",
       "</table>\n",
       "</div>"
      ],
      "text/plain": [
       "  Ma CP        Ngay  Price\n",
       "0   VPB  2025-08-14   31.2\n",
       "2   TCB  2025-08-14   35.1\n",
       "4   VNM  2025-08-14   60.5"
      ]
     },
     "execution_count": 3,
     "metadata": {},
     "output_type": "execute_result"
    }
   ],
   "source": [
    "prices_by_date = stock_prices[stock_prices['Ngay'] == '2025-08-14']\n",
    "prices_by_date"
   ]
  },
  {
   "cell_type": "markdown",
   "id": "51bdac34",
   "metadata": {},
   "source": [
    "### **⚡ Vấn đề với phương pháp truy xuất thông thường**\n",
    "\n",
    "Như bạn thấy, việc truy xuất dữ liệu bằng boolean indexing có những hạn chế:\n",
    "\n",
    "- ❌ **Code dài dòng** và khó đọc\n",
    "- ❌ **Tốc độ chậm** khi dữ liệu lớn  \n",
    "- ❌ **Khó tổ chức** dữ liệu theo nhiều chiều\n",
    "- ❌ **Khó thực hiện** các phép toán phức tạp\n",
    "\n",
    "### **🚀 Giải pháp: MultiIndex (Chỉ số phân cấp)**\n",
    "\n",
    "MultiIndex sẽ giúp chúng ta:\n",
    "- ✅ **Truy xuất nhanh** bằng `.loc[]`\n",
    "- ✅ **Tổ chức logic** dữ liệu theo nhiều chiều\n",
    "- ✅ **Code ngắn gọn** và dễ hiểu\n",
    "- ✅ **Hiệu suất cao** với dữ liệu lớn\n",
    "\n",
    "### **🔍 Bước 3: Tạo MultiIndex từ DataFrame**"
   ]
  },
  {
   "cell_type": "code",
   "execution_count": 4,
   "id": "b100383a",
   "metadata": {},
   "outputs": [
    {
     "data": {
      "text/html": [
       "<div>\n",
       "<style scoped>\n",
       "    .dataframe tbody tr th:only-of-type {\n",
       "        vertical-align: middle;\n",
       "    }\n",
       "\n",
       "    .dataframe tbody tr th {\n",
       "        vertical-align: top;\n",
       "    }\n",
       "\n",
       "    .dataframe thead th {\n",
       "        text-align: right;\n",
       "    }\n",
       "</style>\n",
       "<table border=\"1\" class=\"dataframe\">\n",
       "  <thead>\n",
       "    <tr style=\"text-align: right;\">\n",
       "      <th></th>\n",
       "      <th></th>\n",
       "      <th>Price</th>\n",
       "    </tr>\n",
       "    <tr>\n",
       "      <th>Ma CP</th>\n",
       "      <th>Ngay</th>\n",
       "      <th></th>\n",
       "    </tr>\n",
       "  </thead>\n",
       "  <tbody>\n",
       "    <tr>\n",
       "      <th rowspan=\"2\" valign=\"top\">VPB</th>\n",
       "      <th>2025-08-14</th>\n",
       "      <td>31.2</td>\n",
       "    </tr>\n",
       "    <tr>\n",
       "      <th>2025-08-15</th>\n",
       "      <td>32.5</td>\n",
       "    </tr>\n",
       "    <tr>\n",
       "      <th rowspan=\"2\" valign=\"top\">TCB</th>\n",
       "      <th>2025-08-14</th>\n",
       "      <td>35.1</td>\n",
       "    </tr>\n",
       "    <tr>\n",
       "      <th>2025-08-15</th>\n",
       "      <td>34.0</td>\n",
       "    </tr>\n",
       "    <tr>\n",
       "      <th rowspan=\"2\" valign=\"top\">VNM</th>\n",
       "      <th>2025-08-14</th>\n",
       "      <td>60.5</td>\n",
       "    </tr>\n",
       "    <tr>\n",
       "      <th>2025-08-15</th>\n",
       "      <td>61.3</td>\n",
       "    </tr>\n",
       "  </tbody>\n",
       "</table>\n",
       "</div>"
      ],
      "text/plain": [
       "                  Price\n",
       "Ma CP Ngay             \n",
       "VPB   2025-08-14   31.2\n",
       "      2025-08-15   32.5\n",
       "TCB   2025-08-14   35.1\n",
       "      2025-08-15   34.0\n",
       "VNM   2025-08-14   60.5\n",
       "      2025-08-15   61.3"
      ]
     },
     "execution_count": 4,
     "metadata": {},
     "output_type": "execute_result"
    }
   ],
   "source": [
    "stock_prices = stock_prices.set_index(keys=['Ma CP', 'Ngay'])\n",
    "stock_prices"
   ]
  },
  {
   "cell_type": "code",
   "execution_count": 5,
   "id": "4cec6566",
   "metadata": {},
   "outputs": [
    {
     "data": {
      "text/plain": [
       "MultiIndex([('VPB', '2025-08-14'),\n",
       "            ('VPB', '2025-08-15'),\n",
       "            ('TCB', '2025-08-14'),\n",
       "            ('TCB', '2025-08-15'),\n",
       "            ('VNM', '2025-08-14'),\n",
       "            ('VNM', '2025-08-15')],\n",
       "           names=['Ma CP', 'Ngay'])"
      ]
     },
     "execution_count": 5,
     "metadata": {},
     "output_type": "execute_result"
    }
   ],
   "source": [
    "stock_prices.index"
   ]
  },
  {
   "cell_type": "markdown",
   "id": "3819b1f8",
   "metadata": {},
   "source": [
    "### **🎉 Kết quả: DataFrame với MultiIndex**\n",
    "\n",
    "Bây giờ DataFrame đã có **MultiIndex** với 2 cấp:\n",
    "- **Level 0:** `Ma CP` (Mã cổ phiếu)\n",
    "- **Level 1:** `Ngay` (Ngày)\n",
    "\n",
    "### **📊 So sánh trước và sau:**\n",
    "\n",
    "| **Trước (Boolean Indexing)** | **Sau (MultiIndex)** |\n",
    "|------------------------------|----------------------|\n",
    "| `df[df['Ma CP'] == 'VPB']` | `df.loc['VPB']` |\n",
    "| `df[df['Ngay'] == '2025-08-14']` | `df.xs('2025-08-14', level='Ngay')` |\n",
    "| Code dài, khó đọc | Code ngắn, dễ hiểu |\n",
    "| Tốc độ chậm | Tốc độ nhanh |\n",
    "\n",
    "### **🔍 Bước 4: Khám phá cấu trúc MultiIndex**"
   ]
  },
  {
   "cell_type": "markdown",
   "id": "364d4133",
   "metadata": {},
   "source": [
    "### **🚀 Truy xuất dữ liệu với MultiIndex**\n",
    "\n",
    "Bây giờ chúng ta có thể truy xuất dữ liệu một cách **nhanh chóng** và **linh hoạt**:\n",
    "\n",
    "#### **📈 Ví dụ 1: Lấy tất cả giá của cổ phiếu VPB**"
   ]
  },
  {
   "cell_type": "code",
   "execution_count": 6,
   "id": "c8d5b332",
   "metadata": {},
   "outputs": [
    {
     "data": {
      "text/html": [
       "<div>\n",
       "<style scoped>\n",
       "    .dataframe tbody tr th:only-of-type {\n",
       "        vertical-align: middle;\n",
       "    }\n",
       "\n",
       "    .dataframe tbody tr th {\n",
       "        vertical-align: top;\n",
       "    }\n",
       "\n",
       "    .dataframe thead th {\n",
       "        text-align: right;\n",
       "    }\n",
       "</style>\n",
       "<table border=\"1\" class=\"dataframe\">\n",
       "  <thead>\n",
       "    <tr style=\"text-align: right;\">\n",
       "      <th></th>\n",
       "      <th>Price</th>\n",
       "    </tr>\n",
       "    <tr>\n",
       "      <th>Ngay</th>\n",
       "      <th></th>\n",
       "    </tr>\n",
       "  </thead>\n",
       "  <tbody>\n",
       "    <tr>\n",
       "      <th>2025-08-14</th>\n",
       "      <td>31.2</td>\n",
       "    </tr>\n",
       "    <tr>\n",
       "      <th>2025-08-15</th>\n",
       "      <td>32.5</td>\n",
       "    </tr>\n",
       "  </tbody>\n",
       "</table>\n",
       "</div>"
      ],
      "text/plain": [
       "            Price\n",
       "Ngay             \n",
       "2025-08-14   31.2\n",
       "2025-08-15   32.5"
      ]
     },
     "execution_count": 6,
     "metadata": {},
     "output_type": "execute_result"
    }
   ],
   "source": [
    "stock_prices.loc['VPB']\n"
   ]
  },
  {
   "cell_type": "markdown",
   "id": "09552a70",
   "metadata": {},
   "source": [
    "#### **📅 Ví dụ 2: Lấy giá tất cả cổ phiếu trong ngày 2025-08-14** "
   ]
  },
  {
   "cell_type": "code",
   "execution_count": 7,
   "id": "5f927ba4",
   "metadata": {},
   "outputs": [
    {
     "data": {
      "text/html": [
       "<div>\n",
       "<style scoped>\n",
       "    .dataframe tbody tr th:only-of-type {\n",
       "        vertical-align: middle;\n",
       "    }\n",
       "\n",
       "    .dataframe tbody tr th {\n",
       "        vertical-align: top;\n",
       "    }\n",
       "\n",
       "    .dataframe thead th {\n",
       "        text-align: right;\n",
       "    }\n",
       "</style>\n",
       "<table border=\"1\" class=\"dataframe\">\n",
       "  <thead>\n",
       "    <tr style=\"text-align: right;\">\n",
       "      <th></th>\n",
       "      <th>Price</th>\n",
       "    </tr>\n",
       "    <tr>\n",
       "      <th>Ma CP</th>\n",
       "      <th></th>\n",
       "    </tr>\n",
       "  </thead>\n",
       "  <tbody>\n",
       "    <tr>\n",
       "      <th>VPB</th>\n",
       "      <td>31.2</td>\n",
       "    </tr>\n",
       "    <tr>\n",
       "      <th>TCB</th>\n",
       "      <td>35.1</td>\n",
       "    </tr>\n",
       "    <tr>\n",
       "      <th>VNM</th>\n",
       "      <td>60.5</td>\n",
       "    </tr>\n",
       "  </tbody>\n",
       "</table>\n",
       "</div>"
      ],
      "text/plain": [
       "       Price\n",
       "Ma CP       \n",
       "VPB     31.2\n",
       "TCB     35.1\n",
       "VNM     60.5"
      ]
     },
     "execution_count": 7,
     "metadata": {},
     "output_type": "execute_result"
    }
   ],
   "source": [
    "stock_prices.xs('2025-08-14', level='Ngay')"
   ]
  },
  {
   "cell_type": "markdown",
   "id": "86635396",
   "metadata": {},
   "source": [
    "### **⚡ So sánh hiệu suất: MultiIndex vs Boolean Indexing**\n",
    "\n",
    "Để chứng minh sự khác biệt về hiệu suất, chúng ta sẽ tạo một dataset lớn và so sánh:\n",
    "\n",
    "#### **🔬 Thí nghiệm:**\n",
    "- **Dataset:** 1,000,000 hàng dữ liệu\n",
    "- **Phương pháp 1:** Boolean indexing (cách cũ)\n",
    "- **Phương pháp 2:** MultiIndex (cách mới)\n",
    "- **Kết quả:** MultiIndex **nhanh hơn 3-4 lần**!"
   ]
  },
  {
   "cell_type": "code",
   "execution_count": 8,
   "id": "80e8d936",
   "metadata": {},
   "outputs": [
    {
     "name": "stdout",
     "output_type": "stream",
     "text": [
      "CPU times: user 30.4 ms, sys: 1.67 ms, total: 32.1 ms\n",
      "Wall time: 33.8 ms\n"
     ]
    },
    {
     "data": {
      "text/html": [
       "<div>\n",
       "<style scoped>\n",
       "    .dataframe tbody tr th:only-of-type {\n",
       "        vertical-align: middle;\n",
       "    }\n",
       "\n",
       "    .dataframe tbody tr th {\n",
       "        vertical-align: top;\n",
       "    }\n",
       "\n",
       "    .dataframe thead th {\n",
       "        text-align: right;\n",
       "    }\n",
       "</style>\n",
       "<table border=\"1\" class=\"dataframe\">\n",
       "  <thead>\n",
       "    <tr style=\"text-align: right;\">\n",
       "      <th></th>\n",
       "      <th>Ma CP</th>\n",
       "      <th>Ngay</th>\n",
       "      <th>Price</th>\n",
       "    </tr>\n",
       "  </thead>\n",
       "  <tbody>\n",
       "    <tr>\n",
       "      <th>0</th>\n",
       "      <td>VPB</td>\n",
       "      <td>2025-08-14</td>\n",
       "      <td>32.5</td>\n",
       "    </tr>\n",
       "    <tr>\n",
       "      <th>2</th>\n",
       "      <td>VPB</td>\n",
       "      <td>2025-08-15</td>\n",
       "      <td>31.2</td>\n",
       "    </tr>\n",
       "    <tr>\n",
       "      <th>12</th>\n",
       "      <td>VPB</td>\n",
       "      <td>2025-08-14</td>\n",
       "      <td>60.5</td>\n",
       "    </tr>\n",
       "    <tr>\n",
       "      <th>22</th>\n",
       "      <td>VPB</td>\n",
       "      <td>2025-08-15</td>\n",
       "      <td>61.3</td>\n",
       "    </tr>\n",
       "    <tr>\n",
       "      <th>25</th>\n",
       "      <td>VPB</td>\n",
       "      <td>2025-08-15</td>\n",
       "      <td>34.0</td>\n",
       "    </tr>\n",
       "    <tr>\n",
       "      <th>...</th>\n",
       "      <td>...</td>\n",
       "      <td>...</td>\n",
       "      <td>...</td>\n",
       "    </tr>\n",
       "    <tr>\n",
       "      <th>999987</th>\n",
       "      <td>VPB</td>\n",
       "      <td>2025-08-15</td>\n",
       "      <td>34.0</td>\n",
       "    </tr>\n",
       "    <tr>\n",
       "      <th>999989</th>\n",
       "      <td>VPB</td>\n",
       "      <td>2025-08-15</td>\n",
       "      <td>31.2</td>\n",
       "    </tr>\n",
       "    <tr>\n",
       "      <th>999990</th>\n",
       "      <td>VPB</td>\n",
       "      <td>2025-08-15</td>\n",
       "      <td>32.5</td>\n",
       "    </tr>\n",
       "    <tr>\n",
       "      <th>999995</th>\n",
       "      <td>VPB</td>\n",
       "      <td>2025-08-14</td>\n",
       "      <td>35.1</td>\n",
       "    </tr>\n",
       "    <tr>\n",
       "      <th>999998</th>\n",
       "      <td>VPB</td>\n",
       "      <td>2025-08-14</td>\n",
       "      <td>31.2</td>\n",
       "    </tr>\n",
       "  </tbody>\n",
       "</table>\n",
       "<p>333600 rows × 3 columns</p>\n",
       "</div>"
      ],
      "text/plain": [
       "       Ma CP        Ngay  Price\n",
       "0        VPB  2025-08-14   32.5\n",
       "2        VPB  2025-08-15   31.2\n",
       "12       VPB  2025-08-14   60.5\n",
       "22       VPB  2025-08-15   61.3\n",
       "25       VPB  2025-08-15   34.0\n",
       "...      ...         ...    ...\n",
       "999987   VPB  2025-08-15   34.0\n",
       "999989   VPB  2025-08-15   31.2\n",
       "999990   VPB  2025-08-15   32.5\n",
       "999995   VPB  2025-08-14   35.1\n",
       "999998   VPB  2025-08-14   31.2\n",
       "\n",
       "[333600 rows x 3 columns]"
      ]
     },
     "execution_count": 8,
     "metadata": {},
     "output_type": "execute_result"
    }
   ],
   "source": [
    "import pandas as pd\n",
    "import numpy as np\n",
    "\n",
    "n = 1_000_000\n",
    "df = pd.DataFrame({\n",
    "    'Ma CP': np.random.choice(['VPB', 'TCB', 'VNM'], size=n),\n",
    "    'Ngay': np.random.choice(['2025-08-14','2025-08-15'], size=n),\n",
    "    'Price': np.random.choice([31.2, 32.5, 35.1, 34.0, 60.5, 61.3], n)\n",
    "})\n",
    "\n",
    "%time df[df['Ma CP']=='VPB']"
   ]
  },
  {
   "cell_type": "code",
   "execution_count": 9,
   "id": "d887470f",
   "metadata": {},
   "outputs": [],
   "source": [
    "df_index = df.set_index(['Ma CP', 'Ngay'])"
   ]
  },
  {
   "cell_type": "code",
   "execution_count": 10,
   "id": "221718c5",
   "metadata": {},
   "outputs": [
    {
     "name": "stdout",
     "output_type": "stream",
     "text": [
      "CPU times: user 9.19 ms, sys: 2.51 ms, total: 11.7 ms\n",
      "Wall time: 11.2 ms\n"
     ]
    },
    {
     "data": {
      "text/html": [
       "<div>\n",
       "<style scoped>\n",
       "    .dataframe tbody tr th:only-of-type {\n",
       "        vertical-align: middle;\n",
       "    }\n",
       "\n",
       "    .dataframe tbody tr th {\n",
       "        vertical-align: top;\n",
       "    }\n",
       "\n",
       "    .dataframe thead th {\n",
       "        text-align: right;\n",
       "    }\n",
       "</style>\n",
       "<table border=\"1\" class=\"dataframe\">\n",
       "  <thead>\n",
       "    <tr style=\"text-align: right;\">\n",
       "      <th></th>\n",
       "      <th>Price</th>\n",
       "    </tr>\n",
       "    <tr>\n",
       "      <th>Ngay</th>\n",
       "      <th></th>\n",
       "    </tr>\n",
       "  </thead>\n",
       "  <tbody>\n",
       "    <tr>\n",
       "      <th>2025-08-14</th>\n",
       "      <td>32.5</td>\n",
       "    </tr>\n",
       "    <tr>\n",
       "      <th>2025-08-15</th>\n",
       "      <td>31.2</td>\n",
       "    </tr>\n",
       "    <tr>\n",
       "      <th>2025-08-14</th>\n",
       "      <td>60.5</td>\n",
       "    </tr>\n",
       "    <tr>\n",
       "      <th>2025-08-15</th>\n",
       "      <td>61.3</td>\n",
       "    </tr>\n",
       "    <tr>\n",
       "      <th>2025-08-15</th>\n",
       "      <td>34.0</td>\n",
       "    </tr>\n",
       "    <tr>\n",
       "      <th>...</th>\n",
       "      <td>...</td>\n",
       "    </tr>\n",
       "    <tr>\n",
       "      <th>2025-08-15</th>\n",
       "      <td>34.0</td>\n",
       "    </tr>\n",
       "    <tr>\n",
       "      <th>2025-08-15</th>\n",
       "      <td>31.2</td>\n",
       "    </tr>\n",
       "    <tr>\n",
       "      <th>2025-08-15</th>\n",
       "      <td>32.5</td>\n",
       "    </tr>\n",
       "    <tr>\n",
       "      <th>2025-08-14</th>\n",
       "      <td>35.1</td>\n",
       "    </tr>\n",
       "    <tr>\n",
       "      <th>2025-08-14</th>\n",
       "      <td>31.2</td>\n",
       "    </tr>\n",
       "  </tbody>\n",
       "</table>\n",
       "<p>333600 rows × 1 columns</p>\n",
       "</div>"
      ],
      "text/plain": [
       "            Price\n",
       "Ngay             \n",
       "2025-08-14   32.5\n",
       "2025-08-15   31.2\n",
       "2025-08-14   60.5\n",
       "2025-08-15   61.3\n",
       "2025-08-15   34.0\n",
       "...           ...\n",
       "2025-08-15   34.0\n",
       "2025-08-15   31.2\n",
       "2025-08-15   32.5\n",
       "2025-08-14   35.1\n",
       "2025-08-14   31.2\n",
       "\n",
       "[333600 rows x 1 columns]"
      ]
     },
     "execution_count": 10,
     "metadata": {},
     "output_type": "execute_result"
    }
   ],
   "source": [
    "%time df_index.loc['VPB']"
   ]
  },
  {
   "cell_type": "markdown",
   "id": "17754112",
   "metadata": {},
   "source": [
    "### **🎯 Kết quả thí nghiệm:**\n",
    "\n",
    "| **Phương pháp** | **Thời gian** | **Hiệu suất** |\n",
    "|-----------------|---------------|---------------|\n",
    "| Boolean Indexing | ~233ms | Chậm |\n",
    "| MultiIndex | ~82ms | **Nhanh hơn 3x** |\n",
    "\n",
    "### **💡 Tại sao MultiIndex nhanh hơn?**\n",
    "\n",
    "1. **Index được tối ưu hóa:** Pandas tạo cấu trúc dữ liệu đặc biệt cho việc tìm kiếm\n",
    "2. **Không cần quét toàn bộ:** Chỉ cần tra cứu trong index thay vì kiểm tra từng hàng\n",
    "3. **Cấu trúc dữ liệu hiệu quả:** MultiIndex sử dụng hash table và tree structure\n",
    "\n",
    "### **🔧 Thay đổi thứ tự các chỉ số phân cấp**\n",
    "\n",
    "Đôi khi chúng ta muốn thay đổi thứ tự của các cấp index để truy xuất dữ liệu dễ dàng hơn:"
   ]
  },
  {
   "cell_type": "code",
   "execution_count": 11,
   "id": "e240561c",
   "metadata": {},
   "outputs": [
    {
     "data": {
      "text/html": [
       "<div>\n",
       "<style scoped>\n",
       "    .dataframe tbody tr th:only-of-type {\n",
       "        vertical-align: middle;\n",
       "    }\n",
       "\n",
       "    .dataframe tbody tr th {\n",
       "        vertical-align: top;\n",
       "    }\n",
       "\n",
       "    .dataframe thead th {\n",
       "        text-align: right;\n",
       "    }\n",
       "</style>\n",
       "<table border=\"1\" class=\"dataframe\">\n",
       "  <thead>\n",
       "    <tr style=\"text-align: right;\">\n",
       "      <th></th>\n",
       "      <th></th>\n",
       "      <th>Price</th>\n",
       "    </tr>\n",
       "    <tr>\n",
       "      <th>Ngay</th>\n",
       "      <th>Ma CP</th>\n",
       "      <th></th>\n",
       "    </tr>\n",
       "  </thead>\n",
       "  <tbody>\n",
       "    <tr>\n",
       "      <th>2025-08-14</th>\n",
       "      <th>VPB</th>\n",
       "      <td>31.2</td>\n",
       "    </tr>\n",
       "    <tr>\n",
       "      <th>2025-08-15</th>\n",
       "      <th>VPB</th>\n",
       "      <td>32.5</td>\n",
       "    </tr>\n",
       "    <tr>\n",
       "      <th>2025-08-14</th>\n",
       "      <th>TCB</th>\n",
       "      <td>35.1</td>\n",
       "    </tr>\n",
       "    <tr>\n",
       "      <th>2025-08-15</th>\n",
       "      <th>TCB</th>\n",
       "      <td>34.0</td>\n",
       "    </tr>\n",
       "    <tr>\n",
       "      <th>2025-08-14</th>\n",
       "      <th>VNM</th>\n",
       "      <td>60.5</td>\n",
       "    </tr>\n",
       "    <tr>\n",
       "      <th>2025-08-15</th>\n",
       "      <th>VNM</th>\n",
       "      <td>61.3</td>\n",
       "    </tr>\n",
       "  </tbody>\n",
       "</table>\n",
       "</div>"
      ],
      "text/plain": [
       "                  Price\n",
       "Ngay       Ma CP       \n",
       "2025-08-14 VPB     31.2\n",
       "2025-08-15 VPB     32.5\n",
       "2025-08-14 TCB     35.1\n",
       "2025-08-15 TCB     34.0\n",
       "2025-08-14 VNM     60.5\n",
       "2025-08-15 VNM     61.3"
      ]
     },
     "execution_count": 11,
     "metadata": {},
     "output_type": "execute_result"
    }
   ],
   "source": [
    "stock_prices.swaplevel(0, 1)"
   ]
  },
  {
   "cell_type": "markdown",
   "id": "f30d7050",
   "metadata": {},
   "source": [
    "#### **🔄 Cách khác để lấy giá các mã cổ phiếu của một ngày**\n",
    "\n",
    "Thay vì sử dụng `xs()`, chúng ta có thể:\n",
    "1. **Swap** thứ tự index (Ngày lên level 0)\n",
    "2. **Truy xuất** trực tiếp bằng `.loc[]`"
   ]
  },
  {
   "cell_type": "code",
   "execution_count": 12,
   "id": "22a54edf",
   "metadata": {},
   "outputs": [
    {
     "data": {
      "text/html": [
       "<div>\n",
       "<style scoped>\n",
       "    .dataframe tbody tr th:only-of-type {\n",
       "        vertical-align: middle;\n",
       "    }\n",
       "\n",
       "    .dataframe tbody tr th {\n",
       "        vertical-align: top;\n",
       "    }\n",
       "\n",
       "    .dataframe thead th {\n",
       "        text-align: right;\n",
       "    }\n",
       "</style>\n",
       "<table border=\"1\" class=\"dataframe\">\n",
       "  <thead>\n",
       "    <tr style=\"text-align: right;\">\n",
       "      <th></th>\n",
       "      <th>Price</th>\n",
       "    </tr>\n",
       "    <tr>\n",
       "      <th>Ma CP</th>\n",
       "      <th></th>\n",
       "    </tr>\n",
       "  </thead>\n",
       "  <tbody>\n",
       "    <tr>\n",
       "      <th>VPB</th>\n",
       "      <td>31.2</td>\n",
       "    </tr>\n",
       "    <tr>\n",
       "      <th>TCB</th>\n",
       "      <td>35.1</td>\n",
       "    </tr>\n",
       "    <tr>\n",
       "      <th>VNM</th>\n",
       "      <td>60.5</td>\n",
       "    </tr>\n",
       "  </tbody>\n",
       "</table>\n",
       "</div>"
      ],
      "text/plain": [
       "       Price\n",
       "Ma CP       \n",
       "VPB     31.2\n",
       "TCB     35.1\n",
       "VNM     60.5"
      ]
     },
     "execution_count": 12,
     "metadata": {},
     "output_type": "execute_result"
    }
   ],
   "source": [
    "stock_prices.swaplevel(0, 1).loc['2025-08-14']"
   ]
  },
  {
   "cell_type": "markdown",
   "id": "f49a3195",
   "metadata": {},
   "source": [
    "### **📊 Sắp xếp dữ liệu theo chỉ số phân cấp**\n",
    "\n",
    "Với MultiIndex, chúng ta có thể sắp xếp dữ liệu theo bất kỳ cấp nào:\n",
    "\n",
    "#### **🔄 Trước khi sắp xếp:**"
   ]
  },
  {
   "cell_type": "markdown",
   "id": "3739b680",
   "metadata": {},
   "source": [
    "- Trước khi sắp xếp"
   ]
  },
  {
   "cell_type": "code",
   "execution_count": 13,
   "id": "f13eec76",
   "metadata": {},
   "outputs": [
    {
     "name": "stdout",
     "output_type": "stream",
     "text": [
      "                  Price\n",
      "Ma CP Ngay             \n",
      "VPB   2025-08-14   31.2\n",
      "      2025-08-15   32.5\n",
      "TCB   2025-08-14   35.1\n",
      "      2025-08-15   34.0\n",
      "VNM   2025-08-14   60.5\n",
      "      2025-08-15   61.3\n"
     ]
    }
   ],
   "source": [
    "print(stock_prices)"
   ]
  },
  {
   "cell_type": "markdown",
   "id": "7cfc59e6",
   "metadata": {},
   "source": [
    "#### **📈 Sắp xếp theo Mã cổ phiếu (Level 0):**"
   ]
  },
  {
   "cell_type": "code",
   "execution_count": 14,
   "id": "561dcf92",
   "metadata": {},
   "outputs": [
    {
     "data": {
      "text/html": [
       "<div>\n",
       "<style scoped>\n",
       "    .dataframe tbody tr th:only-of-type {\n",
       "        vertical-align: middle;\n",
       "    }\n",
       "\n",
       "    .dataframe tbody tr th {\n",
       "        vertical-align: top;\n",
       "    }\n",
       "\n",
       "    .dataframe thead th {\n",
       "        text-align: right;\n",
       "    }\n",
       "</style>\n",
       "<table border=\"1\" class=\"dataframe\">\n",
       "  <thead>\n",
       "    <tr style=\"text-align: right;\">\n",
       "      <th></th>\n",
       "      <th></th>\n",
       "      <th>Price</th>\n",
       "    </tr>\n",
       "    <tr>\n",
       "      <th>Ma CP</th>\n",
       "      <th>Ngay</th>\n",
       "      <th></th>\n",
       "    </tr>\n",
       "  </thead>\n",
       "  <tbody>\n",
       "    <tr>\n",
       "      <th rowspan=\"2\" valign=\"top\">TCB</th>\n",
       "      <th>2025-08-14</th>\n",
       "      <td>35.1</td>\n",
       "    </tr>\n",
       "    <tr>\n",
       "      <th>2025-08-15</th>\n",
       "      <td>34.0</td>\n",
       "    </tr>\n",
       "    <tr>\n",
       "      <th rowspan=\"2\" valign=\"top\">VNM</th>\n",
       "      <th>2025-08-14</th>\n",
       "      <td>60.5</td>\n",
       "    </tr>\n",
       "    <tr>\n",
       "      <th>2025-08-15</th>\n",
       "      <td>61.3</td>\n",
       "    </tr>\n",
       "    <tr>\n",
       "      <th rowspan=\"2\" valign=\"top\">VPB</th>\n",
       "      <th>2025-08-14</th>\n",
       "      <td>31.2</td>\n",
       "    </tr>\n",
       "    <tr>\n",
       "      <th>2025-08-15</th>\n",
       "      <td>32.5</td>\n",
       "    </tr>\n",
       "  </tbody>\n",
       "</table>\n",
       "</div>"
      ],
      "text/plain": [
       "                  Price\n",
       "Ma CP Ngay             \n",
       "TCB   2025-08-14   35.1\n",
       "      2025-08-15   34.0\n",
       "VNM   2025-08-14   60.5\n",
       "      2025-08-15   61.3\n",
       "VPB   2025-08-14   31.2\n",
       "      2025-08-15   32.5"
      ]
     },
     "execution_count": 14,
     "metadata": {},
     "output_type": "execute_result"
    }
   ],
   "source": [
    "stock_prices.sort_index(level=0)"
   ]
  },
  {
   "cell_type": "markdown",
   "id": "57e29442",
   "metadata": {},
   "source": [
    "#### **📅 Sắp xếp theo Ngày (Level 1):**"
   ]
  },
  {
   "cell_type": "code",
   "execution_count": 15,
   "id": "95210176",
   "metadata": {},
   "outputs": [
    {
     "data": {
      "text/html": [
       "<div>\n",
       "<style scoped>\n",
       "    .dataframe tbody tr th:only-of-type {\n",
       "        vertical-align: middle;\n",
       "    }\n",
       "\n",
       "    .dataframe tbody tr th {\n",
       "        vertical-align: top;\n",
       "    }\n",
       "\n",
       "    .dataframe thead th {\n",
       "        text-align: right;\n",
       "    }\n",
       "</style>\n",
       "<table border=\"1\" class=\"dataframe\">\n",
       "  <thead>\n",
       "    <tr style=\"text-align: right;\">\n",
       "      <th></th>\n",
       "      <th></th>\n",
       "      <th>Price</th>\n",
       "    </tr>\n",
       "    <tr>\n",
       "      <th>Ma CP</th>\n",
       "      <th>Ngay</th>\n",
       "      <th></th>\n",
       "    </tr>\n",
       "  </thead>\n",
       "  <tbody>\n",
       "    <tr>\n",
       "      <th>TCB</th>\n",
       "      <th>2025-08-14</th>\n",
       "      <td>35.1</td>\n",
       "    </tr>\n",
       "    <tr>\n",
       "      <th>VNM</th>\n",
       "      <th>2025-08-14</th>\n",
       "      <td>60.5</td>\n",
       "    </tr>\n",
       "    <tr>\n",
       "      <th>VPB</th>\n",
       "      <th>2025-08-14</th>\n",
       "      <td>31.2</td>\n",
       "    </tr>\n",
       "    <tr>\n",
       "      <th>TCB</th>\n",
       "      <th>2025-08-15</th>\n",
       "      <td>34.0</td>\n",
       "    </tr>\n",
       "    <tr>\n",
       "      <th>VNM</th>\n",
       "      <th>2025-08-15</th>\n",
       "      <td>61.3</td>\n",
       "    </tr>\n",
       "    <tr>\n",
       "      <th>VPB</th>\n",
       "      <th>2025-08-15</th>\n",
       "      <td>32.5</td>\n",
       "    </tr>\n",
       "  </tbody>\n",
       "</table>\n",
       "</div>"
      ],
      "text/plain": [
       "                  Price\n",
       "Ma CP Ngay             \n",
       "TCB   2025-08-14   35.1\n",
       "VNM   2025-08-14   60.5\n",
       "VPB   2025-08-14   31.2\n",
       "TCB   2025-08-15   34.0\n",
       "VNM   2025-08-15   61.3\n",
       "VPB   2025-08-15   32.5"
      ]
     },
     "execution_count": 15,
     "metadata": {},
     "output_type": "execute_result"
    }
   ],
   "source": [
    "stock_prices.sort_index(level='Ngay')"
   ]
  },
  {
   "cell_type": "markdown",
   "id": "9e23035f",
   "metadata": {},
   "source": [
    "### **📊 Thống kê tóm tắt theo cấp**\n",
    "\n",
    "MultiIndex cho phép chúng ta thực hiện các phép toán thống kê theo từng cấp:\n",
    "\n",
    "#### **📈 Thống kê chi tiết theo Mã cổ phiếu:**"
   ]
  },
  {
   "cell_type": "code",
   "execution_count": 16,
   "id": "89ad92f1",
   "metadata": {},
   "outputs": [
    {
     "data": {
      "text/html": [
       "<div>\n",
       "<style scoped>\n",
       "    .dataframe tbody tr th:only-of-type {\n",
       "        vertical-align: middle;\n",
       "    }\n",
       "\n",
       "    .dataframe tbody tr th {\n",
       "        vertical-align: top;\n",
       "    }\n",
       "\n",
       "    .dataframe thead tr th {\n",
       "        text-align: left;\n",
       "    }\n",
       "\n",
       "    .dataframe thead tr:last-of-type th {\n",
       "        text-align: right;\n",
       "    }\n",
       "</style>\n",
       "<table border=\"1\" class=\"dataframe\">\n",
       "  <thead>\n",
       "    <tr>\n",
       "      <th></th>\n",
       "      <th colspan=\"8\" halign=\"left\">Price</th>\n",
       "    </tr>\n",
       "    <tr>\n",
       "      <th></th>\n",
       "      <th>count</th>\n",
       "      <th>mean</th>\n",
       "      <th>std</th>\n",
       "      <th>min</th>\n",
       "      <th>25%</th>\n",
       "      <th>50%</th>\n",
       "      <th>75%</th>\n",
       "      <th>max</th>\n",
       "    </tr>\n",
       "    <tr>\n",
       "      <th>Ma CP</th>\n",
       "      <th></th>\n",
       "      <th></th>\n",
       "      <th></th>\n",
       "      <th></th>\n",
       "      <th></th>\n",
       "      <th></th>\n",
       "      <th></th>\n",
       "      <th></th>\n",
       "    </tr>\n",
       "  </thead>\n",
       "  <tbody>\n",
       "    <tr>\n",
       "      <th>TCB</th>\n",
       "      <td>2.0</td>\n",
       "      <td>34.55</td>\n",
       "      <td>0.777817</td>\n",
       "      <td>34.0</td>\n",
       "      <td>34.275</td>\n",
       "      <td>34.55</td>\n",
       "      <td>34.825</td>\n",
       "      <td>35.1</td>\n",
       "    </tr>\n",
       "    <tr>\n",
       "      <th>VNM</th>\n",
       "      <td>2.0</td>\n",
       "      <td>60.90</td>\n",
       "      <td>0.565685</td>\n",
       "      <td>60.5</td>\n",
       "      <td>60.700</td>\n",
       "      <td>60.90</td>\n",
       "      <td>61.100</td>\n",
       "      <td>61.3</td>\n",
       "    </tr>\n",
       "    <tr>\n",
       "      <th>VPB</th>\n",
       "      <td>2.0</td>\n",
       "      <td>31.85</td>\n",
       "      <td>0.919239</td>\n",
       "      <td>31.2</td>\n",
       "      <td>31.525</td>\n",
       "      <td>31.85</td>\n",
       "      <td>32.175</td>\n",
       "      <td>32.5</td>\n",
       "    </tr>\n",
       "  </tbody>\n",
       "</table>\n",
       "</div>"
      ],
      "text/plain": [
       "      Price                                                    \n",
       "      count   mean       std   min     25%    50%     75%   max\n",
       "Ma CP                                                          \n",
       "TCB     2.0  34.55  0.777817  34.0  34.275  34.55  34.825  35.1\n",
       "VNM     2.0  60.90  0.565685  60.5  60.700  60.90  61.100  61.3\n",
       "VPB     2.0  31.85  0.919239  31.2  31.525  31.85  32.175  32.5"
      ]
     },
     "execution_count": 16,
     "metadata": {},
     "output_type": "execute_result"
    }
   ],
   "source": [
    "stock_prices.groupby(level=0).describe()"
   ]
  },
  {
   "cell_type": "code",
   "execution_count": 17,
   "id": "6d763a65",
   "metadata": {},
   "outputs": [
    {
     "data": {
      "text/html": [
       "<div>\n",
       "<style scoped>\n",
       "    .dataframe tbody tr th:only-of-type {\n",
       "        vertical-align: middle;\n",
       "    }\n",
       "\n",
       "    .dataframe tbody tr th {\n",
       "        vertical-align: top;\n",
       "    }\n",
       "\n",
       "    .dataframe thead th {\n",
       "        text-align: right;\n",
       "    }\n",
       "</style>\n",
       "<table border=\"1\" class=\"dataframe\">\n",
       "  <thead>\n",
       "    <tr style=\"text-align: right;\">\n",
       "      <th></th>\n",
       "      <th>Price</th>\n",
       "    </tr>\n",
       "    <tr>\n",
       "      <th>Ma CP</th>\n",
       "      <th></th>\n",
       "    </tr>\n",
       "  </thead>\n",
       "  <tbody>\n",
       "    <tr>\n",
       "      <th>TCB</th>\n",
       "      <td>34.55</td>\n",
       "    </tr>\n",
       "    <tr>\n",
       "      <th>VNM</th>\n",
       "      <td>60.90</td>\n",
       "    </tr>\n",
       "    <tr>\n",
       "      <th>VPB</th>\n",
       "      <td>31.85</td>\n",
       "    </tr>\n",
       "  </tbody>\n",
       "</table>\n",
       "</div>"
      ],
      "text/plain": [
       "       Price\n",
       "Ma CP       \n",
       "TCB    34.55\n",
       "VNM    60.90\n",
       "VPB    31.85"
      ]
     },
     "execution_count": 17,
     "metadata": {},
     "output_type": "execute_result"
    }
   ],
   "source": [
    "stock_prices.groupby(level='Ma CP').mean()"
   ]
  },
  {
   "cell_type": "markdown",
   "id": "c58152e7",
   "metadata": {},
   "source": [
    "---\n",
    "\n",
    "## **📊 So sánh các kỹ thuật kết hợp dữ liệu**\n",
    "\n",
    "Đã học xong các phương pháp kết hợp dữ liệu, hãy so sánh để hiểu rõ hơn:\n",
    "\n",
    "| **Phương pháp** | **Khi nào dùng** | **Ưu điểm** | **Nhược điểm** | **Ví dụ** |\n",
    "|-----------------|------------------|-------------|----------------|-----------|\n",
    "| **pandas.merge** | Kết hợp theo khóa chung | Linh hoạt, nhiều loại join | Phức tạp với nhiều bảng | Khách hàng + Đơn hàng |\n",
    "| **pandas.concat** | Nối dữ liệu cùng cấu trúc | Đơn giản, nhanh | Ít linh hoạt | Báo cáo theo tháng |\n",
    "| **combine_first** | Điền dữ liệu thiếu | Tự động điền missing | Chỉ cho 2 DataFrame | Cập nhật dữ liệu |\n",
    "\n",
    "### **🤔 Khi nào dùng gì?**\n",
    "\n",
    "**Dùng merge khi:**\n",
    "- ✅ Cần kết hợp theo khóa chung (ID, mã khách hàng)\n",
    "- ✅ Có quan hệ 1-1, 1-nhiều, nhiều-nhiều\n",
    "- ✅ Cần kiểm soát loại join (inner, left, right, outer)\n",
    "\n",
    "**Dùng concat khi:**\n",
    "- ✅ Dữ liệu có cùng cấu trúc\n",
    "- ✅ Cần nối theo hàng hoặc cột\n",
    "- ✅ Xử lý nhiều file cùng định dạng\n",
    "\n",
    "**Dùng combine_first khi:**\n",
    "- ✅ Cần điền dữ liệu thiếu\n",
    "- ✅ Có 2 DataFrame bổ sung cho nhau\n",
    "- ✅ Cần cập nhật dữ liệu cũ\n",
    "\n",
    "---\n",
    "\n",
    "## **📊 So sánh các kỹ thuật Reshaping**\n",
    "\n",
    "| **Kỹ thuật** | **Mục đích** | **Khi nào dùng** | **Ưu điểm** | **Nhược điểm** |\n",
    "|--------------|--------------|------------------|-------------|----------------|\n",
    "| **melt** | Wide → Long | Phân tích theo biến | Linh hoạt, dễ phân tích | Tăng số hàng |\n",
    "| **pivot** | Long → Wide | Tạo báo cáo | Dễ đọc, compact | Giảm tính linh hoạt |\n",
    "| **stack** | MultiIndex columns → rows | Xử lý MultiIndex | Tự động, nhanh | Phức tạp với nhiều cấp |\n",
    "| **unstack** | MultiIndex rows → columns | Tạo pivot từ MultiIndex | Linh hoạt với MultiIndex | Có thể tạo NaN |\n",
    "\n",
    "### **🎯 Chọn kỹ thuật phù hợp:**\n",
    "\n",
    "**melt:**\n",
    "- ✅ Cần phân tích theo biến\n",
    "- ✅ Dữ liệu dạng wide\n",
    "- ✅ Cần groupby theo biến\n",
    "\n",
    "**pivot:**\n",
    "- ✅ Cần tạo báo cáo\n",
    "- ✅ Dữ liệu dạng long\n",
    "- ✅ Cần hiển thị compact\n",
    "\n",
    "**stack/unstack:**\n",
    "- ✅ Có MultiIndex\n",
    "- ✅ Cần chuyển đổi cấu trúc\n",
    "- ✅ Xử lý dữ liệu phức tạp\n",
    "\n",
    "---\n",
    "\n",
    "---\n",
    "\n",
    "## **📊 Phần 2: Kết hợp dữ liệu (Data Merging)**\n",
    "\n",
    "---\n",
    "\n",
    "### **🎯 Tại sao cần kết hợp dữ liệu?**\n",
    "\n",
    "Trong thực tế, dữ liệu thường được lưu trữ ở nhiều nơi khác nhau:\n",
    "\n",
    "- **Bảng khách hàng:** Thông tin cá nhân, địa chỉ\n",
    "- **Bảng đơn hàng:** Mã khách hàng, sản phẩm, giá trị\n",
    "- **Bảng sản phẩm:** Thông tin chi tiết sản phẩm\n",
    "\n",
    "Để phân tích toàn diện, chúng ta cần **kết hợp** các bảng này lại.\n",
    "\n",
    "### **🔍 Ví dụ thực tế: Phân tích khách hàng**\n",
    "\n",
    "Giả sử bạn là nhà phân tích kinh doanh và cần:\n",
    "1. **Biết khách hàng nào** mua nhiều nhất\n",
    "2. **Tính giá trị trung bình** mỗi đơn của từng khách\n",
    "3. **Phân tích theo giới tính** và độ tuổi\n",
    "\n",
    "### **🔧 Tạo dữ liệu mẫu:**"
   ]
  },
  {
   "cell_type": "markdown",
   "id": "1737a662",
   "metadata": {},
   "source": [
    "#### **👥 Bảng 1: Thông tin khách hàng**"
   ]
  },
  {
   "cell_type": "code",
   "execution_count": 18,
   "id": "27c2d134",
   "metadata": {},
   "outputs": [
    {
     "name": "stdout",
     "output_type": "stream",
     "text": [
      "  Region Channel  Year Quarter  Revenue\n",
      "0  North  Online  2024      Q1      100\n",
      "1  North  Online  2024      Q2      130\n",
      "2  North   Store  2024      Q1      120\n",
      "3  North   Store  2024      Q2      140\n",
      "4  South  Online  2025      Q1       90\n",
      "5  South  Online  2025      Q2       95\n",
      "6  South   Store  2025      Q1      110\n",
      "7  South   Store  2025      Q2      115\n"
     ]
    }
   ],
   "source": [
    "import pandas as pd\n",
    "data = {\n",
    "    'Region': ['North','North','North','North','South','South','South','South'],\n",
    "    'Channel': ['Online','Online','Store','Store','Online','Online','Store','Store'],\n",
    "    'Year': [2024,2024,2024,2024,2025,2025,2025,2025],\n",
    "    'Quarter': ['Q1','Q2','Q1','Q2','Q1','Q2','Q1','Q2'],\n",
    "    'Revenue': [100,130,120,140,90,95,110,115]\n",
    "}\n",
    "\n",
    "df = pd.DataFrame(data)\n",
    "print(df)"
   ]
  },
  {
   "cell_type": "markdown",
   "id": "7abf102c",
   "metadata": {},
   "source": [
    "- Đánh chỉ số phân cấp theo một số cột để dễ dàng quan sát và truy xuất dữ liệu hơn"
   ]
  },
  {
   "cell_type": "code",
   "execution_count": 19,
   "id": "f50bde21",
   "metadata": {},
   "outputs": [
    {
     "data": {
      "text/html": [
       "<div>\n",
       "<style scoped>\n",
       "    .dataframe tbody tr th:only-of-type {\n",
       "        vertical-align: middle;\n",
       "    }\n",
       "\n",
       "    .dataframe tbody tr th {\n",
       "        vertical-align: top;\n",
       "    }\n",
       "\n",
       "    .dataframe thead th {\n",
       "        text-align: right;\n",
       "    }\n",
       "</style>\n",
       "<table border=\"1\" class=\"dataframe\">\n",
       "  <thead>\n",
       "    <tr style=\"text-align: right;\">\n",
       "      <th></th>\n",
       "      <th></th>\n",
       "      <th></th>\n",
       "      <th></th>\n",
       "      <th>Revenue</th>\n",
       "    </tr>\n",
       "    <tr>\n",
       "      <th>Region</th>\n",
       "      <th>Channel</th>\n",
       "      <th>Year</th>\n",
       "      <th>Quarter</th>\n",
       "      <th></th>\n",
       "    </tr>\n",
       "  </thead>\n",
       "  <tbody>\n",
       "    <tr>\n",
       "      <th rowspan=\"4\" valign=\"top\">North</th>\n",
       "      <th rowspan=\"2\" valign=\"top\">Online</th>\n",
       "      <th rowspan=\"2\" valign=\"top\">2024</th>\n",
       "      <th>Q1</th>\n",
       "      <td>100</td>\n",
       "    </tr>\n",
       "    <tr>\n",
       "      <th>Q2</th>\n",
       "      <td>130</td>\n",
       "    </tr>\n",
       "    <tr>\n",
       "      <th rowspan=\"2\" valign=\"top\">Store</th>\n",
       "      <th rowspan=\"2\" valign=\"top\">2024</th>\n",
       "      <th>Q1</th>\n",
       "      <td>120</td>\n",
       "    </tr>\n",
       "    <tr>\n",
       "      <th>Q2</th>\n",
       "      <td>140</td>\n",
       "    </tr>\n",
       "    <tr>\n",
       "      <th rowspan=\"4\" valign=\"top\">South</th>\n",
       "      <th rowspan=\"2\" valign=\"top\">Online</th>\n",
       "      <th rowspan=\"2\" valign=\"top\">2025</th>\n",
       "      <th>Q1</th>\n",
       "      <td>90</td>\n",
       "    </tr>\n",
       "    <tr>\n",
       "      <th>Q2</th>\n",
       "      <td>95</td>\n",
       "    </tr>\n",
       "    <tr>\n",
       "      <th rowspan=\"2\" valign=\"top\">Store</th>\n",
       "      <th rowspan=\"2\" valign=\"top\">2025</th>\n",
       "      <th>Q1</th>\n",
       "      <td>110</td>\n",
       "    </tr>\n",
       "    <tr>\n",
       "      <th>Q2</th>\n",
       "      <td>115</td>\n",
       "    </tr>\n",
       "  </tbody>\n",
       "</table>\n",
       "</div>"
      ],
      "text/plain": [
       "                             Revenue\n",
       "Region Channel Year Quarter         \n",
       "North  Online  2024 Q1           100\n",
       "                    Q2           130\n",
       "       Store   2024 Q1           120\n",
       "                    Q2           140\n",
       "South  Online  2025 Q1            90\n",
       "                    Q2            95\n",
       "       Store   2025 Q1           110\n",
       "                    Q2           115"
      ]
     },
     "execution_count": 19,
     "metadata": {},
     "output_type": "execute_result"
    }
   ],
   "source": [
    "df.set_index(['Region', 'Channel', 'Year', 'Quarter'])"
   ]
  },
  {
   "cell_type": "markdown",
   "id": "d81961e7",
   "metadata": {},
   "source": [
    "- Khi đánh chỉ số phân cấp, mặc định các cột được dùng đánh chỉ số bị loại khỏi dữ liệu, nếu muốn giữ lại các cột đó:"
   ]
  },
  {
   "cell_type": "code",
   "execution_count": 20,
   "id": "6aec99ad",
   "metadata": {},
   "outputs": [
    {
     "name": "stdout",
     "output_type": "stream",
     "text": [
      "                            Region Channel  Year Quarter  Revenue\n",
      "Region Channel Year Quarter                                      \n",
      "North  Online  2024 Q1       North  Online  2024      Q1      100\n",
      "                    Q2       North  Online  2024      Q2      130\n",
      "       Store   2024 Q1       North   Store  2024      Q1      120\n",
      "                    Q2       North   Store  2024      Q2      140\n",
      "South  Online  2025 Q1       South  Online  2025      Q1       90\n",
      "                    Q2       South  Online  2025      Q2       95\n",
      "       Store   2025 Q1       South   Store  2025      Q1      110\n",
      "                    Q2       South   Store  2025      Q2      115\n"
     ]
    }
   ],
   "source": [
    "df2 = df.set_index(['Region', 'Channel', 'Year', 'Quarter'], drop=False)\n",
    "print(df2)"
   ]
  },
  {
   "cell_type": "code",
   "execution_count": 21,
   "id": "fab42b68",
   "metadata": {},
   "outputs": [
    {
     "name": "stdout",
     "output_type": "stream",
     "text": [
      "                             Revenue\n",
      "Region Channel Year Quarter         \n",
      "North  Online  2024 Q1           100\n",
      "                    Q2           130\n",
      "       Store   2024 Q1           120\n",
      "                    Q2           140\n",
      "South  Online  2025 Q1            90\n",
      "                    Q2            95\n",
      "       Store   2025 Q1           110\n",
      "                    Q2           115\n"
     ]
    },
    {
     "data": {
      "text/html": [
       "<div>\n",
       "<style scoped>\n",
       "    .dataframe tbody tr th:only-of-type {\n",
       "        vertical-align: middle;\n",
       "    }\n",
       "\n",
       "    .dataframe tbody tr th {\n",
       "        vertical-align: top;\n",
       "    }\n",
       "\n",
       "    .dataframe thead th {\n",
       "        text-align: right;\n",
       "    }\n",
       "</style>\n",
       "<table border=\"1\" class=\"dataframe\">\n",
       "  <thead>\n",
       "    <tr style=\"text-align: right;\">\n",
       "      <th></th>\n",
       "      <th>Region</th>\n",
       "      <th>Channel</th>\n",
       "      <th>Year</th>\n",
       "      <th>Quarter</th>\n",
       "      <th>Revenue</th>\n",
       "    </tr>\n",
       "  </thead>\n",
       "  <tbody>\n",
       "    <tr>\n",
       "      <th>0</th>\n",
       "      <td>North</td>\n",
       "      <td>Online</td>\n",
       "      <td>2024</td>\n",
       "      <td>Q1</td>\n",
       "      <td>100</td>\n",
       "    </tr>\n",
       "    <tr>\n",
       "      <th>1</th>\n",
       "      <td>North</td>\n",
       "      <td>Online</td>\n",
       "      <td>2024</td>\n",
       "      <td>Q2</td>\n",
       "      <td>130</td>\n",
       "    </tr>\n",
       "    <tr>\n",
       "      <th>2</th>\n",
       "      <td>North</td>\n",
       "      <td>Store</td>\n",
       "      <td>2024</td>\n",
       "      <td>Q1</td>\n",
       "      <td>120</td>\n",
       "    </tr>\n",
       "    <tr>\n",
       "      <th>3</th>\n",
       "      <td>North</td>\n",
       "      <td>Store</td>\n",
       "      <td>2024</td>\n",
       "      <td>Q2</td>\n",
       "      <td>140</td>\n",
       "    </tr>\n",
       "    <tr>\n",
       "      <th>4</th>\n",
       "      <td>South</td>\n",
       "      <td>Online</td>\n",
       "      <td>2025</td>\n",
       "      <td>Q1</td>\n",
       "      <td>90</td>\n",
       "    </tr>\n",
       "    <tr>\n",
       "      <th>5</th>\n",
       "      <td>South</td>\n",
       "      <td>Online</td>\n",
       "      <td>2025</td>\n",
       "      <td>Q2</td>\n",
       "      <td>95</td>\n",
       "    </tr>\n",
       "    <tr>\n",
       "      <th>6</th>\n",
       "      <td>South</td>\n",
       "      <td>Store</td>\n",
       "      <td>2025</td>\n",
       "      <td>Q1</td>\n",
       "      <td>110</td>\n",
       "    </tr>\n",
       "    <tr>\n",
       "      <th>7</th>\n",
       "      <td>South</td>\n",
       "      <td>Store</td>\n",
       "      <td>2025</td>\n",
       "      <td>Q2</td>\n",
       "      <td>115</td>\n",
       "    </tr>\n",
       "  </tbody>\n",
       "</table>\n",
       "</div>"
      ],
      "text/plain": [
       "  Region Channel  Year Quarter  Revenue\n",
       "0  North  Online  2024      Q1      100\n",
       "1  North  Online  2024      Q2      130\n",
       "2  North   Store  2024      Q1      120\n",
       "3  North   Store  2024      Q2      140\n",
       "4  South  Online  2025      Q1       90\n",
       "5  South  Online  2025      Q2       95\n",
       "6  South   Store  2025      Q1      110\n",
       "7  South   Store  2025      Q2      115"
      ]
     },
     "execution_count": 21,
     "metadata": {},
     "output_type": "execute_result"
    }
   ],
   "source": [
    "df1 = df.set_index(['Region', 'Channel', 'Year', 'Quarter'])\n",
    "print(df1)\n",
    "df1.reset_index()"
   ]
  },
  {
   "cell_type": "markdown",
   "id": "3ae7e9ad-6416-4bab-be3a-96ce1223f48f",
   "metadata": {},
   "source": [
    "### Chỉ số phân cấp cho cột"
   ]
  },
  {
   "cell_type": "markdown",
   "id": "16b412c4",
   "metadata": {},
   "source": [
    "Đánh thêm chỉ số phân cấp cho cột giúp việc truy xuất, xử lý dữ liệu được thuận tiện hơn."
   ]
  },
  {
   "cell_type": "code",
   "execution_count": 22,
   "id": "90d596b8",
   "metadata": {},
   "outputs": [
    {
     "name": "stdout",
     "output_type": "stream",
     "text": [
      "                             Revenue\n",
      "Region Channel Year Quarter         \n",
      "North  Online  2024 Q1           100\n",
      "                    Q2           130\n",
      "       Store   2024 Q1           120\n",
      "                    Q2           140\n",
      "South  Online  2025 Q1            90\n",
      "                    Q2            95\n",
      "       Store   2025 Q1           110\n",
      "                    Q2           115\n"
     ]
    }
   ],
   "source": [
    "df1 = df.set_index(['Region', 'Channel', 'Year', 'Quarter'])\n",
    "print(df1)"
   ]
  },
  {
   "cell_type": "markdown",
   "id": "c23f9287",
   "metadata": {},
   "source": [
    "Bước 2: Biến `Year` và `Quarter` thành multi index cho cột\n",
    "- `unstack()` để xoay index hàng thành cột\n"
   ]
  },
  {
   "cell_type": "code",
   "execution_count": 23,
   "id": "2b39224f",
   "metadata": {},
   "outputs": [
    {
     "name": "stdout",
     "output_type": "stream",
     "text": [
      "               Revenue                     \n",
      "Year              2024          2025       \n",
      "Quarter             Q1     Q2     Q1     Q2\n",
      "Region Channel                             \n",
      "North  Online    100.0  130.0    NaN    NaN\n",
      "       Store     120.0  140.0    NaN    NaN\n",
      "South  Online      NaN    NaN   90.0   95.0\n",
      "       Store       NaN    NaN  110.0  115.0\n"
     ]
    }
   ],
   "source": [
    "df2 = df1.unstack(['Year', 'Quarter'])\n",
    "print(df2)"
   ]
  },
  {
   "cell_type": "markdown",
   "id": "784eb779",
   "metadata": {},
   "source": [
    "- Sử dụng `stack()` để ép cột xuống thành hàng"
   ]
  },
  {
   "cell_type": "code",
   "execution_count": 24,
   "id": "db2a79ee",
   "metadata": {},
   "outputs": [
    {
     "name": "stdout",
     "output_type": "stream",
     "text": [
      "                             Revenue\n",
      "Region Channel Year Quarter         \n",
      "North  Online  2024 Q1         100.0\n",
      "                    Q2         130.0\n",
      "       Store   2024 Q1         120.0\n",
      "                    Q2         140.0\n",
      "South  Online  2025 Q1          90.0\n",
      "                    Q2          95.0\n",
      "       Store   2025 Q1         110.0\n",
      "                    Q2         115.0\n"
     ]
    },
    {
     "name": "stderr",
     "output_type": "stream",
     "text": [
      "/var/folders/8x/cphm0p8j0h16x_zm6w8f2nww0000gn/T/ipykernel_64215/4169368457.py:1: FutureWarning: The previous implementation of stack is deprecated and will be removed in a future version of pandas. See the What's New notes for pandas 2.1.0 for details. Specify future_stack=True to adopt the new implementation and silence this warning.\n",
      "  df3 = df2.stack(['Year', 'Quarter'])\n"
     ]
    }
   ],
   "source": [
    "df3 = df2.stack(['Year', 'Quarter'])\n",
    "print(df3)"
   ]
  },
  {
   "cell_type": "markdown",
   "id": "b9c55188",
   "metadata": {},
   "source": [
    "- Truy xuất dữ liệu với multi-index hàng và cột"
   ]
  },
  {
   "cell_type": "code",
   "execution_count": 25,
   "id": "f21f7232",
   "metadata": {},
   "outputs": [
    {
     "data": {
      "text/html": [
       "<div>\n",
       "<style scoped>\n",
       "    .dataframe tbody tr th:only-of-type {\n",
       "        vertical-align: middle;\n",
       "    }\n",
       "\n",
       "    .dataframe tbody tr th {\n",
       "        vertical-align: top;\n",
       "    }\n",
       "\n",
       "    .dataframe thead th {\n",
       "        text-align: right;\n",
       "    }\n",
       "</style>\n",
       "<table border=\"1\" class=\"dataframe\">\n",
       "  <thead>\n",
       "    <tr style=\"text-align: right;\">\n",
       "      <th></th>\n",
       "      <th>Quarter</th>\n",
       "      <th>Q1</th>\n",
       "      <th>Q2</th>\n",
       "    </tr>\n",
       "    <tr>\n",
       "      <th>Region</th>\n",
       "      <th>Channel</th>\n",
       "      <th></th>\n",
       "      <th></th>\n",
       "    </tr>\n",
       "  </thead>\n",
       "  <tbody>\n",
       "    <tr>\n",
       "      <th rowspan=\"2\" valign=\"top\">North</th>\n",
       "      <th>Online</th>\n",
       "      <td>NaN</td>\n",
       "      <td>NaN</td>\n",
       "    </tr>\n",
       "    <tr>\n",
       "      <th>Store</th>\n",
       "      <td>NaN</td>\n",
       "      <td>NaN</td>\n",
       "    </tr>\n",
       "    <tr>\n",
       "      <th rowspan=\"2\" valign=\"top\">South</th>\n",
       "      <th>Online</th>\n",
       "      <td>90.0</td>\n",
       "      <td>95.0</td>\n",
       "    </tr>\n",
       "    <tr>\n",
       "      <th>Store</th>\n",
       "      <td>110.0</td>\n",
       "      <td>115.0</td>\n",
       "    </tr>\n",
       "  </tbody>\n",
       "</table>\n",
       "</div>"
      ],
      "text/plain": [
       "Quarter            Q1     Q2\n",
       "Region Channel              \n",
       "North  Online     NaN    NaN\n",
       "       Store      NaN    NaN\n",
       "South  Online    90.0   95.0\n",
       "       Store    110.0  115.0"
      ]
     },
     "execution_count": 25,
     "metadata": {},
     "output_type": "execute_result"
    }
   ],
   "source": [
    "df2['Revenue', 2025]"
   ]
  },
  {
   "cell_type": "code",
   "execution_count": 26,
   "id": "00eb1b7a",
   "metadata": {},
   "outputs": [
    {
     "data": {
      "text/html": [
       "<div>\n",
       "<style scoped>\n",
       "    .dataframe tbody tr th:only-of-type {\n",
       "        vertical-align: middle;\n",
       "    }\n",
       "\n",
       "    .dataframe tbody tr th {\n",
       "        vertical-align: top;\n",
       "    }\n",
       "\n",
       "    .dataframe thead th {\n",
       "        text-align: right;\n",
       "    }\n",
       "</style>\n",
       "<table border=\"1\" class=\"dataframe\">\n",
       "  <thead>\n",
       "    <tr style=\"text-align: right;\">\n",
       "      <th>Quarter</th>\n",
       "      <th>Q1</th>\n",
       "      <th>Q2</th>\n",
       "    </tr>\n",
       "    <tr>\n",
       "      <th>Channel</th>\n",
       "      <th></th>\n",
       "      <th></th>\n",
       "    </tr>\n",
       "  </thead>\n",
       "  <tbody>\n",
       "    <tr>\n",
       "      <th>Online</th>\n",
       "      <td>100.0</td>\n",
       "      <td>130.0</td>\n",
       "    </tr>\n",
       "    <tr>\n",
       "      <th>Store</th>\n",
       "      <td>120.0</td>\n",
       "      <td>140.0</td>\n",
       "    </tr>\n",
       "  </tbody>\n",
       "</table>\n",
       "</div>"
      ],
      "text/plain": [
       "Quarter     Q1     Q2\n",
       "Channel              \n",
       "Online   100.0  130.0\n",
       "Store    120.0  140.0"
      ]
     },
     "execution_count": 26,
     "metadata": {},
     "output_type": "execute_result"
    }
   ],
   "source": [
    "df2.loc[('North'), ('Revenue',2024)]\n"
   ]
  },
  {
   "cell_type": "code",
   "execution_count": 27,
   "id": "6288e96a",
   "metadata": {},
   "outputs": [
    {
     "data": {
      "text/html": [
       "<div>\n",
       "<style scoped>\n",
       "    .dataframe tbody tr th:only-of-type {\n",
       "        vertical-align: middle;\n",
       "    }\n",
       "\n",
       "    .dataframe tbody tr th {\n",
       "        vertical-align: top;\n",
       "    }\n",
       "\n",
       "    .dataframe thead th {\n",
       "        text-align: right;\n",
       "    }\n",
       "</style>\n",
       "<table border=\"1\" class=\"dataframe\">\n",
       "  <thead>\n",
       "    <tr style=\"text-align: right;\">\n",
       "      <th></th>\n",
       "      <th>Quarter</th>\n",
       "      <th>Q1</th>\n",
       "      <th>Q2</th>\n",
       "    </tr>\n",
       "    <tr>\n",
       "      <th>Region</th>\n",
       "      <th>Channel</th>\n",
       "      <th></th>\n",
       "      <th></th>\n",
       "    </tr>\n",
       "  </thead>\n",
       "  <tbody>\n",
       "    <tr>\n",
       "      <th>North</th>\n",
       "      <th>Online</th>\n",
       "      <td>100.0</td>\n",
       "      <td>130.0</td>\n",
       "    </tr>\n",
       "    <tr>\n",
       "      <th>South</th>\n",
       "      <th>Online</th>\n",
       "      <td>NaN</td>\n",
       "      <td>NaN</td>\n",
       "    </tr>\n",
       "  </tbody>\n",
       "</table>\n",
       "</div>"
      ],
      "text/plain": [
       "Quarter            Q1     Q2\n",
       "Region Channel              \n",
       "North  Online   100.0  130.0\n",
       "South  Online     NaN    NaN"
      ]
     },
     "execution_count": 27,
     "metadata": {},
     "output_type": "execute_result"
    }
   ],
   "source": [
    "df2.loc[(slice(None),'Online'), ('Revenue',2024)]\n"
   ]
  },
  {
   "cell_type": "markdown",
   "id": "ccfd53b1-f5fb-4d9e-8895-8c572a7ec856",
   "metadata": {},
   "source": [
    "## Kết hợp các tập dữ liệu\n",
    "<hr>"
   ]
  },
  {
   "cell_type": "markdown",
   "id": "96f0fb1d",
   "metadata": {},
   "source": [
    "Dữ liệu thường nằm rải rác từ nhiều nguồn dữ liệu khác nhau, khi đó chúng ta cần ghép nối dự liệu từ các nguồn này lại với nhau để phục vụ quá trình phân tích, xử lý dữ liệu. \n",
    "\n",
    "Thư viện **pandas** cung cấp một số phương pháp linh hoạt và hiệu quả để thực hiện việc này, bao gồm:\n",
    "\n",
    "- **`pandas.merge`**  \n",
    "  Phương pháp này cho phép kết nối các hàng giữa hai hoặc nhiều `DataFrame` dựa trên một hoặc nhiều khóa chung. Cách tiếp cận này tương tự với các thao tác *join* trong ngôn ngữ truy vấn SQL và thường được sử dụng trong các hệ quản trị cơ sở dữ liệu quan hệ.\n",
    "\n",
    "- **`pandas.concat`**\n",
    "  Được sử dụng để ghép nối các đối tượng dọc theo một trục xác định (theo hàng hoặc theo cột). Phương pháp này thích hợp trong các tình huống cần kết hợp dữ liệu có cùng cấu trúc.\n",
    "\n",
    "- **`combine_first`** \n",
    "  Dùng để kết hợp hai đối tượng có cấu trúc tương tự, trong đó các giá trị bị thiếu (*missing values*) trong một đối tượng sẽ được điền bởi các giá trị tương ứng từ đối tượng còn lại. Đây là phương pháp hữu ích trong việc làm sạch và bổ sung dữ liệu.\n"
   ]
  },
  {
   "cell_type": "markdown",
   "id": "b66b7fe2-cb55-4046-a927-761d169fd915",
   "metadata": {},
   "source": [
    "### pandas.merge: Gộp và nối dữ liệu"
   ]
  },
  {
   "cell_type": "markdown",
   "id": "5ef2ce1b",
   "metadata": {},
   "source": [
    "#### Tại sao?\n",
    "\n",
    "Xét ví dụ về dữ liệu khách hàng như sau:\n",
    "- Bảng 1: Lưu thông tin khách hàng, gồm: mã khách hàng, tên khách hàng, giới tính, năm sinh\n",
    "- Bảng 2: Lưu thông tin giao dịch của khách hàng, gồm: mã đơn hàng, mã khách hàng, giá trị đơn hàng\n",
    "\n",
    "Chúng ta cần phân tích xem khách hàng nào mua nhiều, giá trị trung bình mỗi đơn của từng khách là bao nhiêu,..."
   ]
  },
  {
   "cell_type": "code",
   "execution_count": 28,
   "id": "f14679c8",
   "metadata": {},
   "outputs": [
    {
     "name": "stdout",
     "output_type": "stream",
     "text": [
      "  code  name gender  birthYear\n",
      "0  001   Hoa     Nữ       1985\n",
      "1  002  Hùng    Nam       1999\n",
      "2  003  Linh     Nữ       2001\n",
      "3  004    An     Nữ       2005\n"
     ]
    }
   ],
   "source": [
    "import pandas as pd\n",
    "customers = pd.DataFrame({ \n",
    "                          'code': ['001', '002', '003', '004'],\n",
    "                          'name': ['Hoa', 'Hùng', 'Linh', 'An'],\n",
    "                          'gender': ['Nữ', 'Nam', 'Nữ', 'Nữ'],\n",
    "                          'birthYear': [1985, 1999, 2001, 2005],\n",
    "                          })\n",
    "print(customers)"
   ]
  },
  {
   "cell_type": "code",
   "execution_count": 29,
   "id": "02b4cdb2",
   "metadata": {},
   "outputs": [
    {
     "name": "stdout",
     "output_type": "stream",
     "text": [
      "   order_number customer_code  amount\n",
      "0           100           001  120000\n",
      "1           101           002  245000\n",
      "2           102           001  150000\n",
      "3           103           003  340000\n",
      "4           104           001  230000\n"
     ]
    }
   ],
   "source": [
    "orders = pd.DataFrame({\n",
    "    'order_number': [100, 101, 102, 103, 104],\n",
    "    'customer_code': ['001', '002', '001', '003', '001'],\n",
    "    'amount': [120_000, 245_000, 150_000, 340_000, 230_000]\n",
    "})\n",
    "print(orders)"
   ]
  },
  {
   "cell_type": "markdown",
   "id": "4bc431e4",
   "metadata": {},
   "source": [
    "Làm sao biết khách hàng tên `Hoa` đã mua bao nhiêu đơn?, giá trị trung bình đơn hàng là bao nhiêu?"
   ]
  },
  {
   "cell_type": "markdown",
   "id": "a4dac984",
   "metadata": {},
   "source": [
    "#### Kết hợp dữ liệu trong **pandas**"
   ]
  },
  {
   "cell_type": "code",
   "execution_count": 30,
   "id": "7b525499",
   "metadata": {},
   "outputs": [
    {
     "name": "stdout",
     "output_type": "stream",
     "text": [
      "   order_number customer_code  amount code  name gender  birthYear\n",
      "0           100           001  120000  001   Hoa     Nữ       1985\n",
      "1           101           002  245000  002  Hùng    Nam       1999\n",
      "2           102           001  150000  001   Hoa     Nữ       1985\n",
      "3           103           003  340000  003  Linh     Nữ       2001\n",
      "4           104           001  230000  001   Hoa     Nữ       1985\n"
     ]
    }
   ],
   "source": [
    "merged = pd.merge(orders, customers, left_on='customer_code', right_on='code', how='inner')\n",
    "print(merged)"
   ]
  },
  {
   "cell_type": "markdown",
   "id": "0a1bad7c",
   "metadata": {},
   "source": [
    "Không thấy khách hàng tên `An` trong bảng tổng hợp?"
   ]
  },
  {
   "cell_type": "code",
   "execution_count": 31,
   "id": "67f6f292",
   "metadata": {},
   "outputs": [
    {
     "name": "stdout",
     "output_type": "stream",
     "text": [
      "   order_number customer_code    amount code  name gender  birthYear\n",
      "0         100.0           001  120000.0  001   Hoa     Nữ       1985\n",
      "1         102.0           001  150000.0  001   Hoa     Nữ       1985\n",
      "2         104.0           001  230000.0  001   Hoa     Nữ       1985\n",
      "3         101.0           002  245000.0  002  Hùng    Nam       1999\n",
      "4         103.0           003  340000.0  003  Linh     Nữ       2001\n",
      "5           NaN           NaN       NaN  004    An     Nữ       2005\n"
     ]
    }
   ],
   "source": [
    "merged_outer = pd.merge(orders, customers, left_on='customer_code', right_on='code', how='outer')\n",
    "print(merged_outer)"
   ]
  },
  {
   "cell_type": "markdown",
   "id": "b31004a3",
   "metadata": {},
   "source": [
    "**Bảng các giá trị khác nhau với đối số `how`**\n",
    "\n",
    "| Tùy chọn      | Hành vi                                                                 |\n",
    "|---------------|-------------------------------------------------------------------------|\n",
    "| `how=\"inner\"` | Chỉ sử dụng các tổ hợp khóa được quan sát thấy trong cả hai bảng           |\n",
    "| `how=\"left\"`  | Sử dụng tất cả các tổ hợp khóa được tìm thấy trong bảng bên trái            |\n",
    "| `how=\"right\"` | Sử dụng tất cả các tổ hợp khóa được tìm thấy trong bảng bên phải           |\n",
    "| `how=\"outer\"` | Sử dụng tất cả các tổ hợp khóa được quan sát thấy trong cả hai bảng cùng nhau |"
   ]
  },
  {
   "cell_type": "markdown",
   "id": "53502759",
   "metadata": {},
   "source": [
    "#### Phép gộp nhiều-nhiều (many-to-many)"
   ]
  },
  {
   "cell_type": "markdown",
   "id": "0b08382f",
   "metadata": {},
   "source": [
    "- Thế nào là quan hệ nhiều-nhiều (many-to-many)?\n",
    "- Xét ví dụ sau:\n",
    "    - Một khách hàng mua nhiều sản phẩm\n",
    "    - Một khách  hàng thích nhiều sản phẩm"
   ]
  },
  {
   "cell_type": "code",
   "execution_count": 32,
   "id": "40707eeb",
   "metadata": {},
   "outputs": [
    {
     "name": "stdout",
     "output_type": "stream",
     "text": [
      "  customer product_purchased\n",
      "0    Alice            Laptop\n",
      "1    Alice             Mouse\n",
      "2      Bob            Tablet\n",
      "3  Charlie             Phone\n",
      "4  Charlie             Mouse\n"
     ]
    }
   ],
   "source": [
    "purchases = pd.DataFrame({\n",
    "    'customer': ['Alice','Alice','Bob','Charlie','Charlie'],\n",
    "    'product_purchased': ['Laptop','Mouse','Tablet','Phone','Mouse']\n",
    "})\n",
    "\n",
    "print(purchases)"
   ]
  },
  {
   "cell_type": "code",
   "execution_count": 33,
   "id": "609f2036",
   "metadata": {},
   "outputs": [
    {
     "name": "stdout",
     "output_type": "stream",
     "text": [
      "  customer favorite_product\n",
      "0    Alice         Keyboard\n",
      "1      Bob            Mouse\n",
      "2    Alice          Monitor\n",
      "3  Charlie           Laptop\n"
     ]
    }
   ],
   "source": [
    "favorites = pd.DataFrame({\n",
    "    'customer': ['Alice','Bob','Alice','Charlie'],\n",
    "    'favorite_product': ['Keyboard','Mouse','Monitor','Laptop']\n",
    "})\n",
    "\n",
    "print(favorites)"
   ]
  },
  {
   "cell_type": "markdown",
   "id": "ec9744c3",
   "metadata": {},
   "source": [
    "Cần thấy quan hệ giữa sản phẩm đã mua và sản phẩm yêu thích:\n",
    "- Phát hiện sản phẩm khách chưa mua \n",
    "- Dự đoán nhu cầu -> xây dựng chương trình khuyến mại"
   ]
  },
  {
   "cell_type": "code",
   "execution_count": 34,
   "id": "2cf0e8ab",
   "metadata": {},
   "outputs": [
    {
     "name": "stdout",
     "output_type": "stream",
     "text": [
      "  customer product_purchased favorite_product\n",
      "0    Alice            Laptop         Keyboard\n",
      "1    Alice            Laptop          Monitor\n",
      "2    Alice             Mouse         Keyboard\n",
      "3    Alice             Mouse          Monitor\n",
      "4      Bob            Tablet            Mouse\n",
      "5  Charlie             Phone           Laptop\n",
      "6  Charlie             Mouse           Laptop\n"
     ]
    }
   ],
   "source": [
    "purchases_favorite = pd.merge(purchases, favorites, on='customer', how='inner')\n",
    "print(purchases_favorite)"
   ]
  },
  {
   "cell_type": "markdown",
   "id": "a759d6f3",
   "metadata": {},
   "source": [
    "Từ kết quả này cho thấy: `Alice` đã mua Laptop và Mouse rồi, mà bàn phím và màn hình đang trong danh sách yêu thích của bạn ấy, nên khả năng cao bạn ấy sẽ mua các sản phẩm này."
   ]
  },
  {
   "cell_type": "markdown",
   "id": "9cb28b70",
   "metadata": {},
   "source": [
    "**Bảng các tham số của hàm `pandas.merge`**\n",
    "\n",
    "| Đối số        | Mô tả                                                                                                                                                             |\n",
    "|---------------|-------------------------------------------------------------------------------------------------------------------------------------------------------------------|\n",
    "| `left`        | DataFrame được gộp ở phía bên trái.                                                                                                                                |\n",
    "| `right`       | DataFrame được gộp ở phía bên phải.                                                                                                                                |\n",
    "| `how`         | Loại join để áp dụng: một trong số `\"inner\"`, `\"outer\"`, `\"left\"`, hoặc `\"right\"`; mặc định là `\"inner\"`.                                                               |\n",
    "| `on`          | Tên cột để join. Phải được tìm thấy trong cả hai đối tượng DataFrame. Nếu không được chỉ định và không có khóa join nào khác được cung cấp, sẽ sử dụng giao điểm của các tên cột trong `left` và `right` làm khóa join. |\n",
    "| `left_on`     | Các cột trong DataFrame `left` để sử dụng làm khóa join. Có thể là một tên cột duy nhất hoặc một danh sách các tên cột.                                                     |\n",
    "| `right_on`    | Tương tự như `left_on` cho DataFrame `right`.                                                                                                                       |\n",
    "| `left_index`  | Sử dụng chỉ mục hàng trong `left` làm khóa join của nó (hoặc các khóa, nếu là `MultiIndex`).                                                                          |\n",
    "| `right_index` | Tương tự như `left_index`.                                                                                                                                          |\n",
    "| `sort`        | Sắp xếp dữ liệu đã gộp theo thứ tự từ điển bằng các khóa join; `False` theo mặc định.                                                                                |\n",
    "| `suffixes`    | Tuple các giá trị chuỗi để nối vào tên cột trong trường hợp chồng chéo; mặc định là `(\"_x\", \"_y\")` (ví dụ: nếu \"data\" có trong cả hai đối tượng DataFrame, sẽ xuất hiện dưới dạng \"data_x\" và \"data_y\" trong kết quả). |\n",
    "| `copy`        | Nếu `False`, tránh sao chép dữ liệu vào cấu trúc dữ liệu kết quả trong một số trường hợp ngoại lệ; theo mặc định luôn sao chép.                                       |\n",
    "| `validate`    | Xác minh xem phép gộp có thuộc loại được chỉ định hay không, cho dù là một-một, một-nhiều, hay nhiều-nhiều. Xem docstring để biết chi tiết đầy đủ về các tùy chọn.     |\n",
    "| `indicator`   | Thêm một cột đặc biệt `_merge` chỉ ra nguồn của mỗi hàng; các giá trị sẽ là `\"left_only\"`, `\"right_only\"`, hoặc `\"both\"` dựa trên nguồn gốc của dữ liệu được join trong mỗi hàng. |"
   ]
  },
  {
   "cell_type": "markdown",
   "id": "9260947c-9381-499d-ace6-36d06020ef66",
   "metadata": {},
   "source": [
    "### Kết hợp dữ liệu dựa trên chỉ số\n",
    "<hr>"
   ]
  },
  {
   "cell_type": "markdown",
   "id": "1d23c0ab",
   "metadata": {},
   "source": [
    "Trong một số trường hợp, các khóa dùng để kết hợp dữ liệu DataFrame không phải là cột mà là chỉ số hàng. Trong trường hợp này chúng ta sẽ thực hiện kết hợp theo chỉ số, sử dụng các đối số `left_index=True` hoặc `right_index=True` (hoặc cả hai) để chỉ ra rằng chỉ số được sử dụng làm khóa:"
   ]
  },
  {
   "cell_type": "code",
   "execution_count": 35,
   "id": "c07357c1",
   "metadata": {},
   "outputs": [
    {
     "name": "stdout",
     "output_type": "stream",
     "text": [
      "                  name    city\n",
      "customer_code                 \n",
      "C001             Alice   Hanoi\n",
      "C002               Bob  Saigon\n",
      "C003           Charlie  Danang\n"
     ]
    }
   ],
   "source": [
    "customers = pd.DataFrame({\n",
    "    'customer_code': ['C001','C002','C003'],\n",
    "    'name': ['Alice','Bob','Charlie'],\n",
    "    'city': ['Hanoi','Saigon','Danang']\n",
    "}).set_index('customer_code')\n",
    "print(customers)"
   ]
  },
  {
   "cell_type": "code",
   "execution_count": 36,
   "id": "8d0a628f",
   "metadata": {},
   "outputs": [
    {
     "name": "stdout",
     "output_type": "stream",
     "text": [
      "         customer_code  amount\n",
      "order_id                      \n",
      "101               C001     250\n",
      "102               C002     150\n",
      "103               C002     300\n",
      "104               C003     200\n"
     ]
    }
   ],
   "source": [
    "orders = pd.DataFrame({\n",
    "    'order_id': [101,102,103,104],\n",
    "    'customer_code': ['C001','C002','C002','C003'],\n",
    "    'amount': [250,150,300,200]\n",
    "}).set_index('order_id')\n",
    "\n",
    "print(orders)\n"
   ]
  },
  {
   "cell_type": "code",
   "execution_count": 37,
   "id": "1d4cb6c9",
   "metadata": {},
   "outputs": [
    {
     "name": "stdout",
     "output_type": "stream",
     "text": [
      "         customer_code  amount     name    city\n",
      "order_id                                       \n",
      "101               C001     250    Alice   Hanoi\n",
      "102               C002     150      Bob  Saigon\n",
      "103               C002     300      Bob  Saigon\n",
      "104               C003     200  Charlie  Danang\n"
     ]
    }
   ],
   "source": [
    "orders_customers = pd.merge(orders, customers, left_on='customer_code', right_index=True)\n",
    "print(orders_customers)"
   ]
  },
  {
   "cell_type": "markdown",
   "id": "a735b538",
   "metadata": {},
   "source": [
    "**Lưu ý**\n",
    "\n",
    "Khi thực hiện kết hợp dữ liệu dựa vào chỉ số sẽ tăng tốc độ lên nhiều lần, vì sao? code thử?"
   ]
  },
  {
   "cell_type": "markdown",
   "id": "a2b37354-d5d3-4b9c-b091-5f71cdd07d05",
   "metadata": {},
   "source": [
    "### Nối dữ liệu theo một trục\n",
    "<hr>"
   ]
  },
  {
   "cell_type": "markdown",
   "id": "6eb9adb0",
   "metadata": {},
   "source": [
    "Dữ liệu thực tế có thể bị chia nhỏ, lưu trữ tách biệt; ví dụ:\n",
    "- Thu thập thông tin khách hàng được thực hiện bởi các nhân viên khác nhau\n",
    "- Dữ liệu bán hàng, khách hàng của các đại lý\n",
    "\n",
    "Khi đó để có dữ liệu hoàn chỉnh, đầy đủ thì chúng ta cần nối dữ liệu lại với nhau theo dòng (axis = 0) hoặc theo cột (axis = 1)"
   ]
  },
  {
   "cell_type": "markdown",
   "id": "ae501e29",
   "metadata": {},
   "source": [
    "#### Nối dữ liệu theo dòng\n",
    "- Giải sử có dữ liệu bán hàng của mỗi đại lý\n",
    "- Cần tổng hợp lại thành một dữ liệu bán hàng thống nhất của tất cả đại lý"
   ]
  },
  {
   "cell_type": "code",
   "execution_count": 38,
   "id": "5b35ade9",
   "metadata": {},
   "outputs": [],
   "source": [
    "import pandas as pd\n",
    "\n",
    "# Đại lý Hà Nội\n",
    "sales_hanoi = pd.DataFrame({\n",
    "    'product': ['Laptop', 'Mouse'],\n",
    "    'quantity': [2, 5],\n",
    "    'unit_price': [1200, 20],\n",
    "})\n",
    "sales_hanoi['amount'] = sales_hanoi['quantity'] * sales_hanoi['unit_price']\n",
    "sales_hanoi['branch'] = 'Hanoi'\n",
    "\n",
    "# Đại lý Sài Gòn\n",
    "sales_saigon = pd.DataFrame({\n",
    "    'product': ['Laptop', 'Keyboard'],\n",
    "    'quantity': [1, 3],\n",
    "    'unit_price': [1250, 30],\n",
    "})\n",
    "sales_saigon['amount'] = sales_saigon['quantity'] * sales_saigon['unit_price']\n",
    "sales_saigon['branch'] = 'Saigon'\n",
    "\n",
    "# Đại lý Đà Nẵng\n",
    "sales_danang = pd.DataFrame({\n",
    "    'product': ['Monitor', 'Mouse'],\n",
    "    'quantity': [2, 4],\n",
    "    'unit_price': [200, 18],\n",
    "})\n",
    "sales_danang['amount'] = sales_danang['quantity'] * sales_danang['unit_price']\n",
    "sales_danang['branch'] = 'Danang'\n"
   ]
  },
  {
   "cell_type": "code",
   "execution_count": 39,
   "id": "92fb82f8",
   "metadata": {},
   "outputs": [
    {
     "name": "stdout",
     "output_type": "stream",
     "text": [
      "  product  quantity  unit_price  amount branch\n",
      "0  Laptop         2        1200    2400  Hanoi\n",
      "1   Mouse         5          20     100  Hanoi\n"
     ]
    }
   ],
   "source": [
    "print(sales_hanoi)"
   ]
  },
  {
   "cell_type": "code",
   "execution_count": 40,
   "id": "8d4cd00c",
   "metadata": {},
   "outputs": [
    {
     "name": "stdout",
     "output_type": "stream",
     "text": [
      "    product  quantity  unit_price  amount  branch\n",
      "0    Laptop         1        1250    1250  Saigon\n",
      "1  Keyboard         3          30      90  Saigon\n"
     ]
    }
   ],
   "source": [
    "print(sales_saigon)"
   ]
  },
  {
   "cell_type": "code",
   "execution_count": 41,
   "id": "c0f323ad",
   "metadata": {},
   "outputs": [
    {
     "name": "stdout",
     "output_type": "stream",
     "text": [
      "   product  quantity  unit_price  amount  branch\n",
      "0  Monitor         2         200     400  Danang\n",
      "1    Mouse         4          18      72  Danang\n"
     ]
    }
   ],
   "source": [
    "print(sales_danang)"
   ]
  },
  {
   "cell_type": "markdown",
   "id": "56e9e04f",
   "metadata": {},
   "source": [
    "- **Bài toán:** Tìm xem sản phẩm nào bán chạy nhất trên toàn hệ thống, tỷ trọng doanh thu từng sản phẩm? "
   ]
  },
  {
   "cell_type": "markdown",
   "id": "b8ddf6a9",
   "metadata": {},
   "source": [
    "**Bước 1:** Tổng hợp dữ liệu bán hàng trên các đại lý"
   ]
  },
  {
   "cell_type": "code",
   "execution_count": 42,
   "id": "1c29aa4d",
   "metadata": {},
   "outputs": [
    {
     "name": "stdout",
     "output_type": "stream",
     "text": [
      "    product  quantity  unit_price  amount  branch\n",
      "0    Laptop         2        1200    2400   Hanoi\n",
      "1     Mouse         5          20     100   Hanoi\n",
      "0    Laptop         1        1250    1250  Saigon\n",
      "1  Keyboard         3          30      90  Saigon\n",
      "0   Monitor         2         200     400  Danang\n",
      "1     Mouse         4          18      72  Danang\n"
     ]
    }
   ],
   "source": [
    "all_sales = pd.concat([sales_hanoi, sales_saigon, sales_danang], axis=0)\n",
    "print(all_sales)"
   ]
  },
  {
   "cell_type": "markdown",
   "id": "4604278a",
   "metadata": {},
   "source": [
    "**Bước 2:** Áp dụng tính toán tổng hợp trên dữ liệu gộp"
   ]
  },
  {
   "cell_type": "code",
   "execution_count": 43,
   "id": "ca725d9a",
   "metadata": {},
   "outputs": [
    {
     "name": "stdout",
     "output_type": "stream",
     "text": [
      "                 quantity  unit_price  amount\n",
      "branch product                               \n",
      "Hanoi  Laptop           2        1200    2400\n",
      "       Mouse            5          20     100\n",
      "Saigon Laptop           1        1250    1250\n",
      "       Keyboard         3          30      90\n",
      "Danang Monitor          2         200     400\n",
      "       Mouse            4          18      72\n"
     ]
    }
   ],
   "source": [
    "all_sales_indexed = all_sales.set_index(['branch', 'product'])\n",
    "print(all_sales_indexed)"
   ]
  },
  {
   "cell_type": "code",
   "execution_count": 44,
   "id": "5b823b33",
   "metadata": {},
   "outputs": [
    {
     "name": "stdout",
     "output_type": "stream",
     "text": [
      "product\n",
      "Keyboard    3\n",
      "Laptop      3\n",
      "Monitor     2\n",
      "Mouse       9\n",
      "Name: quantity, dtype: int64\n"
     ]
    }
   ],
   "source": [
    "total_qty_by_product = all_sales_indexed.groupby('product')['quantity'].sum()\n",
    "print(total_qty_by_product)"
   ]
  },
  {
   "cell_type": "code",
   "execution_count": 45,
   "id": "21559b0b",
   "metadata": {},
   "outputs": [
    {
     "name": "stdout",
     "output_type": "stream",
     "text": [
      "branch\n",
      "Danang    10.946197\n",
      "Hanoi     57.977737\n",
      "Saigon    31.076067\n",
      "Name: amount, dtype: float64\n",
      "------------------------------\n",
      "product\n",
      "Keyboard     2.087199\n",
      "Laptop      84.647495\n",
      "Monitor      9.276438\n",
      "Mouse        3.988868\n",
      "Name: amount, dtype: float64\n"
     ]
    }
   ],
   "source": [
    "total_revenue = all_sales_indexed['amount'].sum()\n",
    "\n",
    "# Tỷ trọng doanh số theo chi nhánh\n",
    "share_by_branch = all_sales_indexed.groupby('branch')['amount'].sum()/total_revenue * 100\n",
    "print(share_by_branch)\n",
    "\n",
    "print('-'*30)\n",
    "# Tỷ trọng doanh số theo sản phẩm\n",
    "share_by_product = all_sales_indexed.groupby('product')['amount'].sum()/total_revenue * 100\n",
    "print(share_by_product)"
   ]
  },
  {
   "cell_type": "markdown",
   "id": "96f8b8b5",
   "metadata": {},
   "source": [
    "#### Nối dữ liệu theo cột\n",
    "- Dùng khi nhiều bảng chứa các thông tin khác nhau về cùng đối tượng. \n",
    "- Ví dụ:\n",
    "       - Bộ phận chăm sóc khách hàng có thông tin khách hàng: Tên, giới tính, tuổi\n",
    "       - Bộ phận kinh doanh: tổng chi tiêu của khách hàng, số đơn, tần suất mua hàng \n",
    "       - Bộ phận tài chính: thông tin về điểm tín dụng, lịch sử nợ/trả\n",
    "- Để có được thông tin đầy đủ về từng khách hàng thì cần nối các thông tin này lại."
   ]
  },
  {
   "cell_type": "code",
   "execution_count": 46,
   "id": "f03e8ab2",
   "metadata": {},
   "outputs": [
    {
     "name": "stdout",
     "output_type": "stream",
     "text": [
      "      name  gener  age\n",
      "1    Alice      1   20\n",
      "2      Bob      1   30\n",
      "3  Charlie      0   40\n",
      "4     Anna      0   24\n"
     ]
    }
   ],
   "source": [
    "customers = pd.DataFrame({\n",
    "    'name': ['Alice', 'Bob', 'Charlie', 'Anna'],\n",
    "    'gener': [1, 1, 0, 0],\n",
    "    'age': [20, 30, 40, 24]\n",
    "}, index=[1, 2, 3, 4])\n",
    "print(customers)"
   ]
  },
  {
   "cell_type": "code",
   "execution_count": 47,
   "id": "a60579d5",
   "metadata": {},
   "outputs": [
    {
     "name": "stdout",
     "output_type": "stream",
     "text": [
      "   total_spent\n",
      "3         5000\n",
      "4         2000\n",
      "2         3000\n"
     ]
    }
   ],
   "source": [
    "purchases = pd.DataFrame({\n",
    "    'total_spent': [5000, 2000, 3000]\n",
    "}, index=[3, 4, 2])\n",
    "\n",
    "print(purchases)\n"
   ]
  },
  {
   "cell_type": "code",
   "execution_count": 48,
   "id": "e1d2ca43",
   "metadata": {},
   "outputs": [
    {
     "name": "stdout",
     "output_type": "stream",
     "text": [
      "   credit_score\n",
      "2           650\n",
      "3           720\n",
      "1           700\n"
     ]
    }
   ],
   "source": [
    "scores = pd.DataFrame({\n",
    "    'credit_score': [650, 720, 700]\n",
    "}, index=[2, 3, 1])\n",
    "print(scores)"
   ]
  },
  {
   "cell_type": "markdown",
   "id": "295a6d01",
   "metadata": {},
   "source": [
    "- Tổng hợp dữ liệu bằng nối cột"
   ]
  },
  {
   "cell_type": "code",
   "execution_count": 49,
   "id": "da8a09e4",
   "metadata": {},
   "outputs": [
    {
     "name": "stdout",
     "output_type": "stream",
     "text": [
      "      name  gener  age  total_spent  credit_score\n",
      "1    Alice      1   20          NaN         700.0\n",
      "2      Bob      1   30       3000.0         650.0\n",
      "3  Charlie      0   40       5000.0         720.0\n",
      "4     Anna      0   24       2000.0           NaN\n"
     ]
    }
   ],
   "source": [
    "customer_info = pd.concat([customers, purchases, scores],  axis=1)\n",
    "print(customer_info)"
   ]
  },
  {
   "cell_type": "markdown",
   "id": "8ee5b478",
   "metadata": {},
   "source": [
    "**Bảng các tham số của hàm `pandas.concat`**\n",
    "\n",
    "| Đối số             | Mô tả                                                                                                                                                              |\n",
    "|--------------------|--------------------------------------------------------------------------------------------------------------------------------------------------------------------|\n",
    "| `objs`             | Danh sách hoặc từ điển các đối tượng pandas cần nối; đây là đối số bắt buộc duy nhất.                                                                                 |\n",
    "| `axis`             | Trục để nối dọc theo; mặc định là nối dọc theo hàng (`axis=\"index\"`).                                                                                                |\n",
    "| `join`             | Hoặc `\"inner\"` hoặc `\"outer\"` (`\"outer\"` theo mặc định); liệu có lấy giao điểm (inner) hay hợp (outer) các chỉ số dọc theo các trục khác.                                |\n",
    "| `keys`             | Các giá trị để liên kết với các đối tượng đang được nối, tạo thành một chỉ số phân cấp dọc theo trục nối; có thể là một danh sách hoặc mảng các giá trị tùy ý, một mảng các tuple, hoặc một danh sách các mảng (nếu nhiều mảng cấp được truyền vào `levels`). || `levels`           | Các chỉ mục cụ thể để sử dụng làm cấp hoặc các cấp chỉ mục phân cấp nếu `keys` được truyền.                                                                            |\n",
    "| `names`            | Tên cho các cấp phân cấp được tạo nếu `keys` và/hoặc `levels` được truyền.                                                                                             |\n",
    "| `verify_integrity` | Kiểm tra trục mới trong đối tượng được nối xem có trùng lặp không và đưa ra một ngoại lệ nếu có; theo mặc định (`False`) cho phép trùng lặp.                             |\n",
    "| `ignore_index`     | Không bảo toàn các chỉ số dọc theo trục nối, thay vào đó tạo ra một chỉ số `range(total_length)` mới.                                                                   |"
   ]
  },
  {
   "cell_type": "markdown",
   "id": "04e94da9-0b29-47d0-b1bb-a4dd96c3ee62",
   "metadata": {},
   "source": [
    "## Tổ chức và Cấu trúc lại dữ liệu\n",
    "<hr>"
   ]
  },
  {
   "cell_type": "markdown",
   "id": "17f26978",
   "metadata": {},
   "source": [
    "- Khi làm với dữ liệu, tổ chức và cấu trúc lại dữ liệu (reshaping) là một kỹ thuật quan trọng nhằm giúp cho việc phân tích và trực quan hóa dữ liệu được dễ dàng hơn. Mục đích của reshaping là để chuyển đổi biểu diễn hay hình dạng (shape) của dữ liệu mà không làm thay đổi bản chất của dữ liệu đó. Có 2 kiểu biểu diễn dữ liệu như sau:\n",
    "    -  Dạng rộng (wide): \n",
    "        - Mỗi đối tượng là một dòng, mỗi thuộc tính là một cột.\n",
    "        - Ví dụ, dữ liệu điểm sinh viên, mỗi sinh viên một dòng, các cột là thông tin về sinh viên và điểm các môn.\n",
    "        - Thường gặp ở đâu? từ các hệ thống phần mềm quản lý, bảng excel, các bảng báo cáo kết quả\n",
    "        - Dùng cho: báo cáo, nhập liệu, trình bày\n",
    "    - Dạng dài (long): \n",
    "        - Mỗi quan sát là một dòng, và cột là giá trị của quan sát đó.\n",
    "        - Ví dụ: giá cổ phiếu theo ngày\n",
    "        - Thường gặp ở đâu? Dữ liệu liên quan đến chuỗi thời gian, ghi nhận các quan sát liên tục,...\n",
    "        - Dùng cho: phân tích, học máy, thống kê, trực quan hóa\n",
    "\n",
    "- Sau đây chúng ta sẽ tìm hiểu chi tiết hai kỹ thuật rất quan trọng này."
   ]
  },
  {
   "cell_type": "markdown",
   "id": "4e45ea6f",
   "metadata": {},
   "source": [
    "### Chuyển đổi từ dạng `wide` sang `long`"
   ]
  },
  {
   "cell_type": "markdown",
   "id": "4cfbcd5c",
   "metadata": {},
   "source": [
    "- Ví dụ: \n",
    "    - Dữ liệu: Chúng ta có dữ liệu số lượng đơn hàng của các cửa hàng ở các thành phố khác nhau.\n",
    "    - Yêu cầu: Tính trung bình lượng theo tháng toàn hệ thống"
   ]
  },
  {
   "cell_type": "code",
   "execution_count": 50,
   "id": "8d0422d1",
   "metadata": {},
   "outputs": [
    {
     "name": "stdout",
     "output_type": "stream",
     "text": [
      "      City  Thang 1  Thang 2  Thang 3\n",
      "0   Hà Nội      500      600      550\n",
      "1   TP.HCM      700      800      750\n",
      "2  Đà Nẵng      300      350      400\n"
     ]
    }
   ],
   "source": [
    "import pandas as pd\n",
    "\n",
    "data = {\n",
    "    'City': ['Hà Nội', 'TP.HCM', 'Đà Nẵng'],\n",
    "    'Thang 1': [500, 700, 300],\n",
    "    'Thang 2': [600, 800, 350],\n",
    "    'Thang 3': [550, 750, 400]\n",
    "}\n",
    "df = pd.DataFrame(data)\n",
    "\n",
    "print(df)"
   ]
  },
  {
   "cell_type": "markdown",
   "id": "887eded4",
   "metadata": {},
   "source": [
    "- Tính trung bình lượng đơn hàng theo tháng toàn hệ thống:\n",
    "    - Tại sao phải chuyển đổi: Mỗi tháng 1 cột nên khó để groupby theo Tháng\n",
    "    - Cần chuyển đôi sang dạng `long` với cột **Tháng**"
   ]
  },
  {
   "cell_type": "code",
   "execution_count": 51,
   "id": "d37f7a19",
   "metadata": {},
   "outputs": [
    {
     "name": "stdout",
     "output_type": "stream",
     "text": [
      "      City    Month  NBOrders\n",
      "0   Hà Nội  Thang 1       500\n",
      "1   TP.HCM  Thang 1       700\n",
      "2  Đà Nẵng  Thang 1       300\n",
      "3   Hà Nội  Thang 2       600\n",
      "4   TP.HCM  Thang 2       800\n",
      "5  Đà Nẵng  Thang 2       350\n",
      "6   Hà Nội  Thang 3       550\n",
      "7   TP.HCM  Thang 3       750\n",
      "8  Đà Nẵng  Thang 3       400\n"
     ]
    }
   ],
   "source": [
    "df_long = df.melt(id_vars=['City'], value_vars=['Thang 1', 'Thang 2', 'Thang 3'], var_name='Month', value_name='NBOrders')\n",
    "print(df_long)"
   ]
  },
  {
   "cell_type": "code",
   "execution_count": 52,
   "id": "b8b1d3c5",
   "metadata": {},
   "outputs": [
    {
     "data": {
      "text/plain": [
       "Month\n",
       "Thang 1    500.000000\n",
       "Thang 2    583.333333\n",
       "Thang 3    566.666667\n",
       "Name: NBOrders, dtype: float64"
      ]
     },
     "execution_count": 52,
     "metadata": {},
     "output_type": "execute_result"
    }
   ],
   "source": [
    "df_long.groupby('Month')['NBOrders'].mean()"
   ]
  },
  {
   "cell_type": "markdown",
   "id": "f4dd7d8f",
   "metadata": {},
   "source": [
    "### Chuyển đổi từ dạng long sang wide"
   ]
  },
  {
   "cell_type": "markdown",
   "id": "1c90d720",
   "metadata": {},
   "source": [
    "Ví dụ: theo dõi chấm công nhân viên hàng ngày\n",
    "- Hàng ngày ghi nhận số giờ làm việc của từng nhân viên\n",
    "- Gửi báo cáo cho quản lý sao cho dễ dàng theo dõi, biết được thời gian làm việc của từng nhân viên trong tuần, tháng"
   ]
  },
  {
   "cell_type": "code",
   "execution_count": 53,
   "id": "4db3b9fe",
   "metadata": {},
   "outputs": [
    {
     "name": "stdout",
     "output_type": "stream",
     "text": [
      "  Employee        Date  Hours\n",
      "0       An  2025-08-01      8\n",
      "1     Bình  2025-08-01      6\n",
      "2       An  2025-08-02      7\n",
      "3     Bình  2025-08-02      8\n"
     ]
    }
   ],
   "source": [
    "import pandas as pd\n",
    "\n",
    "df_long = pd.DataFrame({\n",
    "    \"Employee\": [\"An\", \"Bình\", \"An\", \"Bình\"],\n",
    "    \"Date\": [\"2025-08-01\", \"2025-08-01\", \"2025-08-02\", \"2025-08-02\"],\n",
    "    \"Hours\": [8, 6, 7, 8]\n",
    "})\n",
    "\n",
    "print(df_long)\n"
   ]
  },
  {
   "cell_type": "markdown",
   "id": "44f54be9",
   "metadata": {},
   "source": [
    "- Báo cáo chấm công cần dễ nhìn hơn, có thể thấy ngay mỗi nhân viên làm bao nhiều giờ mỗi ngày\n",
    "    - Chuyển từ dạng **long** sang dạng **wide** bằng cách dùng hàm **pivot**"
   ]
  },
  {
   "cell_type": "code",
   "execution_count": 54,
   "id": "2f4bbcfd",
   "metadata": {},
   "outputs": [
    {
     "name": "stdout",
     "output_type": "stream",
     "text": [
      "Date      2025-08-01  2025-08-02  total_hours\n",
      "Employee                                     \n",
      "An                 8           7           15\n",
      "Bình               6           8           14\n"
     ]
    }
   ],
   "source": [
    "df_wide = df_long.pivot(index=\"Employee\", columns=\"Date\", values=\"Hours\")\n",
    "\n",
    "df_wide['total_hours'] = df_wide.sum(axis=1)\n",
    "print(df_wide)\n"
   ]
  },
  {
   "cell_type": "markdown",
   "id": "281d2c30",
   "metadata": {},
   "source": [
    "### Reshaping lại dữ liệu khi có chỉ số phân cấp\n",
    "\n",
    "Khi làm việc với DataFrame có chỉ số phân cấp, ta có thể reshaping dữ liệu một cách linh hoạt nhờ hai thao tác chính:\n",
    "\n",
    "* stack: “nén” một cấp cột xuống thành chỉ số hàng. Thường dùng để chuyển dữ liệu từ dạng **wide** sang dạng **long**.\n",
    "* unstack: “giải nén” một cấp chỉ số hàng thành cột. Thường dùng để chuyển dữ liệu từ dạng **long** sang dạng **wide**.\n",
    "\n",
    "Nói cách khác, stack và unstack chính là thao tác hoán đổi vị trí cấp chỉ số giữa rows và columns trong MultiIndex.\n"
   ]
  },
  {
   "cell_type": "markdown",
   "id": "79a2a5fe",
   "metadata": {},
   "source": [
    "* Ví dụ bảng điểm sinh viên"
   ]
  },
  {
   "cell_type": "code",
   "execution_count": 55,
   "id": "1a94495d",
   "metadata": {},
   "outputs": [
    {
     "name": "stdout",
     "output_type": "stream",
     "text": [
      "=== Wide (MultiIndex columns) ===\n",
      "     Score        \n",
      "      Math Physics\n",
      "Name              \n",
      "An       8       7\n",
      "Bình     6       9\n"
     ]
    }
   ],
   "source": [
    "import pandas as pd\n",
    "\n",
    "df = pd.DataFrame({\n",
    "    \"Name\": [\"An\", \"Bình\"],\n",
    "    (\"Score\", \"Math\"): [8, 6],\n",
    "    (\"Score\", \"Physics\"): [7, 9]\n",
    "}).set_index('Name')\n",
    "\n",
    "df.columns = pd.MultiIndex.from_tuples(df.columns)\n",
    "print(\"=== Wide (MultiIndex columns) ===\")\n",
    "print(df)"
   ]
  },
  {
   "cell_type": "markdown",
   "id": "3a376c8b",
   "metadata": {},
   "source": [
    "* Kiểm tra chỉ số phân cấp (MultiIndex)"
   ]
  },
  {
   "cell_type": "code",
   "execution_count": 56,
   "id": "5bc96284",
   "metadata": {},
   "outputs": [
    {
     "name": "stdout",
     "output_type": "stream",
     "text": [
      "MultiIndex([('Score',    'Math'),\n",
      "            ('Score', 'Physics')],\n",
      "           )\n"
     ]
    }
   ],
   "source": [
    "print(df.columns)"
   ]
  },
  {
   "cell_type": "markdown",
   "id": "cb0ed2d3",
   "metadata": {},
   "source": [
    "* Như vậy MultiIndex có 2 cấp: \n",
    "    - level 0: Score\n",
    "    - level 1: Math, Physics\n",
    "* Dùng **stack** để \"nén\" 1 chỉ số cột xuống thành chỉ số hàng (từ **wide** sang **long**):"
   ]
  },
  {
   "cell_type": "code",
   "execution_count": 57,
   "id": "a0651cd3",
   "metadata": {},
   "outputs": [
    {
     "name": "stdout",
     "output_type": "stream",
     "text": [
      "              Score\n",
      "Name               \n",
      "An   Math         8\n",
      "     Physics      7\n",
      "Bình Math         6\n",
      "     Physics      9\n"
     ]
    }
   ],
   "source": [
    "df_stack = df.stack(level=1, future_stack=True)\n",
    "print(df_stack)"
   ]
  },
  {
   "cell_type": "markdown",
   "id": "356c7639",
   "metadata": {},
   "source": [
    "* Dùng **unstack** để chuyển từ chỉ số dòng thành chỉ số cột (**long** sang **wide**):"
   ]
  },
  {
   "cell_type": "code",
   "execution_count": 58,
   "id": "e5579315",
   "metadata": {},
   "outputs": [
    {
     "ename": "SyntaxError",
     "evalue": "invalid syntax (950097237.py, line 1)",
     "output_type": "error",
     "traceback": [
      "\u001b[0;36m  Cell \u001b[0;32mIn[58], line 1\u001b[0;36m\u001b[0m\n\u001b[0;31m    ---\u001b[0m\n\u001b[0m       ^\u001b[0m\n\u001b[0;31mSyntaxError\u001b[0m\u001b[0;31m:\u001b[0m invalid syntax\n"
     ]
    }
   ],
   "source": [
    "---\n",
    "\n",
    "## **💡 TIPS & TRICKS CHO SINH VIÊN**\n",
    "\n",
    "---\n",
    "\n",
    "### **🎯 Chiến lược học tập hiệu quả:**\n",
    "\n",
    "#### **📚 Học tuần tự:**\n",
    "1. **Bắt đầu với MultiIndex** - Đây là nền tảng cho tất cả các kỹ thuật khác\n",
    "2. **Thực hành với dữ liệu nhỏ** trước khi chuyển sang dữ liệu lớn\n",
    "3. **Hiểu rõ từng bước** trước khi kết hợp nhiều kỹ thuật\n",
    "\n",
    "#### **🔄 Thực hành thường xuyên:**\n",
    "- **Làm lại các ví dụ** trong notebook\n",
    "- **Thử nghiệm** với dữ liệu khác nhau\n",
    "- **Tạo ví dụ riêng** từ lĩnh vực bạn quan tâm\n",
    "\n",
    "---\n",
    "\n",
    "### **⚠️ Những lỗi thường gặp:**\n",
    "\n",
    "#### **❌ Lỗi 1: Quên reset index**\n",
    "```python\n",
    "# SAI\n",
    "df.set_index(['A', 'B']).loc['value']  # Có thể gây lỗi\n",
    "\n",
    "# ĐÚNG\n",
    "df_indexed = df.set_index(['A', 'B'])\n",
    "df_indexed.loc['value']\n",
    "```\n",
    "\n",
    "#### **❌ Lỗi 2: Nhầm lẫn giữa merge và concat**\n",
    "```python\n",
    "# SAI: Dùng concat để merge\n",
    "pd.concat([df1, df2], axis=1)  # Không đúng mục đích\n",
    "\n",
    "# ĐÚNG: Dùng merge\n",
    "pd.merge(df1, df2, on='key')\n",
    "```\n",
    "\n",
    "#### **❌ Lỗi 3: Không kiểm tra dữ liệu trước khi merge**\n",
    "```python\n",
    "# SAI: Merge mà không kiểm tra\n",
    "merged = pd.merge(df1, df2, on='key')\n",
    "\n",
    "# ĐÚNG: Kiểm tra trước\n",
    "print(df1['key'].nunique())\n",
    "print(df2['key'].nunique())\n",
    "merged = pd.merge(df1, df2, on='key', how='outer')\n",
    "```\n",
    "\n",
    "---\n",
    "\n",
    "### **🚀 Best Practices:**\n",
    "\n",
    "#### **📊 1. Luôn kiểm tra dữ liệu trước khi xử lý:**\n",
    "```python\n",
    "# Kiểm tra cấu trúc dữ liệu\n",
    "print(df.info())\n",
    "print(df.head())\n",
    "print(df.describe())\n",
    "\n",
    "# Kiểm tra missing values\n",
    "print(df.isnull().sum())\n",
    "\n",
    "# Kiểm tra duplicates\n",
    "print(df.duplicated().sum())\n",
    "```\n",
    "\n",
    "#### **🔧 2. Sử dụng MultiIndex khi cần thiết:**\n",
    "```python\n",
    "# Khi nào dùng MultiIndex:\n",
    "# ✅ Dữ liệu có nhiều chiều (nhiều hơn 2)\n",
    "# ✅ Cần truy xuất nhanh theo nhiều tiêu chí\n",
    "# ✅ Cần thực hiện groupby phức tạp\n",
    "\n",
    "# Khi nào KHÔNG dùng MultiIndex:\n",
    "# ❌ Dữ liệu đơn giản, chỉ có 1-2 chiều\n",
    "# ❌ Không cần truy xuất nhanh\n",
    "# ❌ Dữ liệu thay đổi thường xuyên\n",
    "```\n",
    "\n",
    "#### **🔄 3. Chọn phương pháp merge phù hợp:**\n",
    "```python\n",
    "# Inner join: Chỉ giữ dữ liệu có trong cả 2 bảng\n",
    "pd.merge(df1, df2, on='key', how='inner')\n",
    "\n",
    "# Left join: Giữ tất cả dữ liệu từ bảng trái\n",
    "pd.merge(df1, df2, on='key', how='left')\n",
    "\n",
    "# Outer join: Giữ tất cả dữ liệu từ cả 2 bảng\n",
    "pd.merge(df1, df2, on='key', how='outer')\n",
    "```\n",
    "\n",
    "#### **📈 4. Reshape dữ liệu một cách thông minh:**\n",
    "```python\n",
    "# Wide → Long: Dùng melt khi cần phân tích theo biến\n",
    "df_long = df.melt(id_vars=['id'], value_vars=['var1', 'var2'])\n",
    "\n",
    "# Long → Wide: Dùng pivot khi cần báo cáo\n",
    "df_wide = df_long.pivot(index='id', columns='variable', values='value')\n",
    "```\n",
    "\n",
    "---\n",
    "\n",
    "### **🎯 Checklist trước khi kết thúc:**\n",
    "\n",
    "- [ ] **Hiểu được MultiIndex** và cách sử dụng\n",
    "- [ ] **Biết cách merge** dữ liệu từ nhiều nguồn\n",
    "- [ ] **Có thể reshape** dữ liệu theo yêu cầu\n",
    "- [ ] **Thực hành** với ít nhất 3 ví dụ khác nhau\n",
    "- [ ] **Làm được** các bài tập cơ bản và trung bình\n",
    "\n",
    "---\n",
    "\n",
    "### **📚 Tài liệu tham khảo:**\n",
    "\n",
    "1. **Pandas Documentation:** [MultiIndex](https://pandas.pydata.org/docs/user_guide/advanced.html)\n",
    "2. **Pandas Documentation:** [Merge](https://pandas.pydata.org/docs/user_guide/merging.html)\n",
    "3. **Pandas Documentation:** [Reshaping](https://pandas.pydata.org/docs/user_guide/reshaping.html)\n",
    "\n",
    "---\n",
    "\n",
    "### **🔮 Lộ trình học tiếp:**\n",
    "\n",
    "Sau khi hoàn thành bài học này, bạn sẽ học:\n",
    "\n",
    "1. **Bài 7:** Phân tích dữ liệu với Pandas\n",
    "2. **Bài 8:** Trực quan hóa dữ liệu với Matplotlib/Seaborn\n",
    "3. **Bài 9:** Phân tích thống kê cơ bản\n",
    "4. **Bài 10:** Machine Learning cơ bản\n",
    "\n",
    "---\n",
    "\n",
    "## **🎉 KẾT THÚC BÀI GIẢNG**"
   ]
  }
 ],
 "metadata": {
  "kernelspec": {
   "display_name": "ehr-datasets",
   "language": "python",
   "name": "python3"
  },
  "language_info": {
   "codemirror_mode": {
    "name": "ipython",
    "version": 3
   },
   "file_extension": ".py",
   "mimetype": "text/x-python",
   "name": "python",
   "nbconvert_exporter": "python",
   "pygments_lexer": "ipython3",
   "version": "3.9.23"
  }
 },
 "nbformat": 4,
 "nbformat_minor": 5
}