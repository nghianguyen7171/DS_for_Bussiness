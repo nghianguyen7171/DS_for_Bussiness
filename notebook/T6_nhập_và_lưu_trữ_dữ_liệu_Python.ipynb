{
  "cells": [
    {
      "cell_type": "markdown",
      "metadata": {
        "id": "x_971yvtfta9"
      },
      "source": [
        "# **Bài giảng 4 - Nhập và lưu trữ dữ liệu với Python**\n",
        "\n"
      ]
    },
    {
      "cell_type": "markdown",
      "metadata": {
        "id": "R0ULjqIaMzV3"
      },
      "source": [
        "**Mục tiêu bài học**\n",
        "\n",
        "* Tìm hiểu các phương pháp nhập dữ liệu từ các nguồn phổ biến.\n",
        "* Giải thích chi tiết cách sử dụng các hàm của Pandas như read_csv, read_excel, read_json, và read_sql.\n",
        "* Đưa ra ví dụ minh họa cụ thể với code và output, kèm theo giải thích  từng tham số và trường hợp sử dụng.\n",
        "* Đề cập đến các tình huống thực tế và cách xử lý các vấn đề thường gặp (dữ liệu thiếu, cấu trúc không chuẩn).\n",
        "\n",
        "**Các hoạt động nhập/xuất dữ liệu:**\n",
        "\n",
        "* Đọc từ tệp văn bản: Bao gồm CSV, JSON, và XML.\n",
        "* Tải từ cơ sở dữ liệu: Sử dụng SQL hoặc các hệ quản trị cơ sở dữ liệu (DBMS) như SQLite.\n",
        "* Tương tác qua mạng: Lấy dữ liệu từ API web hoặc các nguồn trực tuyến."
      ]
    },
    {
      "cell_type": "markdown",
      "metadata": {},
      "source": [
        "---\n",
        "\n",
        "## **📍 Lộ trình bài giảng**\n",
        "\n",
        "```\n",
        "Phần 1: File văn bản (CSV, TXT)              ⭐ Dễ\n",
        "    ├── Đọc CSV cơ bản\n",
        "    ├── Xử lý file không có header\n",
        "    ├── Gán chỉ số (index)\n",
        "    └── Phân tách tùy chỉnh\n",
        "    \n",
        "Phần 2: Dữ liệu JSON                         ⭐ Dễ\n",
        "    ├── Cấu trúc JSON\n",
        "    └── Đọc và xử lý dữ liệu thiếu\n",
        "    \n",
        "Phần 3: Đọc từ Web (HTML)                    ⭐⭐ Trung bình\n",
        "    ├── Đọc bảng HTML\n",
        "    ├── Kiểm tra dữ liệu thiếu\n",
        "    ├── Lưu ra CSV\n",
        "    └── Phân tích theo thời gian\n",
        "    \n",
        "Phần 4: RSS Feed (XML)                       ⭐⭐⭐ Khó\n",
        "    ├── Hiểu cấu trúc XML/RSS\n",
        "    ├── Parse với BeautifulSoup\n",
        "    └── Lọc dữ liệu tin tức\n",
        "    \n",
        "Phần 5: File Excel                           ⭐⭐ Trung bình\n",
        "    ├── Đọc từ nhiều sheet\n",
        "    └── Ghi dữ liệu ra Excel\n",
        "    \n",
        "Phần 6: Web API                              ⭐⭐ Trung bình\n",
        "    └── Tương tác với REST API\n",
        "    \n",
        "Phần 7: Cơ sở dữ liệu SQL                    ⭐⭐⭐ Khó\n",
        "    ├── Tạo và kết nối database\n",
        "    ├── INSERT, SELECT\n",
        "    └── Chuyển SQL → DataFrame\n",
        "```\n",
        "\n",
        "> **💡 Khuyến nghị:** Học tuần tự từ Phần 1 → Phần 7. Mỗi phần xây dựng dựa trên kiến thức của phần trước.\n",
        "\n",
        "---\n"
      ]
    },
    {
      "cell_type": "markdown",
      "metadata": {
        "id": "3T536ZApRHH4"
      },
      "source": [
        "# **1. Đọc và Lưu Dữ Liệu Ở Định Dạng Văn Bản**\n",
        "\n",
        "Pandas cung cấp nhiều hàm để đọc dữ liệu dạng bảng và lưu trữ dưới dạng `DataFrame`. Các hàm này được thiết kế linh hoạt để xử lý nhiều định dạng tệp và các tình huống dữ liệu không chuẩn.\n"
      ]
    },
    {
      "cell_type": "markdown",
      "metadata": {
        "id": "-t9ImdjmcsOm"
      },
      "source": [
        "## **1.1. Tổng Quan Các Hàm Đọc Dữ Liệu**\n",
        "Dưới đây là bảng liệt kê một số hàm phổ biến trong Pandas để đọc dữ liệu:"
      ]
    },
    {
      "cell_type": "markdown",
      "metadata": {
        "id": "E33sQ23ZSoKk"
      },
      "source": [
        "| STT | Hàm             | Mô tả                                                                 |\n",
        "|-----|-----------------|----------------------------------------------------------------------|\n",
        "| 1   | `read_csv`      | Đọc dữ liệu từ tệp CSV, phân tách bằng dấu phẩy (mặc định).          |\n",
        "| 2   | `read_table`    | Đọc dữ liệu phân tách bằng ký tự tab (`\\t`) (mặc định).              |\n",
        "| 3   | `read_fwf`      | Đọc dữ liệu có độ rộng cột cố định (không phân tách).                |\n",
        "| 4   | `read_clipboard`| Đọc dữ liệu từ clipboard (hữu ích khi sao chép bảng từ web).         |\n",
        "| 5   | `read_excel`    | Đọc dữ liệu từ tệp Excel (XLS/XLSX).                                 |\n",
        "| 6   | `read_json`     | Đọc dữ liệu từ chuỗi JSON.                                           |\n",
        "| 7   | `read_html`     | Đọc tất cả bảng từ tài liệu HTML.                                    |\n",
        "| 8   | `read_xml`      | Đọc bảng từ tệp XML.                                                 |\n",
        "| 9  | `read_sql`      | Đọc kết quả truy vấn SQL vào DataFrame.                              |\n"
      ]
    },
    {
      "cell_type": "markdown",
      "metadata": {
        "id": "93eRqwftTr8V"
      },
      "source": [
        "Các hàm này hỗ trợ suy luận kiểu dữ liệu (data type inference), tức là `Pandas` tự động xác định kiểu dữ liệu của các cột (số nguyên, số thực, chuỗi, v.v.). Tuy nhiên, trong một số trường hợp (như ngày tháng hoặc kiểu dữ liệu tùy chỉnh), cần chỉ định kiểu dữ liệu rõ ràng để tránh sai sót."
      ]
    },
    {
      "cell_type": "markdown",
      "metadata": {
        "id": "-jSfRQ81ZC00"
      },
      "source": [
        "## **1.2. Đọc Dữ Liệu CSV Cơ Bản**\n",
        "* CSV (Comma-Separated Values) là một tệp văn bản (plain text) chứa dữ liệu dạng bảng.\n",
        "\n",
        "* Mỗi dòng (row) trong file tương ứng với một bản ghi (record).\n",
        "\n",
        "* Các cột (column/field) trong một dòng được phân tách bằng dấu phẩy (,) hoặc ký tự phân tách khác như ;, \\t (tab).\n",
        "\n",
        "* Nói cách khác, CSV là cách lưu dữ liệu dạng bảng (giống Excel) nhưng dưới dạng text đơn giản.\n",
        "\n",
        "**Ví dụ:** file CSV ex1.csv\n",
        "\n",
        "> Diem 1,Diem 2,Diem 3,Diem 4,Nhan xet\n",
        "\n",
        ">1,2,3,4,Hoc luc yeu\n",
        "\n",
        ">5,6,7,8,Hoc luc trung binh kha\n",
        "\n",
        ">9,10,9,10,Hoc luc xuat sac\n",
        "\n",
        "\n",
        "\n",
        "\n",
        "\n",
        "Hàm `read_csv` là công cụ chính để đọc dữ liệu CSV.\n",
        "\n",
        "**Ví dụ:** Giả sử tệp `ex1.csv` được lưu tại [đường dẫn](https://github.com/tranhungemail/DSImageCourse/blob/main/ex1.csv)\n",
        "\n"
      ]
    },
    {
      "cell_type": "code",
      "execution_count": 1,
      "metadata": {
        "colab": {
          "base_uri": "https://localhost:8080/",
          "height": 269
        },
        "id": "UXUhKEbeK5DE",
        "outputId": "910751dc-109d-44af-947e-3c9eebcab920"
      },
      "outputs": [
        {
          "data": {
            "text/markdown": [
              "|    |   Diem 1 |   Diem 2 |   Diem 3 |   Diem 4 | Nhan xet               |\n",
              "|---:|---------:|---------:|---------:|---------:|:-----------------------|\n",
              "|  0 |        1 |        2 |        3 |        4 | Hoc luc yeu            |\n",
              "|  1 |        5 |        6 |        7 |        8 | Hoc luc trung binh kha |\n",
              "|  2 |        9 |       10 |        9 |       10 | Hoc luc xuat sac       |\n",
              "|  3 |        5 |        6 |        5 |        6 | Trung binh             |\n",
              "|  4 |        4 |        6 |        5 |        6 | Trung Binh             |\n",
              "|  5 |        8 |        9 |        8 |        9 | Gioi                   |\n",
              "|  6 |        2 |        1 |        2 |        1 | Hoc luc yeu            |"
            ],
            "text/plain": [
              "<IPython.core.display.Markdown object>"
            ]
          },
          "metadata": {},
          "output_type": "display_data"
        }
      ],
      "source": [
        "#Code để đọc file ex1.csv để trên Github và hiển thị dưới dạng Markdown\n",
        "import pandas as pd\n",
        "from IPython.display import display, Markdown\n",
        "\n",
        "url = \"https://raw.githubusercontent.com/tranhungemail/DSImageCourse/main/ex1.csv\"\n",
        "df = pd.read_csv(url)\n",
        "# Hiển thị 10 dòng đầu tiên thành bảng Markdown\n",
        "display(Markdown(df.head(10).to_markdown()))\n"
      ]
    },
    {
      "cell_type": "code",
      "execution_count": 2,
      "metadata": {
        "colab": {
          "base_uri": "https://localhost:8080/"
        },
        "id": "WoVN7u3iZy6V",
        "outputId": "46fda01a-91d9-4e90-f84a-b7fc1147bb94"
      },
      "outputs": [
        {
          "name": "stdout",
          "output_type": "stream",
          "text": [
            "   Diem 1  Diem 2  Diem 3  Diem 4                Nhan xet\n",
            "0       1       2       3       4             Hoc luc yeu\n",
            "1       5       6       7       8  Hoc luc trung binh kha\n",
            "2       9      10       9      10        Hoc luc xuat sac\n",
            "3       5       6       5       6              Trung binh\n",
            "4       4       6       5       6              Trung Binh\n",
            "5       8       9       8       9                    Gioi\n",
            "6       2       1       2       1             Hoc luc yeu\n"
          ]
        }
      ],
      "source": [
        "#Code để đọc file ex1.csv để trên Github\n",
        "import pandas as pd\n",
        "path = \"https://raw.githubusercontent.com/tranhungemail/DSImageCourse/main/ex1.csv\"\n",
        "df = pd.read_csv(path) # Đọc file CSV và tạo thành một dataframe\n",
        "print(df)"
      ]
    },
    {
      "cell_type": "markdown",
      "metadata": {
        "id": "q0eg41SmW5Ay"
      },
      "source": [
        "**Giải thích:**\n",
        "* `read_csv` mặc định hiểu dòng đầu tiên là tên cột (header).\n",
        "* Các cột được tự động suy luận kiểu dữ liệu: `Diem 1,Diem 2,Diem 3,Diem 4,Nhan xet` là số nguyên (`int`), message là chuỗi (`object`).\n",
        "* `DataFrame` được tạo với chỉ số mặc định (0, 1, 2)."
      ]
    },
    {
      "cell_type": "markdown",
      "metadata": {
        "id": "ELzKfiG0XUfy"
      },
      "source": [
        "## **1.3. Xử Lý Tệp Không Có Header**\n",
        "* Header trong CSV là dòng đầu tiên chứa tên cột.\n",
        "* Một số file CSV không có header, tức là dòng đầu tiên đã là dữ liệu luôn.\n",
        "**Ví dụ:**"
      ]
    },
    {
      "cell_type": "code",
      "execution_count": 3,
      "metadata": {
        "colab": {
          "base_uri": "https://localhost:8080/"
        },
        "id": "F_m4Mh8xa1bn",
        "outputId": "1c85e4b0-2ece-4afb-b77c-104b9d512ccb"
      },
      "outputs": [
        {
          "name": "stdout",
          "output_type": "stream",
          "text": [
            "    0      1      2                      3  4\n",
            "0   1   2000   2000                But chi  1\n",
            "1   5   6000  30000             Vo ghi chu  2\n",
            "2   9  10000  90000        Hop but chi mau  3\n",
            "3   5   6000  30000  Hop but bi Thien Long  4\n",
            "4   4   5000  20000          But viet bang  5\n",
            "5   8   8000  64000           Note sticker  6\n",
            "6  10   2000  20000                But chi  1\n"
          ]
        }
      ],
      "source": [
        "#Code để đọc file ex2.csv để trên Github\n",
        "import pandas as pd\n",
        "path = \"https://raw.githubusercontent.com/tranhungemail/DSImageCourse/main/ex2.csv\"\n",
        "df = pd.read_csv(path,header=None) # Đọc file CSV và tạo thành một dataframe\n",
        "print(df)"
      ]
    },
    {
      "cell_type": "code",
      "execution_count": 4,
      "metadata": {
        "colab": {
          "base_uri": "https://localhost:8080/"
        },
        "id": "VrfUqueAbPmV",
        "outputId": "7a56b0c7-6738-43bd-f12b-b616adde4514"
      },
      "outputs": [
        {
          "name": "stdout",
          "output_type": "stream",
          "text": [
            "Trước khi gán tên cho các cột\n",
            "    0      1      2                      3  4\n",
            "0   1   2000   2000                But chi  1\n",
            "1   5   6000  30000             Vo ghi chu  2\n",
            "2   9  10000  90000        Hop but chi mau  3\n",
            "3   5   6000  30000  Hop but bi Thien Long  4\n",
            "4   4   5000  20000          But viet bang  5\n",
            "5   8   8000  64000           Note sticker  6\n",
            "6  10   2000  20000                But chi  1\n",
            "\n",
            "\n",
            "\n",
            "\n",
            "===============Sau khi gán tên cho các cột=================\n",
            "   So luong  Don gia  Thanh tien           Ten san pham  ID\n",
            "0         1     2000        2000                But chi   1\n",
            "1         5     6000       30000             Vo ghi chu   2\n",
            "2         9    10000       90000        Hop but chi mau   3\n",
            "3         5     6000       30000  Hop but bi Thien Long   4\n",
            "4         4     5000       20000          But viet bang   5\n",
            "5         8     8000       64000           Note sticker   6\n",
            "6        10     2000       20000                But chi   1\n"
          ]
        }
      ],
      "source": [
        "#***Code (gán tên cột):***\n",
        "import pandas as pd\n",
        "\n",
        "print(\"Trước khi gán tên cho các cột\")\n",
        "path = \"https://raw.githubusercontent.com/tranhungemail/DSImageCourse/main/ex2.csv\"\n",
        "df_default_names = pd.read_csv(path,header=None)\n",
        "print(df_default_names)\n",
        "print(\"\\n\\n\\n\")\n",
        "print(\"===============Sau khi gán tên cho các cột=================\")\n",
        "names = [\"So luong\", \"Don gia\", \"Thanh tien\", \"Ten san pham\", \"ID\"]\n",
        "df_custom_names = pd.read_csv(path, names=names)\n",
        "print(df_custom_names)"
      ]
    },
    {
      "cell_type": "markdown",
      "metadata": {
        "id": "N1_WofoBfI4y"
      },
      "source": [
        "**Giải thích:**\n",
        "\n",
        "* `header=None`: Ngăn Pandas coi dòng đầu tiên là tiêu đề, thay vào đó gán chỉ số cột mặc định.\n",
        "* `names`: Cho phép chỉ định danh sách tên cột tùy chỉnh.\n",
        "* Sử dụng khi tệp CSV không có tiêu đề hoặc tiêu đề không phù hợp."
      ]
    },
    {
      "cell_type": "markdown",
      "metadata": {
        "id": "OfBYoS-ediNY"
      },
      "source": [
        "## **1.4. Gán chỉ số**\n",
        "###Xác định vị trí và truy cập nhanh\n",
        "\n",
        "* Chỉ số (`index`) giống như \"nhãn\" hoặc \"số thứ tự\" để xác định từng hàng trong bảng dữ liệu.\n",
        "\n",
        "* Khi có index rõ ràng, ta có thể dễ dàng lấy ra một hàng hoặc một tập con dữ liệu mà không cần duyệt toàn bộ bảng.\n",
        "* Ví dụ: trong pandas, nếu bạn có một `DataFrame` với index là ngày tháng, bạn có thể nhanh chóng lấy dữ liệu theo ngày \"2024-08-31\" thay vì phải lọc theo cột.\n",
        "\n",
        "###Dễ dàng sắp xếp và lọc\n",
        "\n",
        "* Index cho phép bạn sắp xếp dữ liệu theo thứ tự cụ thể (thời gian, ID, tên, …).\n",
        "\n",
        "* Ngoài ra, nhiều thao tác lọc hoặc slice dữ liệu (ví dụ: lấy từ dòng số 10 đến số 20, hoặc lấy từ ngày A đến ngày B) sẽ thuận tiện hơn nếu có index.\n",
        "\n",
        "###Tăng hiệu quả khi kết hợp dữ liệu\n",
        "\n",
        "* Khi làm việc với nhiều bảng (join/merge), index đóng vai trò như một khóa (key) để ghép dữ liệu.\n",
        "\n",
        "* Ví dụ: bảng sinh viên có index là student_id và bảng điểm cũng có student_id, ta có thể merge hai bảng dễ dàng.\n",
        "\n",
        "### Giúp dữ liệu có ý nghĩa và trực quan hơn\n",
        "\n",
        "* Nếu không có index, dữ liệu chỉ đơn thuần là các dòng số thứ tự 0,1,2,...\n",
        "\n",
        "* Khi gán index phù hợp (ví dụ: mã khách hàng, tên sản phẩm, ngày tháng), dữ liệu trở nên dễ đọc và dễ hiểu hơn.\n"
      ]
    },
    {
      "cell_type": "code",
      "execution_count": 5,
      "metadata": {
        "colab": {
          "base_uri": "https://localhost:8080/"
        },
        "id": "vn7iZ0hjgGvC",
        "outputId": "3b1669b0-8a30-4b81-91af-f2beebcb3944"
      },
      "outputs": [
        {
          "name": "stdout",
          "output_type": "stream",
          "text": [
            "    So luong  Don gia  Thanh tien           Ten san pham\n",
            "ID                                                      \n",
            "1          1     2000        2000                But chi\n",
            "2          5     6000       30000             Vo ghi chu\n",
            "3          9    10000       90000        Hop but chi mau\n",
            "4          5     6000       30000  Hop but bi Thien Long\n",
            "5          4     5000       20000          But viet bang\n",
            "6          8     8000       64000           Note sticker\n",
            "1         10     2000       20000                But chi\n"
          ]
        }
      ],
      "source": [
        "import pandas as pd\n",
        "names = [\"So luong\", \"Don gia\", \"Thanh tien\", \"Ten san pham\", \"ID\"]\n",
        "\n",
        "path = \"https://raw.githubusercontent.com/tranhungemail/DSImageCourse/main/ex2.csv\"\n",
        "df_indexed = pd.read_csv(path, names=names, index_col=\"ID\") # Đánh index cho cột ID\n",
        "print(df_indexed)"
      ]
    },
    {
      "cell_type": "markdown",
      "metadata": {
        "id": "N8WI4nd0gvsp"
      },
      "source": [
        "**Giải thích:**\n",
        "\n",
        "* `index_col=\"ID\"`: Chỉ định cột `ID` làm chỉ số, thay vì chỉ số mặc định.\n",
        "* Chỉ số này giúp truy cập hàng dễ dàng hơn dựa trên giá trị của `ID`."
      ]
    },
    {
      "cell_type": "markdown",
      "metadata": {
        "id": "hbTS9Uhan1i6"
      },
      "source": [
        "## **1.5. Phân Tách Không Phải Dấu Phẩy**\n",
        "\n",
        "Không phải tệp văn bản nào cũng sử dụng dấu phẩy làm phân tách. Có thể chỉ định phân tách bằng tham số `sep`, hỗ trợ cả biểu thức chính quy (regular expression).\n",
        "\n",
        "**Ví dụ:** Tệp [ex3.txt](https://raw.githubusercontent.com/tranhungemail/DSImageCourse/main/ex3.txt) phân tách bằng khoảng trắng:\n",
        "\n",
        "A B C D\n",
        "\n",
        "aaa -0.264438 -1.026059 -0.619500\n",
        "\n",
        "bbb  0.927272  0.302904 -0.032399\n",
        "\n",
        "ccc -0.264273 -0.386314 -0.217601\n",
        "\n",
        "ddd -0.871858 -0.348382  1.100491"
      ]
    },
    {
      "cell_type": "code",
      "execution_count": 6,
      "metadata": {
        "colab": {
          "base_uri": "https://localhost:8080/"
        },
        "id": "h6crKBgxqxQQ",
        "outputId": "b8ecbce4-0bbd-468e-8b36-e9d34037950e"
      },
      "outputs": [
        {
          "name": "stdout",
          "output_type": "stream",
          "text": [
            "            B         C         D\n",
            "A                                \n",
            "aaa -0.264438 -1.026059 -0.619500\n",
            "bbb  0.927272  0.302904 -0.032399\n",
            "ccc -0.264273 -0.386314 -0.217601\n",
            "ddd -0.871858 -0.348382  1.100491\n"
          ]
        }
      ],
      "source": [
        "#Code\n",
        "import pandas as pd\n",
        "path = \"https://raw.githubusercontent.com/tranhungemail/DSImageCourse/main/ex3.txt\"\n",
        "result = pd.read_csv(path,index_col=[\"A\"], sep=r\"\\s+\")\n",
        "print(result)"
      ]
    },
    {
      "cell_type": "markdown",
      "metadata": {
        "id": "ahq0wTu4q_e_"
      },
      "source": [
        "**Giải thích:**\n",
        "\n",
        "* `sep=r\"\\s+\"`: Sử dụng [biểu thức chính quy](https://viblo.asia/p/python-regex-Qbq5QMeE5D8) để khớp với một hoặc nhiều khoảng trắng.\n",
        "* `Pandas` nhận diện cột \"A\" làm chỉ số."
      ]
    },
    {
      "cell_type": "code",
      "execution_count": 7,
      "metadata": {
        "colab": {
          "base_uri": "https://localhost:8080/"
        },
        "id": "JE_OrIKdzuIy",
        "outputId": "69b6fb43-7b49-4f0a-c002-7dd7e6660e3f"
      },
      "outputs": [
        {
          "name": "stdout",
          "output_type": "stream",
          "text": [
            "                                                                                            Hey!\n",
            "Diem 1                                            Diem 2   Diem 3 Diem 4                Nhan xet\n",
            "just wanted to make things more difficult for you NaN      NaN    NaN                        NaN\n",
            "who reads CSV files with computers                 anyway? NaN    NaN                        NaN\n",
            "1                                                 2        3      4                  Hoc luc yeu\n",
            "5                                                 6        7      8       Hoc luc trung binh kha\n",
            "9                                                 10       9      10            Hoc luc xuat sac\n",
            "5                                                 6        5      6                   Trung binh\n",
            "4                                                 6        5      6                   Trung Binh\n",
            "8                                                 9        8      9                         Gioi\n",
            "2                                                 1        2      1                  Hoc luc yeu\n",
            "\n",
            "\n",
            "=================Sau khi skip row [0, 2, 3] ================\n",
            "   Diem 1  Diem 2  Diem 3  Diem 4                Nhan xet\n",
            "0       1       2       3       4             Hoc luc yeu\n",
            "1       5       6       7       8  Hoc luc trung binh kha\n",
            "2       9      10       9      10        Hoc luc xuat sac\n",
            "3       5       6       5       6              Trung binh\n",
            "4       4       6       5       6              Trung Binh\n",
            "5       8       9       8       9                    Gioi\n",
            "6       2       1       2       1             Hoc luc yeu\n"
          ]
        }
      ],
      "source": [
        "import pandas as pd\n",
        "#Khi chưa skip row\n",
        "path=\"https://raw.githubusercontent.com/tranhungemail/DSImageCourse/main/ex4.csv\"\n",
        "df = pd.read_csv(path) # Đọc file và không đọc các row 0, 2, 3\n",
        "print(df)\n",
        "#Sau khi skip row 0, 2, 3\n",
        "print(\"\\n\")\n",
        "print(\"=================Sau khi skip row [0, 2, 3] ================\")\n",
        "path=\"https://raw.githubusercontent.com/tranhungemail/DSImageCourse/main/ex4.csv\"\n",
        "df_skip = pd.read_csv(path, skiprows=[0, 2, 3]) # Đọc file và không đọc các file tại row 0, 2, 3\n",
        "print(df_skip)"
      ]
    },
    {
      "cell_type": "markdown",
      "metadata": {
        "id": "0kaVaX0uz5ER"
      },
      "source": [
        "**Giải thích:**\n",
        "* `skiprows=[0, 2, 3]`: Bỏ qua các dòng 0, 2, và 3.\n",
        "* Pandas chỉ đọc các dòng chứa dữ liệu thực tế, giữ nguyên tiêu đề."
      ]
    },
    {
      "cell_type": "code",
      "execution_count": 8,
      "metadata": {
        "colab": {
          "base_uri": "https://localhost:8080/"
        },
        "id": "rEhT9mdk0gmQ",
        "outputId": "4d4a33ab-a319-4a16-a97f-6c2456be90f5"
      },
      "outputs": [
        {
          "name": "stdout",
          "output_type": "stream",
          "text": [
            "  Ho va ten  Diem_Toan  Diem_Van  Diem_Anh  Diem_Ly            Ghi_chu\n",
            "0        An         88      85.0      65.0     96.0                NaN\n",
            "1      Bình         92      57.0      98.0     52.0  Ko co gi dac biet\n",
            "2       Chi         51      73.0       NaN     87.0                NaN\n",
            "3      Dung         91      90.0      56.0     95.0                NaN\n",
            "4        Ha         67      99.0      86.0     76.0                NaN\n",
            "5      Hanh         76       NaN      72.0     90.0                NaN\n",
            "6     Khanh         58      69.0      60.0     88.0                NaN\n",
            "7       Lan         90      93.0      75.0      NaN                NaN\n",
            "8      Minh         95      72.0      91.0     67.0                NaN\n",
            "9      Ngoc         97      80.0      78.0     94.0                NaN\n"
          ]
        }
      ],
      "source": [
        "#Code dữ liệu thiếu được hiển thị dưới dạng NaN\n",
        "import pandas as pd\n",
        "path = \"https://raw.githubusercontent.com/tranhungemail/DSImageCourse/main/ex5.csv\"\n",
        "df = pd.read_csv(path, encoding='latin-1')\n",
        "print(df)"
      ]
    },
    {
      "cell_type": "markdown",
      "metadata": {
        "id": "bxFc_Bwf38yI"
      },
      "source": [
        "# **2. Đọc Dữ Liệu Từ JSON**\n",
        "\n",
        "* JSON là một định dạng dữ liệu dựa trên văn bản và có thể được sử dụng với hầu hết các ngôn ngữ lập trình (Python, Java, C#, PHP, v.v.).\n",
        "\n",
        "* JSON được sử dụng để biểu diễn dữ liệu có cấu trúc, thường ở dạng cặp key-value (khóa-giá trị) hoặc danh sách các giá trị.\n",
        "* Ví dụ đơn giản về JSON:\n",
        "\n",
        "\n",
        "```\n",
        "{\n",
        "  \"name\": \"Nguyen Van A\",\n",
        "  \"age\": 25,\n",
        "  \"isStudent\": true,\n",
        "  \"hobbies\": [\"reading\", \"coding\", \"traveling\"],\n",
        "  \"address\": {\n",
        "    \"street\": \"123 Le Loi\",\n",
        "    \"city\": \"Hanoi\"\n",
        "  }\n",
        "}\n",
        "```\n",
        "\n",
        "* `\"name\", \"age\", \"isStudent\", \"hobbies\", \"address\"` là các **key**.\n",
        "* `\"Nguyen Van A\", 25, true, [\"reading\", \"coding\", \"traveling\"]`, và đối tượng `{ \"street\": \"123 Le Loi\", \"city\": \"Hanoi\" }` là các **value**.\n",
        "\n"
      ]
    },
    {
      "cell_type": "markdown",
      "metadata": {
        "id": "jk1jFObbpS3c"
      },
      "source": [
        "## **2.1. Cấu trúc của JSON**\n",
        "\n",
        "JSON có hai cấu trúc chính: Object (đối tượng), Array (mảng).\n",
        "\n",
        "**2.1.1. Object (Đối tượng):**\n",
        "\n",
        "* Là tập hợp các cặp key-value được bao quanh bởi dấu {}.\n",
        "* Key là một chuỗi (string) được bao quanh bởi dấu nháy kép (\"\").\n",
        "\n",
        "* Value có thể là:\n",
        "\n",
        "  * Chuỗi (string): \"Hello\"\n",
        "  * Số (number): 42 hoặc 3.14\n",
        "  * Boolean: true hoặc false\n",
        "  * Mảng (array): [\"item1\", \"item2\"]\n",
        "  * Đối tượng (object): { \"key\": \"value\" }\n",
        "  * Giá trị null: null\n",
        "\n",
        "* Các cặp key-value được phân tách bởi dấu phẩy (,).\n",
        "\n",
        "**2.1.2. Array (Mảng):**\n",
        "\n",
        "* Là danh sách các giá trị được bao quanh bởi dấu [].\n",
        "\n",
        "* Các giá trị trong mảng có thể thuộc bất kỳ kiểu dữ liệu nào được JSON hỗ trợ `(string, number, object, array, boolean, null)`.\n",
        "* Các giá trị được phân tách bởi dấu phẩy."
      ]
    },
    {
      "cell_type": "markdown",
      "metadata": {
        "id": "VDyrRZJ9rCFF"
      },
      "source": [
        "## 2.2. Đọc dữ liệu từ tệp JSON\n",
        "Dữ liệu từ tệp JSON được lưu tại có tên [student.json](https://raw.githubusercontent.com/tranhungemail/DSImageCourse/main/student.json)\n"
      ]
    },
    {
      "cell_type": "code",
      "execution_count": 9,
      "metadata": {
        "colab": {
          "base_uri": "https://localhost:8080/"
        },
        "id": "3H-mX6iB4KJt",
        "outputId": "f811b448-31d4-4716-a4cf-8599fc437ecd"
      },
      "outputs": [
        {
          "name": "stdout",
          "output_type": "stream",
          "text": [
            "     ten  diem_toan  diem_van  diem_anh  diem_ly\n",
            "0     An         85      78.0      90.0     65.0\n",
            "1   Binh         70      88.0       NaN     74.0\n",
            "2    Chi         92       NaN      80.0    100.0\n",
            "3   Dung         60      72.0      85.0     90.0\n",
            "4     Ha         75      95.0      78.0     82.0\n",
            "5   Hanh         88      91.0      92.0      NaN\n",
            "6  Khanh         55      67.0      70.0     73.0\n",
            "7    Lan         95       NaN      88.0     97.0\n",
            "8   Minh         81      76.0      84.0      NaN\n",
            "9   Ngoc        100      89.0      95.0     98.0\n"
          ]
        }
      ],
      "source": [
        "[\n",
        "  {\"ten\": \"An\",   \"diem_toan\": 85, \"diem_van\": 78, \"diem_anh\": 90, \"diem_ly\": 65},\n",
        "  {\"ten\": \"Binh\", \"diem_toan\": 70, \"diem_van\": 88, \"diem_anh\": \"null\", \"diem_ly\": 74},\n",
        "  {\"ten\": \"Chi\",  \"diem_toan\": 92, \"diem_van\": \"null\", \"diem_anh\": 80, \"diem_ly\": 100},\n",
        "  {\"ten\": \"Dung\", \"diem_toan\": 60, \"diem_van\": 72, \"diem_anh\": 85, \"diem_ly\": 90},\n",
        "  {\"ten\": \"Ha\",   \"diem_toan\": 75, \"diem_van\": 95, \"diem_anh\": 78, \"diem_ly\": 82},\n",
        "  {\"ten\": \"Hanh\", \"diem_toan\": 88, \"diem_van\": 91, \"diem_anh\": 92, \"diem_ly\": \"null\"},\n",
        "  {\"ten\": \"Khanh\",\"diem_toan\": 55, \"diem_van\": 67, \"diem_anh\": 70, \"diem_ly\": 73},\n",
        "  {\"ten\": \"Lan\",  \"diem_toan\": 95, \"diem_van\": \"null\", \"diem_anh\": 88, \"diem_ly\": 97},\n",
        "  {\"ten\": \"Minh\", \"diem_toan\": 81, \"diem_van\": 76, \"diem_anh\": 84, \"diem_ly\": \"null\"},\n",
        "  {\"ten\": \"Ngoc\", \"diem_toan\": 100, \"diem_van\": 89, \"diem_anh\": 95, \"diem_ly\": 98}\n",
        "]\n",
        "\n",
        "import pandas as pd\n",
        "path = \"https://raw.githubusercontent.com/tranhungemail/DSImageCourse/main/student.json\"\n",
        "df_json = pd.read_json(path)\n",
        "print(df_json)\n"
      ]
    },
    {
      "cell_type": "markdown",
      "metadata": {
        "id": "pZ2lh1lB5Eqk"
      },
      "source": [
        "**Giải thích:**\n",
        "\n",
        "* `read_json` tự động ánh xạ các khóa `JSON` thành cột của `DataFrame`.\n",
        "\n",
        "* `JSON` phải có cấu trúc phù hợp (danh sách các đối tượng với các khóa nhất quán).\n"
      ]
    },
    {
      "cell_type": "code",
      "execution_count": 10,
      "metadata": {
        "colab": {
          "base_uri": "https://localhost:8080/"
        },
        "id": "xVjAwUYZv_Kq",
        "outputId": "3ec866be-f6ff-4a79-92a7-8ee6d0f8d3f2"
      },
      "outputs": [
        {
          "name": "stdout",
          "output_type": "stream",
          "text": [
            "Dữ liệu gốc:\n",
            "      ten  diem_toan  diem_van  diem_anh  diem_ly\n",
            "0     An         85      78.0      90.0     65.0\n",
            "1   Binh         70      88.0       NaN     74.0\n",
            "2    Chi         92       NaN      80.0    100.0\n",
            "3   Dung         60      72.0      85.0     90.0\n",
            "4     Ha         75      95.0      78.0     82.0\n",
            "5   Hanh         88      91.0      92.0      NaN\n",
            "6  Khanh         55      67.0      70.0     73.0\n",
            "7    Lan         95       NaN      88.0     97.0\n",
            "8   Minh         81      76.0      84.0      NaN\n",
            "9   Ngoc        100      89.0      95.0     98.0 \n",
            "\n",
            "Loai bo hang co NaN:\n",
            "      ten  diem_toan  diem_van  diem_anh  diem_ly\n",
            "0     An         85      78.0      90.0     65.0\n",
            "3   Dung         60      72.0      85.0     90.0\n",
            "4     Ha         75      95.0      78.0     82.0\n",
            "6  Khanh         55      67.0      70.0     73.0\n",
            "9   Ngoc        100      89.0      95.0     98.0\n"
          ]
        }
      ],
      "source": [
        "import pandas as pd\n",
        "# Dữ liệu chưa loại bỏ NaN\n",
        "path = \"https://raw.githubusercontent.com/tranhungemail/DSImageCourse/main/student.json\"\n",
        "df_json = pd.read_json(path)\n",
        "print(\"Dữ liệu gốc:\\n\", df_json, \"\\n\")\n",
        "\n",
        "df_drop = df_json.dropna()\n",
        "print(\"Loai bo hang co NaN:\\n\", df_drop)"
      ]
    },
    {
      "cell_type": "markdown",
      "metadata": {},
      "source": [
        "---\n",
        "\n",
        "## 📊 **So sánh CSV vs JSON**\n",
        "\n",
        "Đã học xong CSV và JSON, hãy so sánh để hiểu rõ hơn:\n",
        "\n",
        "| Đặc điểm | CSV | JSON |\n",
        "|----------|-----|------|\n",
        "| **Cấu trúc** | Bảng 2 chiều (hàng × cột) | Cặp key-value, có thể lồng nhau |\n",
        "| **Dễ đọc (con người)** | ✅✅✅ Rất dễ | ✅✅ Khá dễ |\n",
        "| **Dễ xử lý (máy)** | ✅✅✅ Đơn giản | ✅✅ Linh hoạt |\n",
        "| **Phù hợp với** | Dữ liệu dạng bảng đơn giản | Dữ liệu phức tạp, API |\n",
        "| **Kích thước file** | Nhỏ | Lớn hơn (có thêm key names) |\n",
        "| **Hỗ trợ dữ liệu lồng nhau** | ❌ Không | ✅ Có |\n",
        "| **Đọc bằng Pandas** | `pd.read_csv()` | `pd.read_json()` |\n",
        "| **Ví dụ ứng dụng** | Báo cáo, dữ liệu thống kê | Web API, cấu hình app |\n",
        "\n",
        "### **🤔 Khi nào dùng gì?**\n",
        "\n",
        "**Dùng CSV khi:**\n",
        "- ✅ Dữ liệu dạng bảng đơn giản\n",
        "- ✅ Cần mở bằng Excel\n",
        "- ✅ File nhỏ, dễ chia sẻ\n",
        "- ✅ Không cần cấu trúc phức tạp\n",
        "\n",
        "**Dùng JSON khi:**\n",
        "- ✅ Làm việc với API\n",
        "- ✅ Dữ liệu có cấu trúc lồng nhau (nested)\n",
        "- ✅ Cần lưu cả metadata\n",
        "- ✅ Trao đổi dữ liệu giữa các ứng dụng\n",
        "\n",
        "---\n"
      ]
    },
    {
      "cell_type": "code",
      "execution_count": 11,
      "metadata": {
        "colab": {
          "base_uri": "https://localhost:8080/"
        },
        "id": "8daTNcxgs_08",
        "outputId": "5b358271-89c6-4fe7-a334-f64fb8f685bd"
      },
      "outputs": [
        {
          "name": "stdout",
          "output_type": "stream",
          "text": [
            "Dữ liệu gốc:\n",
            "      ten  diem_toan  diem_van  diem_anh  diem_ly\n",
            "0     An         85      78.0      90.0     65.0\n",
            "1   Binh         70      88.0       NaN     74.0\n",
            "2    Chi         92       NaN      80.0    100.0\n",
            "3   Dung         60      72.0      85.0     90.0\n",
            "4     Ha         75      95.0      78.0     82.0\n",
            "5   Hanh         88      91.0      92.0      NaN\n",
            "6  Khanh         55      67.0      70.0     73.0\n",
            "7    Lan         95       NaN      88.0     97.0\n",
            "8   Minh         81      76.0      84.0      NaN\n",
            "9   Ngoc        100      89.0      95.0     98.0 \n",
            "\n",
            "\n",
            "============================\n",
            "\n",
            "Điền dữ liệu thiếu bằng forward fill\n",
            "     ten  diem_toan  diem_van  diem_anh  diem_ly\n",
            "0     An         85      78.0      90.0     65.0\n",
            "1   Binh         70      88.0      90.0     74.0\n",
            "2    Chi         92      88.0      80.0    100.0\n",
            "3   Dung         60      72.0      85.0     90.0\n",
            "4     Ha         75      95.0      78.0     82.0\n",
            "5   Hanh         88      91.0      92.0     82.0\n",
            "6  Khanh         55      67.0      70.0     73.0\n",
            "7    Lan         95      67.0      88.0     97.0\n",
            "8   Minh         81      76.0      84.0     97.0\n",
            "9   Ngoc        100      89.0      95.0     98.0\n"
          ]
        },
        {
          "name": "stderr",
          "output_type": "stream",
          "text": [
            "/var/folders/8x/cphm0p8j0h16x_zm6w8f2nww0000gn/T/ipykernel_47859/2095588677.py:9: FutureWarning: DataFrame.fillna with 'method' is deprecated and will raise in a future version. Use obj.ffill() or obj.bfill() instead.\n",
            "  df_ffill = df_json.fillna(method=\"ffill\")\n"
          ]
        }
      ],
      "source": [
        "import pandas as pd\n",
        "# Dữ liệu chưa loại bỏ NaN\n",
        "path = \"https://raw.githubusercontent.com/tranhungemail/DSImageCourse/main/student.json\"\n",
        "df_json = pd.read_json(path)\n",
        "print(\"Dữ liệu gốc:\\n\", df_json, \"\\n\")\n",
        "\n",
        "print(\"\\n============================\\n\")\n",
        "print(\"Điền dữ liệu thiếu bằng forward fill\")\n",
        "df_ffill = df_json.fillna(method=\"ffill\")\n",
        "print(df_ffill)"
      ]
    },
    {
      "cell_type": "markdown",
      "metadata": {
        "id": "mXqGsMegwgfp"
      },
      "source": [
        "# **3. Đọc dữ liệu từ web**\n",
        "\n",
        "> **💡 MỤC TIÊU PHẦN NÀY:**  \n",
        "> Học cách đọc dữ liệu dạng bảng trực tiếp từ các trang web sử dụng Pandas  \n",
        "> \n",
        "> **🎯 KẾT QUẢ:** Sau phần này, bạn sẽ biết cách:\n",
        "> - Lấy bảng từ bất kỳ trang web nào\n",
        "> - Kiểm tra và xử lý dữ liệu thiếu\n",
        "> - Lưu dữ liệu vào file CSV\n",
        "> - Phân tích dữ liệu theo thời gian\n",
        "\n",
        "---\n",
        "\n",
        "## **Giới thiệu**\n",
        "\n",
        "* Thư viện pandas hỗ trợ đọc dữ liệu dạng bảng trực tiếp từ nhiều nguồn: file CSV, Excel, SQL, và thậm chí cả trang web (HTML table).\n",
        "* Hàm `pd.read_html(url)` sẽ tự động tìm kiếm **TẤT CẢ** các bảng `<table>` trong trang web và đưa chúng về dưới dạng DataFrame.\n",
        "\n",
        "> **⚠️ LƯU Ý QUAN TRỌNG:**  \n",
        "> `pd.read_html()` trả về một **DANH SÁCH (list)** các DataFrame, KHÔNG phải một DataFrame đơn lẻ!\n",
        "\n",
        "---\n",
        "\n",
        "## **3.1. Ví dụ thực tế: Đọc danh sách ngân hàng phá sản tại Mỹ**\n",
        "\n",
        "Chúng ta sẽ đọc dữ liệu từ trang web của FDIC (Federal Deposit Insurance Corporation) - cơ quan bảo hiểm tiền gửi liên bang Mỹ.\n",
        "\n",
        "### **Các bước thực hiện:**"
      ]
    },
    {
      "cell_type": "markdown",
      "metadata": {},
      "source": [
        "**Bước 1:** Import thư viện Pandas\n",
        "\n",
        "**Bước 2:** Xác định URL trang web chứa bảng dữ liệu\n",
        "\n",
        "**Bước 3:** Đọc TẤT CẢ bảng từ trang web bằng `pd.read_html(url)`\n",
        "\n",
        "**Bước 4:** Kiểm tra số lượng bảng tìm được\n",
        "\n",
        "**Bước 5:** Chọn bảng cần thiết (thường là bảng đầu tiên `tables[0]`)\n",
        "\n",
        "**Bước 6:** Xem dữ liệu với `.head()` để kiểm tra\n",
        "\n",
        "---\n",
        "\n",
        "### **Code minh họa:**\n"
      ]
    },
    {
      "cell_type": "code",
      "execution_count": null,
      "metadata": {
        "colab": {
          "base_uri": "https://localhost:8080/"
        },
        "id": "siHgVJOx5kY9",
        "outputId": "fe797cfd-db64-42a8-b262-cb60c9f0b47b"
      },
      "outputs": [
        {
          "name": "stdout",
          "output_type": "stream",
          "text": [
            "Số bảng tìm thấy: 1\n",
            "                               Bank Name          City         State   Cert  \\\n",
            "0           The Santa Anna National Bank    Santa Anna         Texas   5520   \n",
            "1                   Pulaski Savings Bank       Chicago      Illinois  28611   \n",
            "2     The First National Bank of Lindsay       Lindsay      Oklahoma   4134   \n",
            "3  Republic First Bank dba Republic Bank  Philadelphia  Pennsylvania  27332   \n",
            "4                          Citizens Bank      Sac City          Iowa   8758   \n",
            "\n",
            "               Acquiring Institution      Closing Date  Fund  Sort ascending  \n",
            "0          Coleman County State Bank     June 27, 2025                 10549  \n",
            "1                    Millennium Bank  January 17, 2025                 10548  \n",
            "2             First Bank & Trust Co.  October 18, 2024                 10547  \n",
            "3  Fulton Bank, National Association    April 26, 2024                 10546  \n",
            "4          Iowa Trust & Savings Bank  November 3, 2023                 10545  \n"
          ]
        }
      ],
      "source": [
        "# BƯỚC 1: Import thư viện Pandas\n",
        "import pandas as pd\n",
        "\n",
        "# BƯỚC 2: Xác định URL trang web chứa bảng dữ liệu\n",
        "# Đây là trang web của FDIC (cơ quan bảo hiểm tiền gửi Mỹ)\n",
        "url = \"https://www.fdic.gov/resources/resolutions/bank-failures/failed-bank-list/\"\n",
        "\n",
        "# BƯỚC 3: Đọc TẤT CẢ bảng từ trang web\n",
        "# pd.read_html() tự động tìm tất cả thẻ <table> trong HTML\n",
        "tables = pd.read_html(url)\n",
        "\n",
        "# BƯỚC 4: Kiểm tra số lượng bảng tìm được\n",
        "print(f\"✅ Số bảng tìm thấy: {len(tables)}\")\n",
        "print(f\"✅ Kiểu dữ liệu: {type(tables)}\")  # Sẽ in ra 'list'\n",
        "\n",
        "# BƯỚC 5: Chọn bảng đầu tiên (index 0)\n",
        "failures = tables[0]\n",
        "print(f\"✅ Kích thước bảng: {failures.shape[0]} dòng × {failures.shape[1]} cột\")\n",
        "\n",
        "# BƯỚC 6: Xem 5 dòng đầu tiên để kiểm tra\n",
        "print(\"\\n📊 Dữ liệu 5 dòng đầu:\")\n",
        "print(failures.head())\n"
      ]
    },
    {
      "cell_type": "markdown",
      "metadata": {
        "id": "DFqamPVwy6lQ"
      },
      "source": [
        "---\n",
        "\n",
        "## **3.2. Kiểm tra dữ liệu thiếu**\n",
        "\n",
        "Sau khi đọc dữ liệu, bước quan trọng tiếp theo là kiểm tra xem có dữ liệu thiếu (missing data) không.\n",
        "\n",
        "> **💡 Tại sao cần kiểm tra dữ liệu thiếu?**  \n",
        "> Dữ liệu thiếu có thể ảnh hưởng đến kết quả phân tích và cần được xử lý trước khi tiếp tục\n",
        "\n",
        "**Phương pháp:** Sử dụng `.isnull().sum()` để đếm số lượng giá trị thiếu trong mỗi cột"
      ]
    },
    {
      "cell_type": "code",
      "execution_count": null,
      "metadata": {
        "colab": {
          "base_uri": "https://localhost:8080/"
        },
        "id": "WLDGB2K7zV8G",
        "outputId": "d40fae5a-a74f-4634-9545-2e094f1c097b"
      },
      "outputs": [
        {
          "name": "stdout",
          "output_type": "stream",
          "text": [
            "Số bảng tìm thấy: 1\n",
            "Bank Name                0\n",
            "City                     0\n",
            "State                    0\n",
            "Cert                     0\n",
            "Acquiring Institution    0\n",
            "Closing Date             0\n",
            "Fund  Sort ascending     0\n",
            "dtype: int64\n"
          ]
        }
      ],
      "source": [
        "# Sử dụng biến 'failures' đã đọc ở phần 3.1 phía trên\n",
        "# Không cần đọc lại từ web!\n",
        "\n",
        "# Kiểm tra dữ liệu thiếu trong từng cột\n",
        "missing_data = failures.isnull().sum()\n",
        "\n",
        "print(\"📊 Số lượng dữ liệu thiếu trong mỗi cột:\")\n",
        "print(missing_data)\n",
        "print(\"\\n✅ Kết luận: Bảng này không có dữ liệu thiếu (tất cả = 0)\")"
      ]
    },
    {
      "cell_type": "markdown",
      "metadata": {
        "id": "tqnTFvJRzfRA"
      },
      "source": [
        "---\n",
        "\n",
        "## **3.3. Lưu dữ liệu ra file CSV**\n",
        "\n",
        "Sau khi đọc được dữ liệu từ web, chúng ta có thể lưu vào file CSV để sử dụng lại sau này (không cần đọc lại từ web).\n",
        "\n",
        "> **💡 Lợi ích:**\n",
        "> - Tiết kiệm thời gian (không cần tải lại từ web)\n",
        "> - Làm việc offline\n",
        "> - Dữ liệu ổn định (không thay đổi khi web cập nhật)\n",
        "\n",
        "**Phương pháp:** Sử dụng `.to_csv()` để lưu DataFrame ra file"
      ]
    },
    {
      "cell_type": "code",
      "execution_count": null,
      "metadata": {
        "colab": {
          "base_uri": "https://localhost:8080/"
        },
        "id": "YRW-Pbe-zmmJ",
        "outputId": "f557da6a-7a3d-45f8-8817-f224bdf5d943"
      },
      "outputs": [
        {
          "name": "stdout",
          "output_type": "stream",
          "text": [
            "Số bảng tìm thấy: 1\n",
            "Lưu thành công ra file CSV\n"
          ]
        }
      ],
      "source": [
        "# Sử dụng biến 'failures' đã có từ phần 3.1\n",
        "\n",
        "# Lưu DataFrame ra file CSV\n",
        "failures.to_csv(\"bank_failures.csv\", index=False, encoding=\"utf-8\")\n",
        "\n",
        "print(\"✅ Lưu thành công ra file: bank_failures.csv\")\n",
        "print(f\"📁 File chứa {failures.shape[0]} dòng dữ liệu\")\n",
        "print(\"💡 Bạn có thể mở file này bằng Excel hoặc đọc lại bằng pd.read_csv()\")"
      ]
    },
    {
      "cell_type": "markdown",
      "metadata": {
        "id": "z9mAuGAL55at"
      },
      "source": [
        "---\n",
        "\n",
        "## **3.4. Phân tích dữ liệu: Đếm số ngân hàng phá sản theo năm**\n",
        "\n",
        "Bây giờ chúng ta sẽ phân tích dữ liệu để tìm hiểu xu hướng phá sản ngân hàng theo thời gian.\n",
        "\n",
        "> **🎯 Mục tiêu:** Đếm số lượng ngân hàng phá sản trong mỗi năm\n",
        "\n",
        "**Các bước:**\n",
        "1. Chuyển đổi cột \"Closing Date\" sang kiểu datetime\n",
        "2. Trích xuất năm từ ngày tháng\n",
        "3. Đếm số lượng theo năm với `.value_counts()`"
      ]
    },
    {
      "cell_type": "code",
      "execution_count": null,
      "metadata": {
        "colab": {
          "base_uri": "https://localhost:8080/"
        },
        "id": "s1U_DwQZ5_a7",
        "outputId": "03f992b4-88d7-44ab-e984-5792113732a0"
      },
      "outputs": [
        {
          "name": "stdout",
          "output_type": "stream",
          "text": [
            "Số bảng tìm thấy: 1\n",
            "Year\n",
            "2017    8\n",
            "2019    4\n",
            "2020    4\n",
            "2023    5\n",
            "2024    2\n",
            "2025    2\n",
            "Name: count, dtype: int64\n"
          ]
        }
      ],
      "source": [
        "# Sử dụng biến 'failures' đã có từ phần 3.1\n",
        "\n",
        "# BƯỚC 1: Chuyển đổi cột \"Closing Date\" sang kiểu datetime\n",
        "failures[\"Closing Date\"] = pd.to_datetime(failures[\"Closing Date\"])\n",
        "\n",
        "# BƯỚC 2: Trích xuất năm từ cột datetime\n",
        "failures[\"Year\"] = failures[\"Closing Date\"].dt.year\n",
        "\n",
        "# BƯỚC 3: Đếm số lượng theo năm và sắp xếp theo thứ tự\n",
        "year_counts = failures[\"Year\"].value_counts().sort_index()\n",
        "\n",
        "print(\"📊 Số lượng ngân hàng phá sản theo năm:\")\n",
        "print(year_counts)\n",
        "print(f\"\\n✅ Tổng số năm có ngân hàng phá sản: {len(year_counts)}\")\n",
        "print(f\"✅ Năm có nhiều ngân hàng phá sản nhất: {year_counts.idxmax()} ({year_counts.max()} ngân hàng)\")"
      ]
    },
    {
      "cell_type": "markdown",
      "metadata": {},
      "source": [
        "---\n",
        "\n",
        "## 📌 **TÓM TẮT SECTION 3: ĐỌC DỮ LIỆU TỪ WEB**\n",
        "\n",
        "### **✅ Kiến thức đã học:**\n",
        "1. ✅ Sử dụng `pd.read_html(url)` để đọc bảng HTML từ web\n",
        "2. ✅ `read_html()` trả về **LIST** các DataFrame, không phải DataFrame đơn lẻ\n",
        "3. ✅ Kiểm tra dữ liệu thiếu với `.isnull().sum()`\n",
        "4. ✅ Lưu DataFrame ra CSV với `.to_csv()`\n",
        "5. ✅ Xử lý ngày tháng với `pd.to_datetime()`\n",
        "6. ✅ Đếm theo nhóm với `.value_counts()`\n",
        "\n",
        "### **🔑 Hàm quan trọng:**\n",
        "| Hàm | Mục đích | Ví dụ |\n",
        "|-----|----------|-------|\n",
        "| `pd.read_html(url)` | Đọc tất cả bảng từ web | `tables = pd.read_html(url)` |\n",
        "| `.to_csv(filename)` | Lưu DataFrame ra CSV | `df.to_csv(\"data.csv\")` |\n",
        "| `pd.to_datetime()` | Chuyển sang kiểu datetime | `pd.to_datetime(df[\"date\"])` |\n",
        "| `.dt.year` | Trích xuất năm | `df[\"date\"].dt.year` |\n",
        "| `.value_counts()` | Đếm số lượng mỗi giá trị | `df[\"col\"].value_counts()` |\n",
        "\n",
        "### **⚠️ Lỗi thường gặp:**\n",
        "❌ Quên rằng `read_html()` trả về **list**, không phải DataFrame  \n",
        "❌ Không kiểm tra số lượng bảng trước khi lấy `tables[0]`  \n",
        "❌ URL không tồn tại hoặc không có bảng nào  \n",
        "❌ Đọc lại dữ liệu từ web nhiều lần (tốn thời gian & băng thông)\n",
        "\n",
        "### **💡 Tips:**\n",
        "- Luôn kiểm tra `len(tables)` trước khi truy cập\n",
        "- Lưu dữ liệu vào CSV để tránh đọc lại từ web\n",
        "- Sử dụng lại biến đã có thay vì đọc lại dữ liệu\n",
        "\n",
        "---\n"
      ]
    },
    {
      "cell_type": "markdown",
      "metadata": {
        "id": "TQwc_Ean85px"
      },
      "source": [
        "# **4. Đọc Dữ Liệu Từ XML (RSS Feed)**\n",
        "\n",
        "> **💡 MỤC TIÊU PHẦN NÀY:**  \n",
        "> Học cách đọc và xử lý dữ liệu XML từ RSS Feed (nguồn tin tức tự động)  \n",
        "> \n",
        "> **🎯 KẾT QUẢ:** Sau phần này, bạn sẽ biết cách:\n",
        "> - Hiểu cấu trúc XML và RSS Feed\n",
        "> - Đọc tin tức tự động từ các trang web\n",
        "> - Trích xuất thông tin từ RSS\n",
        "> - Lọc và phân tích dữ liệu tin tức\n",
        "\n",
        "---\n",
        "\n",
        "## **Giới thiệu XML và RSS**\n",
        "\n",
        "**XML (Extensible Markup Language):** \n",
        "- Là một ngôn ngữ đánh dấu dùng để lưu trữ và truyền tải dữ liệu theo cấu trúc cây\n",
        "- Sử dụng các thẻ (tag) tùy chỉnh để mô tả dữ liệu\n",
        "- Dễ đọc bởi cả máy tính và con người\n",
        "\n",
        "**RSS (Really Simple Syndication):**\n",
        "- Là một dạng file XML đặc biệt\n",
        "- Dùng để cung cấp nội dung cập nhật tự động từ website (tin tức, blog, podcast)\n",
        "- Giống như \"đăng ký kênh\" để nhận tin tức mới nhất\n",
        "\n",
        "> **🤔 Tại sao học RSS?**  \n",
        "> - Tự động thu thập tin tức từ nhiều nguồn  \n",
        "> - Không cần vào từng website  \n",
        "> - Dữ liệu có cấu trúc sẵn, dễ xử lý\n"
      ]
    },
    {
      "cell_type": "markdown",
      "metadata": {},
      "source": [
        "---\n",
        "\n",
        "### **📊 So sánh các định dạng dữ liệu**\n",
        "\n",
        "| Đặc điểm | CSV | JSON | XML/RSS |\n",
        "|----------|-----|------|---------|\n",
        "| **Cấu trúc** | Bảng đơn giản | Cặp key-value, lồng nhau | Thẻ đóng/mở, phân cấp |\n",
        "| **Dễ đọc** | ✅✅✅ Rất dễ | ✅✅ Khá dễ | ✅ Khó hơn |\n",
        "| **Phù hợp với** | Dữ liệu dạng bảng | API, dữ liệu phức tạp | RSS Feed, tài liệu có cấu trúc |\n",
        "| **Kích thước file** | Nhỏ | Trung bình | Lớn (nhiều thẻ đóng/mở) |\n",
        "| **Đọc bằng Pandas** | `pd.read_csv()` | `pd.read_json()` | Dùng BeautifulSoup + DataFrame |\n",
        "\n",
        "### **🌍 Ứng dụng thực tế của RSS:**\n",
        "\n",
        "**Ví dụ 1: Theo dõi tin tức chứng khoán**\n",
        "- Đọc RSS từ CafeF, VNExpress mỗi ngày\n",
        "- Tìm tin về công ty quan tâm (VinGroup, Viettel...)\n",
        "- Tự động gửi email cảnh báo\n",
        "\n",
        "**Ví dụ 2: Phân tích xu hướng thị trường**\n",
        "- Thu thập tin tức từ nhiều nguồn\n",
        "- Đếm tần suất từ khóa\n",
        "- Phát hiện chủ đề \"hot\"\n",
        "\n",
        "**Ví dụ 3: Nghiên cứu học thuật**\n",
        "- Theo dõi blog công nghệ\n",
        "- Thu thập bài nghiên cứu mới\n",
        "- Tạo database kiến thức\n"
      ]
    },
    {
      "cell_type": "markdown",
      "metadata": {
        "id": "3WumpwG6xtbW"
      },
      "source": [
        "## **4.1. XML và RSS Feed là gì?**\n",
        "\n",
        "\n",
        "**Ví dụ:**\n",
        "```\n",
        "<item>\n",
        "    <title>Tin tức mới nhất</title>\n",
        "    <description>Nội dung tóm tắt...</description>\n",
        "    <link>https://example.com/news</link>\n",
        "</item>\n",
        "```\n",
        "**RSS Feed (Really Simple Syndication):**\n",
        "\n",
        "* Là một dạng tệp XML được sử dụng để cung cấp nội dung cập nhật tự động từ các trang web (như blog, tin tức, podcast).\n",
        "\n",
        "* RSS Feed thường có cấu trúc chuẩn với các thẻ như `<channel>, <item>, <title>, <link>, <description>`, v.v.\n",
        "\n",
        "* Một RSS Feed điển hình có dạng như sau:\n",
        "```\n",
        "<?xml version=\"1.0\" encoding=\"UTF-8\"?>\n",
        "<rss version=\"2.0\">\n",
        "    <channel>\n",
        "        <title>Tên trang web</title>\n",
        "        <link>https://example.com</link>\n",
        "        <description>Mô tả trang web</description>\n",
        "        <item>\n",
        "            <title>Tiêu đề bài viết 1</title>\n",
        "            <link>https://example.com/post1</link>\n",
        "            <description>Tóm tắt bài viết 1</description>\n",
        "            <pubDate>Mon, 24 Aug 2025 11:00:00 GMT</pubDate>\n",
        "        </item>\n",
        "        <item>\n",
        "            <title>Tiêu đề bài viết 2</title>\n",
        "            <link>https://example.com/post2</link>\n",
        "            <description>Tóm tắt bài viết 2</description>\n",
        "            <pubDate>Mon, 24 Aug 2025 10:00:00 GMT</pubDate>\n",
        "        </item>\n",
        "    </channel>\n",
        "</rss>\n",
        "```\n",
        "\n",
        "* `XML` thường được sử dụng trong các nguồn cấp `RSS`.\n",
        "* Sử dụng `BeautifulSoup` để phân tích `XML` và chuyển thành `DataFrame`.\n"
      ]
    },
    {
      "cell_type": "markdown",
      "metadata": {
        "id": "E9voekbSwtsQ"
      },
      "source": [
        "\n",
        "## **4.2. Ví dụ thực tế: Đọc tin tức chứng khoán từ CafeF**\n",
        "\n",
        "### **📋 Quy trình đọc RSS Feed:**\n",
        "\n",
        "```\n",
        "📰 Trang web CafeF\n",
        "    ↓\n",
        "📡 RSS Feed (file XML)\n",
        "    ↓\n",
        "🔍 BeautifulSoup (Phân tích cú pháp XML)\n",
        "    ↓\n",
        "🔄 Vòng lặp qua các <item>\n",
        "    ↓\n",
        "📝 Trích xuất: title, link, pubDate, description\n",
        "    ↓\n",
        "📋 Tạo danh sách dictionary\n",
        "    ↓\n",
        "📊 Chuyển thành Pandas DataFrame\n",
        "```\n",
        "\n",
        "### **Các bước chi tiết:**\n",
        "\n",
        "**Bước 1:** Gửi HTTP request để lấy nội dung RSS\n",
        "\n",
        "**Bước 2:** Parse (phân tích) nội dung XML bằng BeautifulSoup\n",
        "\n",
        "**Bước 3:** Tìm tất cả thẻ `<item>` (mỗi item = 1 bản tin)\n",
        "\n",
        "**Bước 4:** Với mỗi item, trích xuất 4 trường: title, link, pubDate, description\n",
        "\n",
        "**Bước 5:** Lưu vào danh sách dictionary\n",
        "\n",
        "**Bước 6:** Chuyển danh sách thành DataFrame\n",
        "\n",
        "---\n",
        "\n",
        "### **Code minh họa:**"
      ]
    },
    {
      "cell_type": "code",
      "execution_count": null,
      "metadata": {
        "colab": {
          "base_uri": "https://localhost:8080/"
        },
        "id": "IIoSl3wR9GrJ",
        "outputId": "9b000ea6-ddf0-470f-85e0-96a5584b5d63"
      },
      "outputs": [
        {
          "name": "stdout",
          "output_type": "stream",
          "text": [
            "                                               title  \\\n",
            "0  Tự doanh CTCK bất ngờ quay đầu bán ròng hơn 1....   \n",
            "1  Chứng khoán SSI hợp tác với Nasdaq trên 3 lĩnh...   \n",
            "2  Một công ty dược ở Đà Nẵng bị truy thu và xử p...   \n",
            "3  Khối ngoại trở lại mua ròng sau quyết định nân...   \n",
            "4  Top 10 thị phần môi giới HNX quý 3/2025: Nhiều...   \n",
            "\n",
            "                                                link  \\\n",
            "0  https://cafef.vn/tu-doanh-ctck-bat-ngo-quay-da...   \n",
            "1  https://cafef.vn/chung-khoan-ssi-hop-tac-voi-n...   \n",
            "2  https://cafef.vn/mot-cong-ty-duoc-o-da-nang-bi...   \n",
            "3  https://cafef.vn/khoi-ngoai-tro-lai-mua-rong-s...   \n",
            "4  https://cafef.vn/top-10-thi-phan-moi-gioi-hnx-...   \n",
            "\n",
            "                         pubDate  \\\n",
            "0  Wed, 08 Oct 25 17:42:00 +0700   \n",
            "1  Wed, 08 Oct 25 17:02:00 +0700   \n",
            "2  Wed, 08 Oct 25 16:26:00 +0700   \n",
            "3  Wed, 08 Oct 25 15:45:00 +0700   \n",
            "4  Wed, 08 Oct 25 15:27:00 +0700   \n",
            "\n",
            "                                         description  \n",
            "0  <a href=\"https://cafef.vn/tu-doanh-ctck-bat-ng...  \n",
            "1  <a href=\"https://cafef.vn/chung-khoan-ssi-hop-...  \n",
            "2  <a href=\"https://cafef.vn/mot-cong-ty-duoc-o-d...  \n",
            "3  <a href=\"https://cafef.vn/khoi-ngoai-tro-lai-m...  \n",
            "4  <a href=\"https://cafef.vn/top-10-thi-phan-moi-...  \n"
          ]
        }
      ],
      "source": [
        "# ============ BƯỚC 1: Import thư viện ============\n",
        "import requests                      # Gửi HTTP request\n",
        "from bs4 import BeautifulSoup        # Phân tích XML/HTML\n",
        "import pandas as pd                  # Xử lý dữ liệu\n",
        "\n",
        "# ============ BƯỚC 2: Xác định URL RSS ============\n",
        "# URL của RSS feed tin tức chứng khoán trên CafeF\n",
        "url = \"https://cafef.vn/thi-truong-chung-khoan.rss\"\n",
        "\n",
        "# ============ BƯỚC 3: Gửi request và lấy nội dung ============\n",
        "print(\"📡 Đang tải RSS feed từ CafeF...\")\n",
        "res = requests.get(url)\n",
        "print(f\"✅ Tải thành công! (Status code: {res.status_code})\")\n",
        "\n",
        "# ============ BƯỚC 4: Parse XML bằng BeautifulSoup ============\n",
        "soup = BeautifulSoup(res.content, 'xml')\n",
        "print(f\"✅ Parse XML thành công!\")\n",
        "\n",
        "# ============ BƯỚC 5: Trích xuất dữ liệu ============\n",
        "data = []  # Danh sách lưu các bản tin\n",
        "\n",
        "# Duyệt qua TẤT CẢ thẻ <item> (mỗi item = 1 bản tin)\n",
        "for item in soup.find_all('item'):\n",
        "    # Trích xuất 4 trường quan trọng:\n",
        "    data.append({\n",
        "        'title': item.find('title').text,           # Tiêu đề\n",
        "        'link': item.find('link').text,             # Link bài viết\n",
        "        'pubDate': item.find('pubDate').text,       # Ngày xuất bản\n",
        "        'description': item.find('description').text # Mô tả\n",
        "    })\n",
        "\n",
        "print(f\"✅ Đã trích xuất {len(data)} bản tin!\")\n",
        "\n",
        "# ============ BƯỚC 6: Chuyển thành DataFrame ============\n",
        "df_rss = pd.DataFrame(data)\n",
        "\n",
        "print(f\"\\n📊 Kích thước DataFrame: {df_rss.shape[0]} dòng × {df_rss.shape[1]} cột\")\n",
        "print(\"\\n📰 5 bản tin mới nhất:\")\n",
        "print(df_rss.head())\n"
      ]
    },
    {
      "cell_type": "markdown",
      "metadata": {
        "id": "ghsvoiUsgIji"
      },
      "source": [
        "---\n",
        "\n",
        "## **4.3. Lọc và tìm kiếm thông tin cụ thể**\n",
        "\n",
        "Sau khi có DataFrame chứa tin tức, chúng ta có thể lọc để tìm các bản tin về chủ đề cụ thể.\n",
        "\n",
        "> **🎯 Ví dụ:** Tìm tất cả tin tức về \"Vietnam Airlines\"\n",
        "\n",
        "**Phương pháp:** Sử dụng `.str.contains()` để tìm kiếm chuỗi trong cột\n",
        "\n",
        "**Tham số quan trọng:**\n",
        "- `case=False`: Không phân biệt hoa thường (Vietnam = vietnam = VIETNAM)\n",
        "- `na=False`: Bỏ qua các giá trị NaN (tránh lỗi)"
      ]
    },
    {
      "cell_type": "code",
      "execution_count": null,
      "metadata": {
        "colab": {
          "base_uri": "https://localhost:8080/"
        },
        "id": "VwqCe88PM-gs",
        "outputId": "c7840001-3a05-4073-bd19-5b0210b9e52a"
      },
      "outputs": [
        {
          "name": "stdout",
          "output_type": "stream",
          "text": [
            "                                                 title  \\\n",
            "352  Vietnam Airlines tính chi hơn 10 tỷ USD mua 30...   \n",
            "\n",
            "                                                  link  \\\n",
            "352  https://cafef.vn/vietnam-airlines-tinh-chi-hon...   \n",
            "\n",
            "                           pubDate  \\\n",
            "352  Mon, 22 Sep 25 13:28:00 +0700   \n",
            "\n",
            "                                           description  \n",
            "352  <a href=\"https://cafef.vn/vietnam-airlines-tin...  \n"
          ]
        }
      ],
      "source": [
        "# Sử dụng biến 'df_rss' đã có từ phần 4.2\n",
        "\n",
        "# Lọc các bản tin có chứa \"Vietnam Airlines\" trong tiêu đề\n",
        "print(\"🔍 Đang tìm kiếm tin tức về 'Vietnam Airlines'...\\n\")\n",
        "\n",
        "df_hvn = df_rss[df_rss['title'].str.contains('vietnam airlines', case=False, na=False)]\n",
        "\n",
        "# Hiển thị kết quả\n",
        "if len(df_hvn) > 0:\n",
        "    print(f\"✅ Tìm thấy {len(df_hvn)} bản tin về Vietnam Airlines:\")\n",
        "    print(df_hvn[['title', 'pubDate']])  # Chỉ hiển thị tiêu đề và ngày\n",
        "else:\n",
        "    print(\"❌ Không tìm thấy tin nào về Vietnam Airlines\")\n",
        "\n",
        "# Hiển thị chi tiết bản tin đầu tiên (nếu có)\n",
        "if len(df_hvn) > 0:\n",
        "    print(\"\\n📰 Chi tiết bản tin đầu tiên:\")\n",
        "    print(df_hvn.iloc[0])"
      ]
    },
    {
      "cell_type": "markdown",
      "metadata": {},
      "source": [
        "---\n",
        "\n",
        "## 📌 **TÓM TẮT SECTION 4: ĐỌC DỮ LIỆU XML/RSS**\n",
        "\n",
        "### **✅ Kiến thức đã học:**\n",
        "1. ✅ Hiểu cấu trúc XML và RSS Feed\n",
        "2. ✅ Sử dụng `requests` để tải RSS từ web\n",
        "3. ✅ Sử dụng `BeautifulSoup` để parse XML\n",
        "4. ✅ Trích xuất dữ liệu từ các thẻ XML\n",
        "5. ✅ Tạo DataFrame từ danh sách dictionary\n",
        "6. ✅ Lọc dữ liệu với `.str.contains()`\n",
        "\n",
        "### **🔑 Thư viện & Hàm quan trọng:**\n",
        "| Thư viện/Hàm | Mục đích | Ví dụ |\n",
        "|--------------|----------|-------|\n",
        "| `requests.get(url)` | Tải nội dung từ web | `res = requests.get(url)` |\n",
        "| `BeautifulSoup(content, 'xml')` | Parse XML | `soup = BeautifulSoup(res.content, 'xml')` |\n",
        "| `soup.find_all('item')` | Tìm tất cả thẻ | `items = soup.find_all('item')` |\n",
        "| `item.find('title').text` | Lấy text trong thẻ | `title = item.find('title').text` |\n",
        "| `.str.contains()` | Tìm kiếm chuỗi | `df[df['col'].str.contains('keyword')]` |\n",
        "\n",
        "### **⚠️ Lỗi thường gặp:**\n",
        "❌ Quên import `BeautifulSoup` từ `bs4`  \n",
        "❌ Không chỉ định parser là `'xml'` (mặc định là HTML)  \n",
        "❌ Truy cập thẻ không tồn tại → gây lỗi `AttributeError`  \n",
        "❌ Quên xử lý `case=False, na=False` khi dùng `.str.contains()`\n",
        "\n",
        "### **💡 Ứng dụng thực tế:**\n",
        "- 📰 Thu thập tin tức tự động\n",
        "- 📊 Phân tích xu hướng thị trường\n",
        "- 🔔 Tạo hệ thống cảnh báo tin tức\n",
        "- 📚 Xây dựng database kiến thức\n",
        "\n",
        "---\n"
      ]
    },
    {
      "cell_type": "markdown",
      "metadata": {
        "id": "TGjTmq99RWha"
      },
      "source": [
        "# **5. Đọc và Ghi Dữ Liệu Từ Microsoft Excel**\n",
        "\n",
        "> **💡 MỤC TIÊU PHẦN NÀY:**  \n",
        "> Học cách đọc và ghi dữ liệu từ/vào file Excel  \n",
        "> \n",
        "> **🎯 KẾT QUẢ:** Sau phần này, bạn sẽ biết cách:\n",
        "> - Đọc dữ liệu từ file Excel (.xlsx, .xls)\n",
        "> - Đọc từ nhiều sheet khác nhau\n",
        "> - Ghi dữ liệu ra file Excel\n",
        "> - Làm việc với nhiều sheet cùng lúc\n",
        "\n",
        "---\n",
        "\n",
        "## **Giới thiệu**\n",
        "\n",
        "* Pandas hỗ trợ đọc/ghi tệp Excel (XLS/XLSX) qua thư viện `openpyxl` (cho XLSX) và `xlrd` (cho XLS).\n",
        "* **Cần cài đặt:** `pip install openpyxl xlrd`\n",
        "\n",
        "> **⚠️ LƯU Ý:**  \n",
        "> Nếu gặp lỗi ImportError với openpyxl, hãy upgrade:  \n",
        "> `pip install --upgrade openpyxl`  \n",
        "> (Pandas yêu cầu openpyxl version 3.1.0+)"
      ]
    },
    {
      "cell_type": "markdown",
      "metadata": {
        "id": "sw3HwnqCs9OC"
      },
      "source": [
        "## 5.1. Ví dụ 11: Đọc tệp Excel"
      ]
    },
    {
      "cell_type": "code",
      "execution_count": 18,
      "metadata": {
        "colab": {
          "base_uri": "https://localhost:8080/"
        },
        "id": "kdL3ZyZ0YYJL",
        "outputId": "b6eb6ec6-f6b5-4214-d575-f1ac3254bc46"
      },
      "outputs": [
        {
          "name": "stdout",
          "output_type": "stream",
          "text": [
            "================Sheet 2=======================\n",
            "    Datetime  AAPL  MSFT  GOOGL  AMZN\n",
            "0 2023-01-01   130   240     90   100\n",
            "1 2023-01-02   132   242     91   102\n",
            "2 2023-01-03   131   241     92   101\n",
            "3 2023-01-04   133   243     91   103\n",
            "4 2023-01-05   135   245     93   104\n",
            "5 2023-01-06   137   246     94   105\n",
            "6 2023-01-07   138   248     96   106\n",
            "7 2023-01-08   140   249     95   107\n",
            "8 2023-01-09   139   247     97   108\n",
            "9 2023-01-10   141   250     98   109\n",
            "================Sheet 1===================\n",
            "  Ho va ten  Diem_Toan  Diem_Van  Diem_Anh  Diem_Ly            Ghi_chu\n",
            "0        An         88      85.0      65.0     96.0                NaN\n",
            "1      Bình         92      57.0      98.0     52.0  Ko co gi dac biet\n",
            "2       Chi         51      73.0       NaN     87.0                NaN\n",
            "3      Dung         91      90.0      56.0     95.0                NaN\n",
            "4        Ha         67      99.0      86.0     76.0                NaN\n",
            "5      Hanh         76       NaN      72.0     90.0                NaN\n",
            "6     Khanh         58      69.0      60.0     88.0                NaN\n",
            "7       Lan         90      93.0      75.0      NaN                NaN\n",
            "8      Minh         95      72.0      91.0     67.0                NaN\n",
            "9      Ngoc         97      80.0      78.0     94.0                NaN\n"
          ]
        }
      ],
      "source": [
        "import pandas as pd                  # Thư viện xử lý dữ liệu dạng bảng\n",
        "xlsx = pd.ExcelFile(\"https://raw.githubusercontent.com/tranhungemail/DSImageCourse/main/ex6.xlsx\")\n",
        "df_excel_sheet2 = xlsx.parse(sheet_name=\"Sheet2\")\n",
        "print(\"================Sheet 2=======================\")\n",
        "print(df_excel_sheet2)\n",
        "print(\"================Sheet 1===================\")\n",
        "df_excel_sheet1 = xlsx.parse(sheet_name=\"Sheet1\")\n",
        "print(df_excel_sheet1)"
      ]
    },
    {
      "cell_type": "markdown",
      "metadata": {
        "id": "SYwHLey4oVyP"
      },
      "source": [
        "## 5.2. Ghi dữ liệu ra Excel\n",
        "**Quy trình**\n",
        "* Import thư viện pandas.\n",
        "\n",
        "* Chuẩn bị dữ liệu dưới dạng DataFrame (có thể đọc từ Excel, CSV, JSON, web, hoặc tạo trực tiếp).\n",
        "\n",
        "* Tạo đối tượng ExcelWriter hoặc chỉ định tên file Excel cần ghi.\n",
        "\n",
        "* Ghi dữ liệu từ DataFrame vào file Excel bằng .to_excel(), có thể chọn sheet_name, index, header, v.v.\n",
        "\n",
        "* Đóng writer (hoặc dùng with pd.ExcelWriter(...) as writer: để tự động đóng).\n",
        "\n",
        "**Kết quả:** Dữ liệu trong DataFrame sẽ được lưu vào file Excel mới hoặc ghi đè vào file có sẵn.\n",
        "\n"
      ]
    },
    {
      "cell_type": "code",
      "execution_count": 19,
      "metadata": {
        "id": "SbQQckgQYgyc"
      },
      "outputs": [],
      "source": [
        "import pandas as pd                  # Thư viện xử lý dữ liệu dạng bảng\n",
        "xlsx = pd.ExcelFile(\"https://raw.githubusercontent.com/tranhungemail/DSImageCourse/main/ex6.xlsx\")\n",
        "df_excel_sheet1 = xlsx.parse(sheet_name=\"Sheet1\")\n",
        "df_excel_sheet2 = xlsx.parse(sheet_name=\"Sheet2\")\n",
        "\n",
        "writer1 = pd.ExcelWriter(\"ex6_1.xlsx\")\n",
        "writer2 = pd.ExcelWriter(\"ex6_2.xlsx\")\n",
        "\n",
        "df_excel_sheet1.to_excel(writer1, sheet_name=\"Sheet1\")\n",
        "df_excel_sheet2.to_excel(writer2, sheet_name=\"Sheet2\")\n",
        "\n",
        "writer1.close()\n",
        "writer2.close()"
      ]
    },
    {
      "cell_type": "markdown",
      "metadata": {
        "id": "vPkewEfcYofC"
      },
      "source": [
        "**Giải thích:**\n",
        "\n",
        "* `pd.ExcelFile`: Tải toàn bộ tệp `Excel` để truy cập nhiều sheet.\n",
        "* `parse`: Đọc sheet cụ thể thành `DataFrame`.\n",
        "* `to_excel`: Ghi `DataFrame` ra tệp `Excel`, có thể chỉ định sheet."
      ]
    },
    {
      "cell_type": "markdown",
      "metadata": {
        "id": "QQK9MNOgaIzg"
      },
      "source": [
        "# **6. Tương Tác Với API Web**\n",
        "\n",
        "* API (Application Programming Interface - Giao diện lập trình ứng dụng) web là một giao diện cho phép các ứng dụng hoặc thiết bị khác nhau giao tiếp với nhau qua internet, thường sử dụng giao thức HTTP/HTTPS.\n",
        "* Nó hoạt động như một cầu nối, cho phép gửi yêu cầu (request) và nhận phản hồi (response) dưới dạng dữ liệu (thường là JSON hoặc XML).\n",
        "* API web cung cấp dữ liệu qua `JSON` hoặc `XML`. Thư viện `requests` là công cụ phổ biến để truy cập `API`.\n",
        "\n",
        "##Quy trình chung\n",
        "\n",
        "\n",
        "* Import thư viện requests.\n",
        "\n",
        "* Xác định URL API cần truy cập (ví dụ: danh sách tỉnh thành Việt Nam).\n",
        "\n",
        "* Gửi request đến API (thường là GET, ngoài ra có thể là POST, PUT, DELETE tuỳ mục đích).\n",
        "\n",
        "* Kiểm tra phản hồi từ server qua status_code.\n",
        "\n",
        "> * 200 → thành công.\n",
        "\n",
        "> * Các mã khác (400, 404, 500...) báo lỗi.\n",
        "\n",
        "* Xử lý dữ liệu phản hồi:\n",
        "\n",
        "> * Nếu API trả về JSON → dùng .json() để chuyển thành đối tượng Python (list/dict).\n",
        "\n",
        "> * Nếu API trả về text hoặc HTML → dùng .text.\n",
        "\n",
        "* Sử dụng dữ liệu: in ra, lưu vào file, hoặc chuyển đổi thành DataFrame để phân tích.\n",
        "\n",
        "* Xử lý lỗi (nếu có): thông báo lỗi, retry, hoặc xử lý ngoại lệ.\n",
        "\n",
        "**Ví dụ:** Lấy danh sách tỉnh thành Việt Nam:"
      ]
    },
    {
      "cell_type": "code",
      "execution_count": 20,
      "metadata": {
        "id": "EnrisJHNaVzR"
      },
      "outputs": [
        {
          "name": "stdout",
          "output_type": "stream",
          "text": [
            "Danh sách tỉnh thành Việt Nam:\n",
            "- Thành phố Hà Nội\n",
            "- Tỉnh Hà Giang\n",
            "- Tỉnh Cao Bằng\n",
            "- Tỉnh Bắc Kạn\n",
            "- Tỉnh Tuyên Quang\n",
            "- Tỉnh Lào Cai\n",
            "- Tỉnh Điện Biên\n",
            "- Tỉnh Lai Châu\n",
            "- Tỉnh Sơn La\n",
            "- Tỉnh Yên Bái\n",
            "- Tỉnh Hoà Bình\n",
            "- Tỉnh Thái Nguyên\n",
            "- Tỉnh Lạng Sơn\n",
            "- Tỉnh Quảng Ninh\n",
            "- Tỉnh Bắc Giang\n",
            "- Tỉnh Phú Thọ\n",
            "- Tỉnh Vĩnh Phúc\n",
            "- Tỉnh Bắc Ninh\n",
            "- Tỉnh Hải Dương\n",
            "- Thành phố Hải Phòng\n",
            "- Tỉnh Hưng Yên\n",
            "- Tỉnh Thái Bình\n",
            "- Tỉnh Hà Nam\n",
            "- Tỉnh Nam Định\n",
            "- Tỉnh Ninh Bình\n",
            "- Tỉnh Thanh Hóa\n",
            "- Tỉnh Nghệ An\n",
            "- Tỉnh Hà Tĩnh\n",
            "- Tỉnh Quảng Bình\n",
            "- Tỉnh Quảng Trị\n",
            "- Thành phố Huế\n",
            "- Thành phố Đà Nẵng\n",
            "- Tỉnh Quảng Nam\n",
            "- Tỉnh Quảng Ngãi\n",
            "- Tỉnh Bình Định\n",
            "- Tỉnh Phú Yên\n",
            "- Tỉnh Khánh Hòa\n",
            "- Tỉnh Ninh Thuận\n",
            "- Tỉnh Bình Thuận\n",
            "- Tỉnh Kon Tum\n",
            "- Tỉnh Gia Lai\n",
            "- Tỉnh Đắk Lắk\n",
            "- Tỉnh Đắk Nông\n",
            "- Tỉnh Lâm Đồng\n",
            "- Tỉnh Bình Phước\n",
            "- Tỉnh Tây Ninh\n",
            "- Tỉnh Bình Dương\n",
            "- Tỉnh Đồng Nai\n",
            "- Tỉnh Bà Rịa - Vũng Tàu\n",
            "- Thành phố Hồ Chí Minh\n",
            "- Tỉnh Long An\n",
            "- Tỉnh Tiền Giang\n",
            "- Tỉnh Bến Tre\n",
            "- Tỉnh Trà Vinh\n",
            "- Tỉnh Vĩnh Long\n",
            "- Tỉnh Đồng Tháp\n",
            "- Tỉnh An Giang\n",
            "- Tỉnh Kiên Giang\n",
            "- Thành phố Cần Thơ\n",
            "- Tỉnh Hậu Giang\n",
            "- Tỉnh Sóc Trăng\n",
            "- Tỉnh Bạc Liêu\n",
            "- Tỉnh Cà Mau\n"
          ]
        }
      ],
      "source": [
        "import requests\n",
        "\n",
        "# URL API lấy danh sách tỉnh thành Việt Nam\n",
        "url = \"https://provinces.open-api.vn/api/?depth=1\"\n",
        "\n",
        "# Gửi request GET đến API\n",
        "response = requests.get(url)\n",
        "\n",
        "# Kiểm tra trạng thái phản hồi\n",
        "if response.status_code == 200:\n",
        "    data = response.json()  # Dữ liệu trả về dạng JSON\n",
        "    print(\"Danh sách tỉnh thành Việt Nam:\")\n",
        "    for province in data:\n",
        "        print(f\"- {province['name']}\")\n",
        "else:\n",
        "    print(\"Không thể lấy dữ liệu. Mã lỗi:\", response.status_code)"
      ]
    },
    {
      "cell_type": "markdown",
      "metadata": {
        "id": "oqetZyjIc31O"
      },
      "source": [
        "**Giải thích:**\n",
        "\n",
        "* requests.get(url): gửi yêu cầu HTTP GET đến API.\n",
        "\n",
        "* response.json(): chuyển dữ liệu trả về từ JSON sang Python dictionary/list.\n",
        "\n",
        "* province['name']: truy xuất tên tỉnh từ dữ liệu JSON.\n",
        "\n",
        "* Nếu lỗi, in ra status_code (ví dụ: 404, 500)."
      ]
    },
    {
      "cell_type": "markdown",
      "metadata": {
        "id": "uaXu6gdglBvD"
      },
      "source": [
        "# **7. Tương Tác Với Cơ Sở Dữ Liệu (SQL)**\n",
        "`Pandas` hỗ trợ tương tác với cơ sở dữ liệu `SQL` thông qua hai phương pháp chính:\n",
        "\n",
        "* Sử dụng `sqlite3`: Đây là mô-đun tích hợp sẵn trong Python, lý tưởng cho các cơ sở dữ liệu `SQLite` nhẹ và không cần cài đặt thêm. `SQLite` lưu trữ dữ liệu trong một tệp đơn (hoặc trong bộ nhớ), phù hợp cho các ứng dụng nhỏ hoặc thử nghiệm.\n",
        "* Sử dụng `SQLAlchemy`: Thư viện này cung cấp một lớp trừu tượng hóa, cho phép làm việc với nhiều `DBMS` (`SQLite`, `MySQL`, `PostgreSQL`, v.v.) mà không cần thay đổi code nhiều. `SQLAlchemy` phù hợp cho các ứng dụng phức tạp hoặc khi làm việc với nhiều loại cơ sở dữ liệu.\n"
      ]
    },
    {
      "cell_type": "markdown",
      "metadata": {
        "id": "ztXpK9A8v-MC"
      },
      "source": [
        "\n",
        "## **7.1. Các Bước Tương Tác Với Cơ Sở Dữ Liệu**\n",
        "\n",
        "Quy trình làm việc với cơ sở dữ liệu trong `Pandas` thường bao gồm:\n",
        "\n",
        "* Kết nối đến cơ sở dữ liệu: Sử dụng `sqlite3.connect`.\n",
        "\n",
        "* Tạo bảng: Xây dựng cấu trúc bảng với các cột và kiểu dữ liệu phù hợp.\n",
        "\n",
        "* Chèn dữ liệu: Thêm dữ liệu vào bảng.\n",
        "\n",
        "* Truy vấn dữ liệu: Thực hiện truy vấn SQL và chuyển kết quả vào `DataFrame`.\n",
        "\n",
        "* Đóng kết nối: Đảm bảo tài nguyên được giải phóng sau khi sử dụng."
      ]
    },
    {
      "cell_type": "markdown",
      "metadata": {
        "id": "XNaupTekoX7e"
      },
      "source": [
        "## **7.2. Ví Dụ Sử Dụng sqlite3**\n",
        "\n",
        "Tạo một cơ sở dữ liệu `SQLite` có tên `mydata.sqlite` và một bảng `test` với các cột:\n",
        "\n",
        "a: Chuỗi ký tự (VARCHAR(20)).\n",
        "\n",
        "b: Chuỗi ký tự (VARCHAR(20)).\n",
        "\n",
        "c: Số thực (REAL).\n",
        "\n",
        "d: Số nguyên (INTEGER)."
      ]
    },
    {
      "cell_type": "code",
      "execution_count": 21,
      "metadata": {
        "id": "Lxnaekvso2hW"
      },
      "outputs": [],
      "source": [
        "import sqlite3\n",
        "\n",
        "# Kết nối đến cơ sở dữ liệu (tạo tệp mydata.sqlite nếu chưa tồn tại)\n",
        "con = sqlite3.connect(\"mydata.sqlite\")\n",
        "\n",
        "# Tạo bảng test\n",
        "query = \"\"\"\n",
        "CREATE TABLE test\n",
        "(a VARCHAR(20),\n",
        " b VARCHAR(20),\n",
        " c REAL,\n",
        " d INTEGER\n",
        ");\n",
        "\"\"\"\n",
        "\n",
        "try:\n",
        "    con.execute(query)\n",
        "    con.commit()\n",
        "except sqlite3.OperationalError as e:\n",
        "    print(f\"Lỗi khi tạo bảng (có thể bảng đã tồn tại): {e}\")"
      ]
    },
    {
      "cell_type": "markdown",
      "metadata": {
        "id": "u0le_dkrwntQ"
      },
      "source": [
        "**Giải thích:**\n",
        "\n",
        "* `sqlite3.connect(\"mydata.sqlite\")`: Tạo hoặc kết nối đến tệp cơ sở dữ liệu SQLite. Nếu tệp chưa tồn tại, nó sẽ được tạo.\n",
        "\n",
        "* Tạo bảng: Câu lệnh SQL `CREATE TABLE` định nghĩa bảng `test` với 4 cột và kiểu dữ liệu tương ứng.\n",
        "\n",
        "* `con.execute(query)`: Thực thi câu lệnh SQL để tạo bảng.\n",
        "`con.commit()`: Lưu thay đổi vào cơ sở dữ liệu.\n",
        "\n",
        "* Xử lý lỗi: Nếu bảng đã tồn tại, `OperationalError` sẽ được bắt để tránh chương trình bị dừng.\n"
      ]
    },
    {
      "cell_type": "markdown",
      "metadata": {
        "id": "ovLoYTprwTgO"
      },
      "source": [
        "\n",
        "## **7.3 Chèn Dữ Liệu**\n",
        "Chèn một số hàng dữ liệu vào bảng `test`."
      ]
    },
    {
      "cell_type": "code",
      "execution_count": 22,
      "metadata": {
        "colab": {
          "base_uri": "https://localhost:8080/"
        },
        "id": "Nq-5qAZcyi71",
        "outputId": "02713d72-f802-406a-bacc-310934fea15b"
      },
      "outputs": [
        {
          "name": "stdout",
          "output_type": "stream",
          "text": [
            "Lỗi khi tạo bảng (có thể bảng đã tồn tại): table test already exists\n",
            "Đã chèn xong\n"
          ]
        }
      ],
      "source": [
        "\n",
        "import sqlite3\n",
        "\n",
        "# Câu lệnh INSERT\n",
        "stmt = \"INSERT INTO test VALUES(?, ?, ?, ?)\"\n",
        "\n",
        "# Tạo bảng test\n",
        "query = \"\"\"\n",
        "CREATE TABLE test\n",
        "(a VARCHAR(20),\n",
        " b VARCHAR(20),\n",
        " c REAL,\n",
        " d INTEGER\n",
        ");\n",
        "\"\"\"\n",
        "\n",
        "try:\n",
        "    con.execute(query)\n",
        "    con.commit()\n",
        "except sqlite3.OperationalError as e:\n",
        "    print(f\"Lỗi khi tạo bảng (có thể bảng đã tồn tại): {e}\")\n",
        "    exit(1)\n",
        "\n",
        "# Kết nối đến cơ sở dữ liệu (tạo tệp mydata.sqlite nếu chưa tồn tại)\n",
        "con = sqlite3.connect(\"mydata.sqlite\")\n",
        "\n",
        "# Dữ liệu mẫu\n",
        "data_sql = [\n",
        "    (\"Atlanta\", \"Georgia\", 1.25, 6),\n",
        "    (\"Tallahassee\", \"Florida\", 2.6, 3),\n",
        "    (\"Sacramento\", \"California\", 1.7, 5)\n",
        "]\n",
        "\n",
        "try:\n",
        "    con.executemany(stmt, data_sql)\n",
        "    con.commit()\n",
        "    print(f\"Đã chèn xong\")\n",
        "except sqlite3.IntegrityError as e:\n",
        "    print(f\"Lỗi khi chèn dữ liệu (có thể dữ liệu đã tồn tại): {e}\")"
      ]
    },
    {
      "cell_type": "markdown",
      "metadata": {
        "id": "9UtcMiH8yxEn"
      },
      "source": [
        "**Giải thích:**\n",
        "\n",
        "* `data_sql`: Danh sách các tuple, mỗi tuple tương ứng với một hàng dữ liệu cho bảng `test`.\n",
        "\n",
        "* `executemany`: Chèn nhiều hàng cùng lúc, sử dụng dấu ? làm `placeholder`.\n",
        "\n",
        "* `con.commit()`: Lưu dữ liệu vào cơ sở dữ liệu.\n",
        "\n",
        "* Xử lý lỗi: Bắt lỗi `IntegrityError` để xử lý các vấn đề như trùng khóa chính hoặc vi phạm ràng buộc."
      ]
    },
    {
      "cell_type": "markdown",
      "metadata": {
        "id": "bSlgW9wWzas_"
      },
      "source": [
        "## **7.4. Truy Vấn Dữ Liệu**\n",
        "\n",
        "Sử dụng `sqlite3` để truy vấn dữ liệu từ bảng `test` và chuyển vào `DataFrame`."
      ]
    },
    {
      "cell_type": "code",
      "execution_count": 23,
      "metadata": {
        "colab": {
          "base_uri": "https://localhost:8080/"
        },
        "id": "OzxsQoWd1kkL",
        "outputId": "f627e7f3-2b27-40f6-d235-2716b7aa4341"
      },
      "outputs": [
        {
          "name": "stdout",
          "output_type": "stream",
          "text": [
            "             a           b     c  d\n",
            "0      Atlanta     Georgia  1.25  6\n",
            "1  Tallahassee     Florida  2.60  3\n",
            "2   Sacramento  California  1.70  5\n"
          ]
        }
      ],
      "source": [
        "import sqlite3\n",
        "con = sqlite3.connect(\"mydata.sqlite\")\n",
        "\n",
        "# Truy vấn tất cả dữ liệu từ bảng test\n",
        "cursor = con.execute(\"SELECT * FROM test\")\n",
        "rows = cursor.fetchall()\n",
        "\n",
        "# Chuyển kết quả thành DataFrame\n",
        "df_sqlite = pd.DataFrame(rows, columns=[x[0] for x in cursor.description])\n",
        "print(df_sqlite)"
      ]
    },
    {
      "cell_type": "markdown",
      "metadata": {
        "id": "HFnF1Y4q3FkT"
      },
      "source": [
        "**Giải thích:**\n",
        "\n",
        "* `con.execute(\"SELECT * FROM test\")`: Thực thi truy vấn `SQL` để lấy tất cả dữ liệu từ bảng `test`.\n",
        "* `cursor.fetchall()`: Trả về danh sách các `tuple`, mỗi `tuple` là một hàng dữ liệu.\n",
        "* `cursor.description`: Chứa thông tin cột, ở đây lấy tên cột (a, b, c, d) để tạo `DataFrame`.\n",
        "* Tạo `DataFrame`: Sử dụng danh sách `tuple` và tên cột để xây dựng `DataFrame`."
      ]
    },
    {
      "cell_type": "markdown",
      "metadata": {
        "id": "JHvtxOug4CVQ"
      },
      "source": [
        "## **7.5. Đóng Kết Nối**\n",
        "\n",
        "Đóng kết nối để giải phóng tài nguyên."
      ]
    },
    {
      "cell_type": "code",
      "execution_count": 24,
      "metadata": {
        "id": "jBCRgKxO4OHx"
      },
      "outputs": [],
      "source": [
        "con.close()"
      ]
    },
    {
      "cell_type": "markdown",
      "metadata": {
        "id": "jqQRBMR3egu9"
      },
      "source": [
        "**Giải thích:**\n",
        "* `con.close()`: Đóng kết nối SQLite để tránh rò rỉ tài nguyên.\n",
        "* Nếu cần xóa tệp cơ sở dữ liệu sau khi thử nghiệm:"
      ]
    },
    {
      "cell_type": "code",
      "execution_count": 25,
      "metadata": {
        "id": "U4xeWu_zerDP"
      },
      "outputs": [],
      "source": [
        "import os\n",
        "if os.path.exists(\"mydata.sqlite\"):\n",
        "    os.remove(\"mydata.sqlite\")"
      ]
    },
    {
      "cell_type": "markdown",
      "metadata": {},
      "source": [
        "---\n",
        "\n",
        "# 🎯 **TỔNG KẾT BÀI GIẢNG**\n",
        "\n",
        "## **📚 Tóm tắt toàn bộ nội dung**\n",
        "\n",
        "Trong bài giảng này, chúng ta đã học cách nhập dữ liệu từ 7 nguồn khác nhau:\n",
        "\n",
        "| STT | Nguồn dữ liệu | Hàm chính | Độ khó |\n",
        "|-----|--------------|-----------|--------|\n",
        "| 1️⃣ | **File CSV** | `pd.read_csv()` | ⭐ Dễ |\n",
        "| 2️⃣ | **File JSON** | `pd.read_json()` | ⭐ Dễ |\n",
        "| 3️⃣ | **Trang Web (HTML)** | `pd.read_html()` | ⭐⭐ Trung bình |\n",
        "| 4️⃣ | **RSS Feed (XML)** | `BeautifulSoup + pd.DataFrame()` | ⭐⭐⭐ Khó |\n",
        "| 5️⃣ | **File Excel** | `pd.read_excel()` | ⭐⭐ Trung bình |\n",
        "| 6️⃣ | **Web API** | `requests.get() + .json()` | ⭐⭐ Trung bình |\n",
        "| 7️⃣ | **SQL Database** | `pd.read_sql()` hoặc `sqlite3` | ⭐⭐⭐ Khó |\n",
        "\n",
        "---\n",
        "\n",
        "## **🔑 Các kỹ năng quan trọng đã học:**\n",
        "\n",
        "### **1. Đọc dữ liệu**\n",
        "- ✅ CSV: `pd.read_csv(path)` với các tham số: `header`, `names`, `index_col`, `sep`, `skiprows`\n",
        "- ✅ JSON: `pd.read_json(path)`\n",
        "- ✅ HTML: `pd.read_html(url)` → trả về **list** DataFrame\n",
        "- ✅ XML/RSS: `BeautifulSoup` + vòng lặp + `pd.DataFrame()`\n",
        "- ✅ Excel: `pd.ExcelFile()` + `.parse(sheet_name)`\n",
        "- ✅ API: `requests.get()` + `.json()`\n",
        "- ✅ SQL: `sqlite3.connect()` + `.execute()`\n",
        "\n",
        "### **2. Xử lý dữ liệu**\n",
        "- ✅ Kiểm tra dữ liệu thiếu: `.isnull()`, `.isnull().sum()`\n",
        "- ✅ Xử lý dữ liệu thiếu: `.dropna()`, `.fillna()`\n",
        "- ✅ Chuyển đổi kiểu: `pd.to_datetime()`\n",
        "- ✅ Trích xuất thông tin: `.dt.year`, `.dt.month`\n",
        "\n",
        "### **3. Lưu dữ liệu**\n",
        "- ✅ Lưu CSV: `.to_csv(filename)`\n",
        "- ✅ Lưu Excel: `.to_excel(writer, sheet_name)`\n",
        "\n",
        "### **4. Phân tích dữ liệu**\n",
        "- ✅ Đếm theo nhóm: `.value_counts()`\n",
        "- ✅ Lọc dữ liệu: Boolean indexing, `.str.contains()`\n",
        "- ✅ Sắp xếp: `.sort_index()`, `.sort_values()`\n",
        "\n",
        "---\n"
      ]
    },
    {
      "cell_type": "markdown",
      "metadata": {},
      "source": [
        "---\n",
        "\n",
        "# 🏋️ **BÀI TẬP THỰC HÀNH**\n",
        "\n",
        "## **Phần 1: Bài tập cơ bản (⭐)**\n",
        "\n",
        "### **Bài 1.1: Đọc CSV từ GitHub**\n",
        "Đọc file dữ liệu điểm sinh viên từ URL sau và hiển thị 10 dòng đầu:\n",
        "```\n",
        "https://raw.githubusercontent.com/tranhungemail/DSImageCourse/main/ex1.csv\n",
        "```\n",
        "\n",
        "**Gợi ý:** Sử dụng `pd.read_csv()` và `.head(10)`\n",
        "\n",
        "---\n",
        "\n",
        "### **Bài 1.2: Kiểm tra dữ liệu thiếu**\n",
        "Từ file ở Bài 1.1:\n",
        "1. Kiểm tra xem có bao nhiêu dữ liệu thiếu trong mỗi cột\n",
        "2. Loại bỏ các dòng có dữ liệu thiếu\n",
        "3. In ra số dòng còn lại\n",
        "\n",
        "**Gợi ý:** `.isnull().sum()`, `.dropna()`, `len(df)`\n",
        "\n",
        "---\n",
        "\n",
        "## **Phần 2: Bài tập trung bình (⭐⭐)**\n",
        "\n",
        "### **Bài 2.1: Đọc bảng từ Wikipedia**\n",
        "Đọc bảng GDP của các quốc gia từ Wikipedia:\n",
        "```\n",
        "https://vi.wikipedia.org/wiki/Danh_sách_quốc_gia_theo_GDP_(danh_nghĩa)\n",
        "```\n",
        "\n",
        "**Yêu cầu:**\n",
        "1. Đọc tất cả bảng từ trang web\n",
        "2. In ra số lượng bảng tìm được\n",
        "3. Chọn và hiển thị bảng phù hợp nhất\n",
        "\n",
        "**Gợi ý:** `pd.read_html()`, `len(tables)`, `tables[0]`\n",
        "\n",
        "---\n",
        "\n",
        "### **Bài 2.2: Đọc RSS từ VNExpress**\n",
        "Đọc RSS tin tức từ VNExpress:\n",
        "```\n",
        "https://vnexpress.net/rss/kinh-doanh.rss\n",
        "```\n",
        "\n",
        "**Yêu cầu:**\n",
        "1. Đọc và parse RSS feed\n",
        "2. Chuyển thành DataFrame\n",
        "3. Đếm số lượng bản tin\n",
        "4. Tìm bản tin có từ \"chứng khoán\" trong tiêu đề\n",
        "\n",
        "**Gợi ý:** `requests`, `BeautifulSoup`, `.str.contains()`\n",
        "\n",
        "---\n",
        "\n",
        "## **Phần 3: Bài tập nâng cao (⭐⭐⭐)**\n",
        "\n",
        "### **Bài 3.1: Thu thập và so sánh dữ liệu**\n",
        "**Đề bài:** Thu thập dữ liệu giá Bitcoin từ API\n",
        "\n",
        "API: `https://api.coindesk.com/v1/bpi/currentprice.json`\n",
        "\n",
        "**Yêu cầu:**\n",
        "1. Gửi request đến API\n",
        "2. Parse JSON response\n",
        "3. Trích xuất giá Bitcoin theo USD, EUR, GBP\n",
        "4. Tạo DataFrame với 3 cột: Currency, Price, Description\n",
        "\n",
        "**Gợi ý:** `requests.get()`, `.json()`, `pd.DataFrame()`\n",
        "\n",
        "---\n",
        "\n",
        "### **Bài 3.2: Phân tích đa nguồn**\n",
        "**Đề bài:** Kết hợp dữ liệu từ nhiều nguồn\n",
        "\n",
        "**Bước 1:** Đọc dữ liệu tỉnh thành từ API: `https://provinces.open-api.vn/api/?depth=1`\n",
        "\n",
        "**Bước 2:** Đếm số tỉnh thành theo khu vực (Miền Bắc, Trung, Nam)\n",
        "\n",
        "**Bước 3:** Lưu kết quả ra file Excel với sheet tên \"Tinh_Thanh\"\n",
        "\n",
        "**Gợi ý:** Cần tự phân loại khu vực dựa trên tên tỉnh\n",
        "\n",
        "---\n",
        "\n",
        "### **Bài 3.3: Mini Project**\n",
        "**Đề bài:** Xây dựng hệ thống theo dõi tin tức chứng khoán\n",
        "\n",
        "**Yêu cầu:**\n",
        "1. Đọc RSS từ ít nhất 2 nguồn (CafeF, VNExpress)\n",
        "2. Gộp dữ liệu thành một DataFrame\n",
        "3. Lọc tin về các mã cổ phiếu: VNM, VCB, HPG\n",
        "4. Lưu kết quả ra Excel với mỗi mã một sheet\n",
        "5. Đếm số tin tức về mỗi mã\n",
        "\n",
        "**Bonus:** Tạo biểu đồ cột (bar chart) cho số lượng tin về mỗi mã\n",
        "\n",
        "---\n"
      ]
    },
    {
      "cell_type": "markdown",
      "metadata": {},
      "source": [
        "---\n",
        "\n",
        "# 💡 **TIPS & TRICKS CHO SINH VIÊN**\n",
        "\n",
        "## **📖 Cách học hiệu quả:**\n",
        "\n",
        "### **1. Học theo thứ tự độ khó tăng dần**\n",
        "```\n",
        "CSV → JSON → Excel → Web HTML → API → RSS/XML → SQL\n",
        "⭐     ⭐      ⭐⭐      ⭐⭐        ⭐⭐    ⭐⭐⭐      ⭐⭐⭐\n",
        "```\n",
        "\n",
        "### **2. Thực hành thường xuyên**\n",
        "- ✅ Chạy lại từng ví dụ trong bài giảng\n",
        "- ✅ Thay đổi tham số để xem kết quả khác nhau\n",
        "- ✅ Áp dụng vào dữ liệu thực tế (điểm thi, doanh thu, v.v.)\n",
        "\n",
        "### **3. Xử lý lỗi đúng cách**\n",
        "```python\n",
        "# Luôn kiểm tra trước khi truy cập\n",
        "if len(tables) > 0:\n",
        "    df = tables[0]\n",
        "else:\n",
        "    print(\"Không tìm thấy bảng nào!\")\n",
        "    \n",
        "# Xử lý exception\n",
        "try:\n",
        "    df = pd.read_csv(url)\n",
        "except Exception as e:\n",
        "    print(f\"Lỗi: {e}\")\n",
        "```\n",
        "\n",
        "---\n",
        "\n",
        "## **⚠️ Những sai lầm thường gặp:**\n",
        "\n",
        "### **Top 5 lỗi phổ biến:**\n",
        "\n",
        "**1. Quên kiểu dữ liệu trả về**\n",
        "```python\n",
        "# ❌ SAI\n",
        "tables = pd.read_html(url)\n",
        "print(tables.head())  # Lỗi! tables là list, không phải DataFrame\n",
        "\n",
        "# ✅ ĐÚNG\n",
        "tables = pd.read_html(url)\n",
        "df = tables[0]\n",
        "print(df.head())\n",
        "```\n",
        "\n",
        "**2. Không kiểm tra dữ liệu thiếu**\n",
        "```python\n",
        "# ❌ SAI - Trực tiếp tính toán\n",
        "df['total'] = df['a'] + df['b']  # Có thể bị NaN\n",
        "\n",
        "# ✅ ĐÚNG - Kiểm tra và xử lý trước\n",
        "print(df.isnull().sum())\n",
        "df = df.dropna()  # hoặc fillna()\n",
        "df['total'] = df['a'] + df['b']\n",
        "```\n",
        "\n",
        "**3. Đọc lại dữ liệu không cần thiết**\n",
        "```python\n",
        "# ❌ SAI - Đọc lại nhiều lần\n",
        "df1 = pd.read_csv(url)\n",
        "df2 = pd.read_csv(url)  # Tải lại từ web!\n",
        "\n",
        "# ✅ ĐÚNG - Đọc một lần, dùng nhiều lần\n",
        "df = pd.read_csv(url)\n",
        "df1 = df.copy()\n",
        "df2 = df.copy()\n",
        "```\n",
        "\n",
        "**4. Không xử lý encoding**\n",
        "```python\n",
        "# ❌ SAI\n",
        "df = pd.read_csv(\"file_tieng_viet.csv\")  # Có thể lỗi với tiếng Việt\n",
        "\n",
        "# ✅ ĐÚNG\n",
        "df = pd.read_csv(\"file_tieng_viet.csv\", encoding='utf-8')\n",
        "# Hoặc encoding='latin-1' nếu utf-8 không work\n",
        "```\n",
        "\n",
        "**5. Quên đóng kết nối database**\n",
        "```python\n",
        "# ❌ SAI\n",
        "con = sqlite3.connect(\"db.sqlite\")\n",
        "# ... làm việc ...\n",
        "# Không đóng kết nối → rò rỉ tài nguyên\n",
        "\n",
        "# ✅ ĐÚNG\n",
        "con = sqlite3.connect(\"db.sqlite\")\n",
        "# ... làm việc ...\n",
        "con.close()  # Luôn đóng kết nối!\n",
        "```\n",
        "\n",
        "---\n",
        "\n",
        "## **🚀 Lộ trình học tiếp:**\n",
        "\n",
        "### **Bước tiếp theo:**\n",
        "1. **Bài 5: Data Cleaning** - Làm sạch và chuẩn hóa dữ liệu\n",
        "2. **Bài 6: Data Transformation** - Biến đổi và tạo features mới\n",
        "3. **Bài 7: Data Visualization** - Vẽ biểu đồ và trực quan hóa\n",
        "4. **Bài 8: Machine Learning** - Xây dựng mô hình dự đoán\n",
        "\n",
        "### **Tài liệu tham khảo:**\n",
        "- 📚 Pandas Documentation: https://pandas.pydata.org/docs/\n",
        "- 📚 BeautifulSoup: https://www.crummy.com/software/BeautifulSoup/bs4/doc/\n",
        "- 📚 Requests: https://requests.readthedocs.io/\n",
        "\n",
        "---\n",
        "\n",
        "## ✅ **Checklist trước khi kết thúc:**\n",
        "\n",
        "- [ ] Đã chạy thử tất cả code cells\n",
        "- [ ] Hiểu rõ sự khác biệt giữa các định dạng (CSV, JSON, XML)\n",
        "- [ ] Biết cách xử lý dữ liệu thiếu\n",
        "- [ ] Biết cách lọc và phân tích dữ liệu\n",
        "- [ ] Đã thử làm ít nhất 2 bài tập\n",
        "- [ ] Đã lưu notebook và kết quả\n",
        "\n",
        "---\n",
        "\n",
        "# 🎓 **KẾT THÚC BÀI GIẢNG**\n",
        "\n",
        "> **Chúc các bạn học tốt và thành công trong việc ứng dụng Data Science vào thực tế!** 🚀\n",
        "> \n",
        "> **Câu hỏi?** Liên hệ giảng viên qua email hoặc trong giờ học.\n",
        "\n",
        "**Bài giảng tiếp theo:** Tiền xử lý và làm sạch dữ liệu (Data Preprocessing & Cleaning)\n"
      ]
    }
  ],
  "metadata": {
    "colab": {
      "collapsed_sections": [
        "QQK9MNOgaIzg"
      ],
      "provenance": [],
      "toc_visible": true
    },
    "kernelspec": {
      "display_name": "ehr-datasets",
      "language": "python",
      "name": "python3"
    },
    "language_info": {
      "codemirror_mode": {
        "name": "ipython",
        "version": 3
      },
      "file_extension": ".py",
      "mimetype": "text/x-python",
      "name": "python",
      "nbconvert_exporter": "python",
      "pygments_lexer": "ipython3",
      "version": "3.9.23"
    }
  },
  "nbformat": 4,
  "nbformat_minor": 0
}
